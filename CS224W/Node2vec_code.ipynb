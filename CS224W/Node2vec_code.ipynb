{
  "nbformat": 4,
  "nbformat_minor": 0,
  "metadata": {
    "colab": {
      "provenance": [],
      "authorship_tag": "ABX9TyMGnLbswT20S+hU786APIdU",
      "include_colab_link": true
    },
    "kernelspec": {
      "name": "python3",
      "display_name": "Python 3"
    },
    "language_info": {
      "name": "python"
    }
  },
  "cells": [
    {
      "cell_type": "markdown",
      "metadata": {
        "id": "view-in-github",
        "colab_type": "text"
      },
      "source": [
        "<a href=\"https://colab.research.google.com/github/xxxcrttt/MLDL/blob/main/CS224W/Node2vec_code.ipynb\" target=\"_parent\"><img src=\"https://colab.research.google.com/assets/colab-badge.svg\" alt=\"Open In Colab\"/></a>"
      ]
    },
    {
      "cell_type": "markdown",
      "source": [
        "# Node2Vec 官方作者 Aditya Grover 代码讲解"
      ],
      "metadata": {
        "id": "HgSJ0nZZ183s"
      }
    },
    {
      "cell_type": "code",
      "source": [
        "# 导入工具包\n",
        "import warnings \n",
        "warnings.filterwarnings('ignore')\n",
        "import argparse\n",
        "import numpy as np \n",
        "import networkx as nx \n",
        "from gensim.models import word2vec\n",
        "import random\n",
        "\n",
        "import matplotlib.pyplot as plt\n",
        "%matplotlib inline "
      ],
      "metadata": {
        "id": "wgScPF3_17DS"
      },
      "execution_count": 40,
      "outputs": []
    },
    {
      "cell_type": "code",
      "source": [
        "# 读取命令行参数\n",
        "def parse_args():\n",
        "\t'''\n",
        "\tParses the node2vec arguments.\n",
        "\t'''\n",
        "  # 使用parser加载信息\n",
        "\tparser = argparse.ArgumentParser(description=\"Run node2vec.\")\n",
        "  # 输入文件：邻接表\n",
        "\tparser.add_argument('--input', nargs='?', default='graph/karate.edgelist',\n",
        "\t                    help='Input graph path')\n",
        "  # 输出文件：节点嵌入表\n",
        "\tparser.add_argument('--output', nargs='?', default='emb/karate.emb',\n",
        "\t                    help='Embeddings path')\n",
        "  # embedding 嵌入向量维度\n",
        "\tparser.add_argument('--dimensions', type=int, default=128,\n",
        "\t                    help='Number of dimensions. Default is 128.')\n",
        "  # 随机游走序列长度\n",
        "\tparser.add_argument('--walk-length', type=int, default=80,\n",
        "\t                    help='Length of walk per source. Default is 80.')\n",
        "  # 每个节点生成随机游走序列次数\n",
        "\tparser.add_argument('--num-walks', type=int, default=10,\n",
        "\t                    help='Number of walks per source. Default is 10.')\n",
        "  # word2vec 窗口大小，word2vec 参数\n",
        "\tparser.add_argument('--window-size', type=int, default=10,\n",
        "                    \thelp='Context size for optimization. Default is 10.')\n",
        "  # SGD 优化时epoch 数量，word2vec 参数\n",
        "\tparser.add_argument('--iter', default=1, type=int,\n",
        "                      help='Number of epochs in SGD')\n",
        "  # 并行化核数，word2vec 参数\n",
        "\tparser.add_argument('--workers', type=int, default=8,\n",
        "\t                    help='Number of parallel workers. Default is 8.')\n",
        "  # 参数 p\n",
        "\tparser.add_argument('--p', type=float, default=1,\n",
        "\t                    help='Return hyperparameter. Default is 1.')\n",
        "  # 参数 q\n",
        "\tparser.add_argument('--q', type=float, default=1,\n",
        "\t                    help='Inout hyperparameter. Default is 1.')\n",
        "  # 连接是否带有权重\n",
        "\tparser.add_argument('--weighted', dest='weighted', action='store_true',\n",
        "\t                    help='Boolean specifying (un)weighted. Default is unweighted.')\n",
        "\tparser.add_argument('--unweighted', dest='unweighted', action='store_false')\n",
        "\tparser.set_defaults(weighted=False)\n",
        "  # 有向图 or 无向图\n",
        "\tparser.add_argument('--directed', dest='directed', action='store_true',\n",
        "\t                    help='Graph is (un)directed. Default is undirected.')\n",
        "\tparser.add_argument('--undirected', dest='undirected', action='store_false')\n",
        "\tparser.set_defaults(directed=False)\n",
        "\n",
        "\treturn parser.parse_args(args=[])\n",
        " \n",
        "args = parse_args()"
      ],
      "metadata": {
        "id": "d_EyuYHu2953"
      },
      "execution_count": 44,
      "outputs": []
    },
    {
      "cell_type": "code",
      "source": [
        "args"
      ],
      "metadata": {
        "colab": {
          "base_uri": "https://localhost:8080/"
        },
        "id": "_us9oNKv4Nju",
        "outputId": "fb30fdc7-efdf-4184-d529-0347f1c8f295"
      },
      "execution_count": 45,
      "outputs": [
        {
          "output_type": "execute_result",
          "data": {
            "text/plain": [
              "Namespace(input='graph/karate.edgelist', output='emb/karate.emb', dimensions=128, walk_length=80, num_walks=10, window_size=10, iter=1, workers=8, p=1, q=1, weighted=False, unweighted=True, directed=False, undirected=True)"
            ]
          },
          "metadata": {},
          "execution_count": 45
        }
      ]
    },
    {
      "cell_type": "markdown",
      "source": [
        "## 载入图"
      ],
      "metadata": {
        "id": "R2i7ORY24d4O"
      }
    },
    {
      "cell_type": "code",
      "source": [
        "# 连接带权重\n",
        "if args.weighted:\n",
        "  G = nx.read_edgelist(args.input, nodetype=int, data=(('weight', float),),create_using=nx.DiGraph())\n",
        "\n",
        "# 连接不带权重 -- 给每个连接随机赋予一个权重\n",
        "else:\n",
        "  G = nx.read_edgelist(args.input, nodetype=int, create_using=nx.DiGraph())\n",
        "  for edge in G.edges():\n",
        "    G[edge[0]][edge[1]]['weight'] = np.abs(np.random.randn())\n",
        "\n",
        "# 无向图\n",
        "if not args.directed:\n",
        "  G = G.to_undirected()"
      ],
      "metadata": {
        "id": "Wg9ncMMN4fXS"
      },
      "execution_count": null,
      "outputs": []
    },
    {
      "cell_type": "markdown",
      "source": [
        "## Alias sampling "
      ],
      "metadata": {
        "id": "6QB1hj9m7SVs"
      }
    },
    {
      "cell_type": "code",
      "source": [
        "def alias_setup(probs):\n",
        "\t'''\n",
        "\tCompute utility lists for non-uniform sampling from discrete distributions.\n",
        "\tRefer to https://hips.seas.harvard.edu/blog/2013/03/03/the-alias-method-efficient-sampling-with-many-discrete-outcomes/\n",
        "\tfor details\n",
        "\t'''\n",
        "\tK = len(probs)\n",
        "\tq = np.zeros(K)\n",
        "\tJ = np.zeros(K, dtype=np.int)\n",
        "\n",
        "\tsmaller = []\n",
        "\tlarger = []\n",
        "\n",
        "  # 将各个概率分成两组, 一组的概率值 > 1, 另一组的概率值 < 1\n",
        "\tfor kk, prob in enumerate(probs):\n",
        "   # 每类事件的概率 X 事件个数\n",
        "\t    q[kk] = K*prob \n",
        "      # 判定 \"劫富\" 和 \"济贫\" 的对象\n",
        "\t    if q[kk] < 1.0:\n",
        "\t        smaller.append(kk)\n",
        "\t    else:\n",
        "\t        larger.append(kk)\n",
        "         \n",
        "  # 使用谈心算法，将概率值 < 1 的不断填满\n",
        "  # pseudo code step 3\n",
        "\twhile len(smaller) > 0 and len(larger) > 0:\n",
        "\t    small = smaller.pop()\n",
        "\t    large = larger.pop()\n",
        "\n",
        "\t    J[small] = large\n",
        "      # 更新概率值\n",
        "\t    q[large] = q[large] + q[small] - 1.0\n",
        "\t    if q[large] < 1.0:\n",
        "\t        smaller.append(large)\n",
        "\t    else:\n",
        "\t        larger.append(large)\n",
        "\n",
        "\treturn J, q"
      ],
      "metadata": {
        "id": "dmw1aaRl6V_w"
      },
      "execution_count": 51,
      "outputs": []
    },
    {
      "cell_type": "code",
      "source": [
        "def alias_draw(J, q):\n",
        "\t'''\n",
        "\tDraw sample from a non-uniform discrete distribution using alias sampling.\n",
        "\t'''\n",
        "\tK = len(J) # 事件个数\n",
        "\n",
        "\tkk = int(np.floor(np.random.rand()*K))\n",
        "\tif np.random.rand() < q[kk]:\n",
        "\t    return kk # 取自己本来对应的事件\n",
        "\telse:\n",
        "\t    return J[kk] # 取alias 事件"
      ],
      "metadata": {
        "id": "0rafQ9fWUD2y"
      },
      "execution_count": null,
      "outputs": []
    },
    {
      "cell_type": "code",
      "source": [
        "def get_alias_edge(self, src, dst):\n",
        "\t\t'''\n",
        "\t\tGet the alias edge setup lists for a given edge.\n",
        "\t\t'''\n",
        "\t\tG = self.G\n",
        "\t\tp = self.p\n",
        "\t\tq = self.q\n",
        "\n",
        "\t\tunnormalized_probs = []\n",
        "    # 论文3.2核心算法，计算各条边的转移权重\n",
        "\t\tfor dst_nbr in sorted(G.neighbors(dst)):\n",
        "\t\t\tif dst_nbr == src:\n",
        "\t\t\t\tunnormalized_probs.append(G[dst][dst_nbr]['weight']/p)\n",
        "\t\t\telif G.has_edge(dst_nbr, src):\n",
        "\t\t\t\tunnormalized_probs.append(G[dst][dst_nbr]['weight'])\n",
        "\t\t\telse:\n",
        "\t\t\t\tunnormalized_probs.append(G[dst][dst_nbr]['weight']/q)\n",
        "    # 归一化各条边的转移权重\n",
        "\t\tnorm_const = sum(unnormalized_probs)\n",
        "\t\tnormalized_probs =  [float(u_prob)/norm_const for u_prob in unnormalized_probs]\n",
        "\n",
        "    # 执行 alias samping\n",
        "\t\treturn alias_setup(normalized_probs)"
      ],
      "metadata": {
        "id": "9pZJWlNgUPYB"
      },
      "execution_count": null,
      "outputs": []
    },
    {
      "cell_type": "markdown",
      "source": [
        "## 生成一条随机游走序列"
      ],
      "metadata": {
        "id": "YUAqNOrdU9wz"
      }
    },
    {
      "cell_type": "code",
      "source": [
        "def node2vec_walk(self, walk_length, start_node):\n",
        "\t\t'''\n",
        "\t\tSimulate a random walk starting from start node.\n",
        "    从指定的起始节点，生成一个随机游走序列\n",
        "\t\t'''\n",
        "\n",
        "\t\tG = self.G\n",
        "\t\talias_nodes = self.alias_nodes\n",
        "\t\talias_edges = self.alias_edges\n",
        "\n",
        "    # 上一步计算出的 alias table, 完成O(1)的采样\n",
        "\t\twalk = [start_node]\n",
        "\n",
        "    # 直到生成长度为 walk_length 的节点序列为止\n",
        "\t\twhile len(walk) < walk_length:\n",
        "\t\t\tcur = walk[-1]\n",
        "      # 对邻居节点排序, 目的是和 alias table 计算时的顺序对应起来\n",
        "\t\t\tcur_nbrs = sorted(G.neighbors(cur))\n",
        "\t\t\tif len(cur_nbrs) > 0:\n",
        "        # 节点序列只有一个节点的情况\n",
        "\t\t\t\tif len(walk) == 1:\n",
        "\t\t\t\t\twalk.append(cur_nbrs[alias_draw(alias_nodes[cur][0], alias_nodes[cur][1])])\n",
        "     # 节点序列大于一个节点的情况\n",
        "\t\t\t\telse:\n",
        "          # 看前一个节点，prev 是节点 t\n",
        "\t\t\t\t\tprev = walk[-2]\n",
        "\t\t\t\t\tnext = cur_nbrs[alias_draw(alias_edges[(prev, cur)][0], \n",
        "\t\t\t\t\t\talias_edges[(prev, cur)][1])]\n",
        "\t\t\t\t\twalk.append(next)\n",
        "\t\t\telse:\n",
        "\t\t\t\tbreak\n",
        "\n",
        "\t\treturn walk"
      ],
      "metadata": {
        "id": "hSieHcZXVAU8"
      },
      "execution_count": null,
      "outputs": []
    },
    {
      "cell_type": "markdown",
      "source": [
        "## 采样得到所有随机游走序列"
      ],
      "metadata": {
        "id": "EDhczOZfWJ1n"
      }
    },
    {
      "cell_type": "code",
      "source": [
        "def simulate_walks(self, num_walks, walk_length):\n",
        "\t\t'''\n",
        "\t\tRepeatedly simulate random walks from each node.\n",
        "    图中每个节点作为起始节点，生成 num_walk 个随机游走序列\n",
        "\t\t'''\n",
        "\t\tG = self.G\n",
        "\t\twalks = []\n",
        "\t\tnodes = list(G.nodes())\n",
        "\t\tprint 'Walk iteration:'\n",
        "\t\tfor walk_iter in range(num_walks):\n",
        "\t\t\tprint str(walk_iter+1), '/', str(num_walks)\n",
        "   # 打乱节点顺序\n",
        "\t\t\trandom.shuffle(nodes)\n",
        "\t\t\tfor node in nodes:\n",
        "\t\t\t\twalks.append(self.node2vec_walk(walk_length=walk_length, start_node=node))\n",
        "\n",
        "\t\treturn walks"
      ],
      "metadata": {
        "id": "1M2XmibjWG8f"
      },
      "execution_count": null,
      "outputs": []
    }
  ]
}