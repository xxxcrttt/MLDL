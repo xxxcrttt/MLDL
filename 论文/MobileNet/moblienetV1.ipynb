{
  "nbformat": 4,
  "nbformat_minor": 0,
  "metadata": {
    "colab": {
      "name": "moblienetV1",
      "provenance": [],
      "authorship_tag": "ABX9TyN2q8zDFhAY5r1yKPZRTgp9",
      "include_colab_link": true
    },
    "kernelspec": {
      "name": "python3",
      "display_name": "Python 3"
    },
    "language_info": {
      "name": "python"
    }
  },
  "cells": [
    {
      "cell_type": "markdown",
      "metadata": {
        "id": "view-in-github",
        "colab_type": "text"
      },
      "source": [
        "<a href=\"https://colab.research.google.com/github/xxxcrttt/MLDL/blob/main/MobileNet/moblienetV1.ipynb\" target=\"_parent\"><img src=\"https://colab.research.google.com/assets/colab-badge.svg\" alt=\"Open In Colab\"/></a>"
      ]
    },
    {
      "cell_type": "code",
      "execution_count": null,
      "metadata": {
        "colab": {
          "base_uri": "https://localhost:8080/",
          "height": 35
        },
        "id": "n0Uzuzh6TVak",
        "outputId": "2732c577-611d-4461-ee62-fc2c03a820e2"
      },
      "outputs": [
        {
          "output_type": "execute_result",
          "data": {
            "text/plain": [
              "'2.8.0'"
            ],
            "application/vnd.google.colaboratory.intrinsic+json": {
              "type": "string"
            }
          },
          "metadata": {},
          "execution_count": 1
        }
      ],
      "source": [
        "# import libararies\n",
        "import keras\n",
        "keras.__version__"
      ]
    },
    {
      "cell_type": "code",
      "source": [
        "import tensorflow as tf\n",
        "tf.__version__"
      ],
      "metadata": {
        "colab": {
          "base_uri": "https://localhost:8080/",
          "height": 35
        },
        "id": "OeN2fwlPTgbm",
        "outputId": "1e10be19-b0da-45c7-e576-7f065ca9795a"
      },
      "execution_count": null,
      "outputs": [
        {
          "output_type": "execute_result",
          "data": {
            "text/plain": [
              "'2.8.2'"
            ],
            "application/vnd.google.colaboratory.intrinsic+json": {
              "type": "string"
            }
          },
          "metadata": {},
          "execution_count": 3
        }
      ]
    },
    {
      "cell_type": "code",
      "source": [
        "import numpy as np\n",
        "import matplotlib.pyplot as plt\n",
        "%matplotlib inline"
      ],
      "metadata": {
        "id": "pXYCooBTTkcF"
      },
      "execution_count": null,
      "outputs": []
    },
    {
      "cell_type": "markdown",
      "source": [
        "### 导入MoblineNet V1 预训练模型"
      ],
      "metadata": {
        "id": "v6g6HYhiTs9t"
      }
    },
    {
      "cell_type": "code",
      "source": [
        "from tensorflow.keras.applications import MobileNet\n",
        "from tensorflow.keras.applications.mobilenet import preprocess_input, decode_predictions\n",
        "\n",
        "model = MobileNet(alpha=1.0,                    #宽度超参数\n",
        "                  depth_multiplier=1,           #分辨率超参数\n",
        "                  include_top=True,             #是否包含最后的全连接分类层\n",
        "                  weights=\"imagenet\",           #权重默认为ImageNet的1000个图像分类\n",
        "                  classes=1000)"
      ],
      "metadata": {
        "colab": {
          "base_uri": "https://localhost:8080/"
        },
        "id": "2pKO643jTsRM",
        "outputId": "4cb0aa31-1d2b-4c3f-9df4-669a3e319427"
      },
      "execution_count": null,
      "outputs": [
        {
          "output_type": "stream",
          "name": "stdout",
          "text": [
            "Downloading data from https://storage.googleapis.com/tensorflow/keras-applications/mobilenet/mobilenet_1_0_224_tf.h5\n",
            "17227776/17225924 [==============================] - 0s 0us/step\n",
            "17235968/17225924 [==============================] - 0s 0us/step\n"
          ]
        }
      ]
    },
    {
      "cell_type": "markdown",
      "source": [
        "### MobileNet V2 \n"
      ],
      "metadata": {
        "id": "P3gCQfanWW6h"
      }
    },
    {
      "cell_type": "code",
      "source": [
        "from tensorflow.keras.applications import MobileNetV2\n",
        "from tensorflow.keras.applications.mobilenet import preprocess_input, decode_predictions\n",
        "\n",
        "model2 = MobileNetV2(alpha=1.0,\n",
        "                     include_top=True,\n",
        "                     weights=\"imagenet\",\n",
        "                     classes=1000)"
      ],
      "metadata": {
        "id": "-ES-XSpRWfP3"
      },
      "execution_count": null,
      "outputs": []
    },
    {
      "cell_type": "markdown",
      "source": [
        "### 探索模型"
      ],
      "metadata": {
        "id": "spvmOV6OUvNZ"
      }
    },
    {
      "cell_type": "code",
      "source": [
        "model.summary()"
      ],
      "metadata": {
        "colab": {
          "base_uri": "https://localhost:8080/"
        },
        "id": "6yMfRAPpUabl",
        "outputId": "5043f6e8-5d14-41b0-e4b7-61a2c1d1cab5"
      },
      "execution_count": null,
      "outputs": [
        {
          "output_type": "stream",
          "name": "stdout",
          "text": [
            "Model: \"mobilenet_1.00_224\"\n",
            "_________________________________________________________________\n",
            " Layer (type)                Output Shape              Param #   \n",
            "=================================================================\n",
            " input_1 (InputLayer)        [(None, 224, 224, 3)]     0         \n",
            "                                                                 \n",
            " conv1 (Conv2D)              (None, 112, 112, 32)      864       \n",
            "                                                                 \n",
            " conv1_bn (BatchNormalizatio  (None, 112, 112, 32)     128       \n",
            " n)                                                              \n",
            "                                                                 \n",
            " conv1_relu (ReLU)           (None, 112, 112, 32)      0         \n",
            "                                                                 \n",
            " conv_dw_1 (DepthwiseConv2D)  (None, 112, 112, 32)     288       \n",
            "                                                                 \n",
            " conv_dw_1_bn (BatchNormaliz  (None, 112, 112, 32)     128       \n",
            " ation)                                                          \n",
            "                                                                 \n",
            " conv_dw_1_relu (ReLU)       (None, 112, 112, 32)      0         \n",
            "                                                                 \n",
            " conv_pw_1 (Conv2D)          (None, 112, 112, 64)      2048      \n",
            "                                                                 \n",
            " conv_pw_1_bn (BatchNormaliz  (None, 112, 112, 64)     256       \n",
            " ation)                                                          \n",
            "                                                                 \n",
            " conv_pw_1_relu (ReLU)       (None, 112, 112, 64)      0         \n",
            "                                                                 \n",
            " conv_pad_2 (ZeroPadding2D)  (None, 113, 113, 64)      0         \n",
            "                                                                 \n",
            " conv_dw_2 (DepthwiseConv2D)  (None, 56, 56, 64)       576       \n",
            "                                                                 \n",
            " conv_dw_2_bn (BatchNormaliz  (None, 56, 56, 64)       256       \n",
            " ation)                                                          \n",
            "                                                                 \n",
            " conv_dw_2_relu (ReLU)       (None, 56, 56, 64)        0         \n",
            "                                                                 \n",
            " conv_pw_2 (Conv2D)          (None, 56, 56, 128)       8192      \n",
            "                                                                 \n",
            " conv_pw_2_bn (BatchNormaliz  (None, 56, 56, 128)      512       \n",
            " ation)                                                          \n",
            "                                                                 \n",
            " conv_pw_2_relu (ReLU)       (None, 56, 56, 128)       0         \n",
            "                                                                 \n",
            " conv_dw_3 (DepthwiseConv2D)  (None, 56, 56, 128)      1152      \n",
            "                                                                 \n",
            " conv_dw_3_bn (BatchNormaliz  (None, 56, 56, 128)      512       \n",
            " ation)                                                          \n",
            "                                                                 \n",
            " conv_dw_3_relu (ReLU)       (None, 56, 56, 128)       0         \n",
            "                                                                 \n",
            " conv_pw_3 (Conv2D)          (None, 56, 56, 128)       16384     \n",
            "                                                                 \n",
            " conv_pw_3_bn (BatchNormaliz  (None, 56, 56, 128)      512       \n",
            " ation)                                                          \n",
            "                                                                 \n",
            " conv_pw_3_relu (ReLU)       (None, 56, 56, 128)       0         \n",
            "                                                                 \n",
            " conv_pad_4 (ZeroPadding2D)  (None, 57, 57, 128)       0         \n",
            "                                                                 \n",
            " conv_dw_4 (DepthwiseConv2D)  (None, 28, 28, 128)      1152      \n",
            "                                                                 \n",
            " conv_dw_4_bn (BatchNormaliz  (None, 28, 28, 128)      512       \n",
            " ation)                                                          \n",
            "                                                                 \n",
            " conv_dw_4_relu (ReLU)       (None, 28, 28, 128)       0         \n",
            "                                                                 \n",
            " conv_pw_4 (Conv2D)          (None, 28, 28, 256)       32768     \n",
            "                                                                 \n",
            " conv_pw_4_bn (BatchNormaliz  (None, 28, 28, 256)      1024      \n",
            " ation)                                                          \n",
            "                                                                 \n",
            " conv_pw_4_relu (ReLU)       (None, 28, 28, 256)       0         \n",
            "                                                                 \n",
            " conv_dw_5 (DepthwiseConv2D)  (None, 28, 28, 256)      2304      \n",
            "                                                                 \n",
            " conv_dw_5_bn (BatchNormaliz  (None, 28, 28, 256)      1024      \n",
            " ation)                                                          \n",
            "                                                                 \n",
            " conv_dw_5_relu (ReLU)       (None, 28, 28, 256)       0         \n",
            "                                                                 \n",
            " conv_pw_5 (Conv2D)          (None, 28, 28, 256)       65536     \n",
            "                                                                 \n",
            " conv_pw_5_bn (BatchNormaliz  (None, 28, 28, 256)      1024      \n",
            " ation)                                                          \n",
            "                                                                 \n",
            " conv_pw_5_relu (ReLU)       (None, 28, 28, 256)       0         \n",
            "                                                                 \n",
            " conv_pad_6 (ZeroPadding2D)  (None, 29, 29, 256)       0         \n",
            "                                                                 \n",
            " conv_dw_6 (DepthwiseConv2D)  (None, 14, 14, 256)      2304      \n",
            "                                                                 \n",
            " conv_dw_6_bn (BatchNormaliz  (None, 14, 14, 256)      1024      \n",
            " ation)                                                          \n",
            "                                                                 \n",
            " conv_dw_6_relu (ReLU)       (None, 14, 14, 256)       0         \n",
            "                                                                 \n",
            " conv_pw_6 (Conv2D)          (None, 14, 14, 512)       131072    \n",
            "                                                                 \n",
            " conv_pw_6_bn (BatchNormaliz  (None, 14, 14, 512)      2048      \n",
            " ation)                                                          \n",
            "                                                                 \n",
            " conv_pw_6_relu (ReLU)       (None, 14, 14, 512)       0         \n",
            "                                                                 \n",
            " conv_dw_7 (DepthwiseConv2D)  (None, 14, 14, 512)      4608      \n",
            "                                                                 \n",
            " conv_dw_7_bn (BatchNormaliz  (None, 14, 14, 512)      2048      \n",
            " ation)                                                          \n",
            "                                                                 \n",
            " conv_dw_7_relu (ReLU)       (None, 14, 14, 512)       0         \n",
            "                                                                 \n",
            " conv_pw_7 (Conv2D)          (None, 14, 14, 512)       262144    \n",
            "                                                                 \n",
            " conv_pw_7_bn (BatchNormaliz  (None, 14, 14, 512)      2048      \n",
            " ation)                                                          \n",
            "                                                                 \n",
            " conv_pw_7_relu (ReLU)       (None, 14, 14, 512)       0         \n",
            "                                                                 \n",
            " conv_dw_8 (DepthwiseConv2D)  (None, 14, 14, 512)      4608      \n",
            "                                                                 \n",
            " conv_dw_8_bn (BatchNormaliz  (None, 14, 14, 512)      2048      \n",
            " ation)                                                          \n",
            "                                                                 \n",
            " conv_dw_8_relu (ReLU)       (None, 14, 14, 512)       0         \n",
            "                                                                 \n",
            " conv_pw_8 (Conv2D)          (None, 14, 14, 512)       262144    \n",
            "                                                                 \n",
            " conv_pw_8_bn (BatchNormaliz  (None, 14, 14, 512)      2048      \n",
            " ation)                                                          \n",
            "                                                                 \n",
            " conv_pw_8_relu (ReLU)       (None, 14, 14, 512)       0         \n",
            "                                                                 \n",
            " conv_dw_9 (DepthwiseConv2D)  (None, 14, 14, 512)      4608      \n",
            "                                                                 \n",
            " conv_dw_9_bn (BatchNormaliz  (None, 14, 14, 512)      2048      \n",
            " ation)                                                          \n",
            "                                                                 \n",
            " conv_dw_9_relu (ReLU)       (None, 14, 14, 512)       0         \n",
            "                                                                 \n",
            " conv_pw_9 (Conv2D)          (None, 14, 14, 512)       262144    \n",
            "                                                                 \n",
            " conv_pw_9_bn (BatchNormaliz  (None, 14, 14, 512)      2048      \n",
            " ation)                                                          \n",
            "                                                                 \n",
            " conv_pw_9_relu (ReLU)       (None, 14, 14, 512)       0         \n",
            "                                                                 \n",
            " conv_dw_10 (DepthwiseConv2D  (None, 14, 14, 512)      4608      \n",
            " )                                                               \n",
            "                                                                 \n",
            " conv_dw_10_bn (BatchNormali  (None, 14, 14, 512)      2048      \n",
            " zation)                                                         \n",
            "                                                                 \n",
            " conv_dw_10_relu (ReLU)      (None, 14, 14, 512)       0         \n",
            "                                                                 \n",
            " conv_pw_10 (Conv2D)         (None, 14, 14, 512)       262144    \n",
            "                                                                 \n",
            " conv_pw_10_bn (BatchNormali  (None, 14, 14, 512)      2048      \n",
            " zation)                                                         \n",
            "                                                                 \n",
            " conv_pw_10_relu (ReLU)      (None, 14, 14, 512)       0         \n",
            "                                                                 \n",
            " conv_dw_11 (DepthwiseConv2D  (None, 14, 14, 512)      4608      \n",
            " )                                                               \n",
            "                                                                 \n",
            " conv_dw_11_bn (BatchNormali  (None, 14, 14, 512)      2048      \n",
            " zation)                                                         \n",
            "                                                                 \n",
            " conv_dw_11_relu (ReLU)      (None, 14, 14, 512)       0         \n",
            "                                                                 \n",
            " conv_pw_11 (Conv2D)         (None, 14, 14, 512)       262144    \n",
            "                                                                 \n",
            " conv_pw_11_bn (BatchNormali  (None, 14, 14, 512)      2048      \n",
            " zation)                                                         \n",
            "                                                                 \n",
            " conv_pw_11_relu (ReLU)      (None, 14, 14, 512)       0         \n",
            "                                                                 \n",
            " conv_pad_12 (ZeroPadding2D)  (None, 15, 15, 512)      0         \n",
            "                                                                 \n",
            " conv_dw_12 (DepthwiseConv2D  (None, 7, 7, 512)        4608      \n",
            " )                                                               \n",
            "                                                                 \n",
            " conv_dw_12_bn (BatchNormali  (None, 7, 7, 512)        2048      \n",
            " zation)                                                         \n",
            "                                                                 \n",
            " conv_dw_12_relu (ReLU)      (None, 7, 7, 512)         0         \n",
            "                                                                 \n",
            " conv_pw_12 (Conv2D)         (None, 7, 7, 1024)        524288    \n",
            "                                                                 \n",
            " conv_pw_12_bn (BatchNormali  (None, 7, 7, 1024)       4096      \n",
            " zation)                                                         \n",
            "                                                                 \n",
            " conv_pw_12_relu (ReLU)      (None, 7, 7, 1024)        0         \n",
            "                                                                 \n",
            " conv_dw_13 (DepthwiseConv2D  (None, 7, 7, 1024)       9216      \n",
            " )                                                               \n",
            "                                                                 \n",
            " conv_dw_13_bn (BatchNormali  (None, 7, 7, 1024)       4096      \n",
            " zation)                                                         \n",
            "                                                                 \n",
            " conv_dw_13_relu (ReLU)      (None, 7, 7, 1024)        0         \n",
            "                                                                 \n",
            " conv_pw_13 (Conv2D)         (None, 7, 7, 1024)        1048576   \n",
            "                                                                 \n",
            " conv_pw_13_bn (BatchNormali  (None, 7, 7, 1024)       4096      \n",
            " zation)                                                         \n",
            "                                                                 \n",
            " conv_pw_13_relu (ReLU)      (None, 7, 7, 1024)        0         \n",
            "                                                                 \n",
            " global_average_pooling2d (G  (None, 1, 1, 1024)       0         \n",
            " lobalAveragePooling2D)                                          \n",
            "                                                                 \n",
            " dropout (Dropout)           (None, 1, 1, 1024)        0         \n",
            "                                                                 \n",
            " conv_preds (Conv2D)         (None, 1, 1, 1000)        1025000   \n",
            "                                                                 \n",
            " reshape_2 (Reshape)         (None, 1000)              0         \n",
            "                                                                 \n",
            " predictions (Activation)    (None, 1000)              0         \n",
            "                                                                 \n",
            "=================================================================\n",
            "Total params: 4,253,864\n",
            "Trainable params: 4,231,976\n",
            "Non-trainable params: 21,888\n",
            "_________________________________________________________________\n"
          ]
        }
      ]
    },
    {
      "cell_type": "code",
      "source": [
        "# 可视化模型结构（GraphViz）\n",
        "from IPython.display import SVG\n",
        "from keras.utils.vis_utils import model_to_dot\n",
        "\n",
        "SVG(model_to_dot(model).create(prog='dot', format='svg'))"
      ],
      "metadata": {
        "colab": {
          "base_uri": "https://localhost:8080/",
          "height": 1000
        },
        "id": "3OGheGr8U8tC",
        "outputId": "706f1216-e13b-42aa-822b-e064257c3613"
      },
      "execution_count": null,
      "outputs": [
        {
          "output_type": "execute_result",
          "data": {
            "text/plain": [
              "<IPython.core.display.SVG object>"
            ],
            "image/svg+xml": "<svg height=\"8820pt\" viewBox=\"0.00 0.00 346.00 6615.00\" width=\"461pt\" xmlns=\"http://www.w3.org/2000/svg\" xmlns:xlink=\"http://www.w3.org/1999/xlink\">\n<g class=\"graph\" id=\"graph0\" transform=\"scale(1.3333 1.3333) rotate(0) translate(4 6611)\">\n<title>G</title>\n<polygon fill=\"#ffffff\" points=\"-4,4 -4,-6611 342,-6611 342,4 -4,4\" stroke=\"transparent\"/>\n<!-- 140423865026000 -->\n<g class=\"node\" id=\"node1\">\n<title>140423865026000</title>\n<polygon fill=\"none\" points=\"98,-6570.5 98,-6606.5 240,-6606.5 240,-6570.5 98,-6570.5\" stroke=\"#000000\"/>\n<text fill=\"#000000\" font-family=\"Times,serif\" font-size=\"14.00\" text-anchor=\"middle\" x=\"129\" y=\"-6584.8\">input_1</text>\n<polyline fill=\"none\" points=\"160,-6570.5 160,-6606.5 \" stroke=\"#000000\"/>\n<text fill=\"#000000\" font-family=\"Times,serif\" font-size=\"14.00\" text-anchor=\"middle\" x=\"200\" y=\"-6584.8\">InputLayer</text>\n</g>\n<!-- 140423733417552 -->\n<g class=\"node\" id=\"node2\">\n<title>140423733417552</title>\n<polygon fill=\"none\" points=\"109,-6497.5 109,-6533.5 229,-6533.5 229,-6497.5 109,-6497.5\" stroke=\"#000000\"/>\n<text fill=\"#000000\" font-family=\"Times,serif\" font-size=\"14.00\" text-anchor=\"middle\" x=\"135.5\" y=\"-6511.8\">conv1</text>\n<polyline fill=\"none\" points=\"162,-6497.5 162,-6533.5 \" stroke=\"#000000\"/>\n<text fill=\"#000000\" font-family=\"Times,serif\" font-size=\"14.00\" text-anchor=\"middle\" x=\"195.5\" y=\"-6511.8\">Conv2D</text>\n</g>\n<!-- 140423865026000&#45;&gt;140423733417552 -->\n<g class=\"edge\" id=\"edge1\">\n<title>140423865026000-&gt;140423733417552</title>\n<path d=\"M169,-6570.4551C169,-6562.3828 169,-6552.6764 169,-6543.6817\" fill=\"none\" stroke=\"#000000\"/>\n<polygon fill=\"#000000\" points=\"172.5001,-6543.5903 169,-6533.5904 165.5001,-6543.5904 172.5001,-6543.5903\" stroke=\"#000000\"/>\n</g>\n<!-- 140423734639952 -->\n<g class=\"node\" id=\"node3\">\n<title>140423734639952</title>\n<polygon fill=\"none\" points=\"66,-6424.5 66,-6460.5 272,-6460.5 272,-6424.5 66,-6424.5\" stroke=\"#000000\"/>\n<text fill=\"#000000\" font-family=\"Times,serif\" font-size=\"14.00\" text-anchor=\"middle\" x=\"103.5\" y=\"-6438.8\">conv1_bn</text>\n<polyline fill=\"none\" points=\"141,-6424.5 141,-6460.5 \" stroke=\"#000000\"/>\n<text fill=\"#000000\" font-family=\"Times,serif\" font-size=\"14.00\" text-anchor=\"middle\" x=\"206.5\" y=\"-6438.8\">BatchNormalization</text>\n</g>\n<!-- 140423733417552&#45;&gt;140423734639952 -->\n<g class=\"edge\" id=\"edge2\">\n<title>140423733417552-&gt;140423734639952</title>\n<path d=\"M169,-6497.4551C169,-6489.3828 169,-6479.6764 169,-6470.6817\" fill=\"none\" stroke=\"#000000\"/>\n<polygon fill=\"#000000\" points=\"172.5001,-6470.5903 169,-6460.5904 165.5001,-6470.5904 172.5001,-6470.5903\" stroke=\"#000000\"/>\n</g>\n<!-- 140423668757904 -->\n<g class=\"node\" id=\"node4\">\n<title>140423668757904</title>\n<polygon fill=\"none\" points=\"102,-6351.5 102,-6387.5 236,-6387.5 236,-6351.5 102,-6351.5\" stroke=\"#000000\"/>\n<text fill=\"#000000\" font-family=\"Times,serif\" font-size=\"14.00\" text-anchor=\"middle\" x=\"143\" y=\"-6365.8\">conv1_relu</text>\n<polyline fill=\"none\" points=\"184,-6351.5 184,-6387.5 \" stroke=\"#000000\"/>\n<text fill=\"#000000\" font-family=\"Times,serif\" font-size=\"14.00\" text-anchor=\"middle\" x=\"210\" y=\"-6365.8\">ReLU</text>\n</g>\n<!-- 140423734639952&#45;&gt;140423668757904 -->\n<g class=\"edge\" id=\"edge3\">\n<title>140423734639952-&gt;140423668757904</title>\n<path d=\"M169,-6424.4551C169,-6416.3828 169,-6406.6764 169,-6397.6817\" fill=\"none\" stroke=\"#000000\"/>\n<polygon fill=\"#000000\" points=\"172.5001,-6397.5903 169,-6387.5904 165.5001,-6397.5904 172.5001,-6397.5903\" stroke=\"#000000\"/>\n</g>\n<!-- 140423724105360 -->\n<g class=\"node\" id=\"node5\">\n<title>140423724105360</title>\n<polygon fill=\"none\" points=\"62,-6278.5 62,-6314.5 276,-6314.5 276,-6278.5 62,-6278.5\" stroke=\"#000000\"/>\n<text fill=\"#000000\" font-family=\"Times,serif\" font-size=\"14.00\" text-anchor=\"middle\" x=\"105\" y=\"-6292.8\">conv_dw_1</text>\n<polyline fill=\"none\" points=\"148,-6278.5 148,-6314.5 \" stroke=\"#000000\"/>\n<text fill=\"#000000\" font-family=\"Times,serif\" font-size=\"14.00\" text-anchor=\"middle\" x=\"212\" y=\"-6292.8\">DepthwiseConv2D</text>\n</g>\n<!-- 140423668757904&#45;&gt;140423724105360 -->\n<g class=\"edge\" id=\"edge4\">\n<title>140423668757904-&gt;140423724105360</title>\n<path d=\"M169,-6351.4551C169,-6343.3828 169,-6333.6764 169,-6324.6817\" fill=\"none\" stroke=\"#000000\"/>\n<polygon fill=\"#000000\" points=\"172.5001,-6324.5903 169,-6314.5904 165.5001,-6324.5904 172.5001,-6324.5903\" stroke=\"#000000\"/>\n</g>\n<!-- 140423668409488 -->\n<g class=\"node\" id=\"node6\">\n<title>140423668409488</title>\n<polygon fill=\"none\" points=\"49.5,-6205.5 49.5,-6241.5 288.5,-6241.5 288.5,-6205.5 49.5,-6205.5\" stroke=\"#000000\"/>\n<text fill=\"#000000\" font-family=\"Times,serif\" font-size=\"14.00\" text-anchor=\"middle\" x=\"103.5\" y=\"-6219.8\">conv_dw_1_bn</text>\n<polyline fill=\"none\" points=\"157.5,-6205.5 157.5,-6241.5 \" stroke=\"#000000\"/>\n<text fill=\"#000000\" font-family=\"Times,serif\" font-size=\"14.00\" text-anchor=\"middle\" x=\"223\" y=\"-6219.8\">BatchNormalization</text>\n</g>\n<!-- 140423724105360&#45;&gt;140423668409488 -->\n<g class=\"edge\" id=\"edge5\">\n<title>140423724105360-&gt;140423668409488</title>\n<path d=\"M169,-6278.4551C169,-6270.3828 169,-6260.6764 169,-6251.6817\" fill=\"none\" stroke=\"#000000\"/>\n<polygon fill=\"#000000\" points=\"172.5001,-6251.5903 169,-6241.5904 165.5001,-6251.5904 172.5001,-6251.5903\" stroke=\"#000000\"/>\n</g>\n<!-- 140423668430672 -->\n<g class=\"node\" id=\"node7\">\n<title>140423668430672</title>\n<polygon fill=\"none\" points=\"85.5,-6132.5 85.5,-6168.5 252.5,-6168.5 252.5,-6132.5 85.5,-6132.5\" stroke=\"#000000\"/>\n<text fill=\"#000000\" font-family=\"Times,serif\" font-size=\"14.00\" text-anchor=\"middle\" x=\"143\" y=\"-6146.8\">conv_dw_1_relu</text>\n<polyline fill=\"none\" points=\"200.5,-6132.5 200.5,-6168.5 \" stroke=\"#000000\"/>\n<text fill=\"#000000\" font-family=\"Times,serif\" font-size=\"14.00\" text-anchor=\"middle\" x=\"226.5\" y=\"-6146.8\">ReLU</text>\n</g>\n<!-- 140423668409488&#45;&gt;140423668430672 -->\n<g class=\"edge\" id=\"edge6\">\n<title>140423668409488-&gt;140423668430672</title>\n<path d=\"M169,-6205.4551C169,-6197.3828 169,-6187.6764 169,-6178.6817\" fill=\"none\" stroke=\"#000000\"/>\n<polygon fill=\"#000000\" points=\"172.5001,-6178.5903 169,-6168.5904 165.5001,-6178.5904 172.5001,-6178.5903\" stroke=\"#000000\"/>\n</g>\n<!-- 140423668449360 -->\n<g class=\"node\" id=\"node8\">\n<title>140423668449360</title>\n<polygon fill=\"none\" points=\"92.5,-6059.5 92.5,-6095.5 245.5,-6095.5 245.5,-6059.5 92.5,-6059.5\" stroke=\"#000000\"/>\n<text fill=\"#000000\" font-family=\"Times,serif\" font-size=\"14.00\" text-anchor=\"middle\" x=\"135.5\" y=\"-6073.8\">conv_pw_1</text>\n<polyline fill=\"none\" points=\"178.5,-6059.5 178.5,-6095.5 \" stroke=\"#000000\"/>\n<text fill=\"#000000\" font-family=\"Times,serif\" font-size=\"14.00\" text-anchor=\"middle\" x=\"212\" y=\"-6073.8\">Conv2D</text>\n</g>\n<!-- 140423668430672&#45;&gt;140423668449360 -->\n<g class=\"edge\" id=\"edge7\">\n<title>140423668430672-&gt;140423668449360</title>\n<path d=\"M169,-6132.4551C169,-6124.3828 169,-6114.6764 169,-6105.6817\" fill=\"none\" stroke=\"#000000\"/>\n<polygon fill=\"#000000\" points=\"172.5001,-6105.5903 169,-6095.5904 165.5001,-6105.5904 172.5001,-6105.5903\" stroke=\"#000000\"/>\n</g>\n<!-- 140423668482640 -->\n<g class=\"node\" id=\"node9\">\n<title>140423668482640</title>\n<polygon fill=\"none\" points=\"49.5,-5986.5 49.5,-6022.5 288.5,-6022.5 288.5,-5986.5 49.5,-5986.5\" stroke=\"#000000\"/>\n<text fill=\"#000000\" font-family=\"Times,serif\" font-size=\"14.00\" text-anchor=\"middle\" x=\"103.5\" y=\"-6000.8\">conv_pw_1_bn</text>\n<polyline fill=\"none\" points=\"157.5,-5986.5 157.5,-6022.5 \" stroke=\"#000000\"/>\n<text fill=\"#000000\" font-family=\"Times,serif\" font-size=\"14.00\" text-anchor=\"middle\" x=\"223\" y=\"-6000.8\">BatchNormalization</text>\n</g>\n<!-- 140423668449360&#45;&gt;140423668482640 -->\n<g class=\"edge\" id=\"edge8\">\n<title>140423668449360-&gt;140423668482640</title>\n<path d=\"M169,-6059.4551C169,-6051.3828 169,-6041.6764 169,-6032.6817\" fill=\"none\" stroke=\"#000000\"/>\n<polygon fill=\"#000000\" points=\"172.5001,-6032.5903 169,-6022.5904 165.5001,-6032.5904 172.5001,-6032.5903\" stroke=\"#000000\"/>\n</g>\n<!-- 140423668475856 -->\n<g class=\"node\" id=\"node10\">\n<title>140423668475856</title>\n<polygon fill=\"none\" points=\"85.5,-5913.5 85.5,-5949.5 252.5,-5949.5 252.5,-5913.5 85.5,-5913.5\" stroke=\"#000000\"/>\n<text fill=\"#000000\" font-family=\"Times,serif\" font-size=\"14.00\" text-anchor=\"middle\" x=\"143\" y=\"-5927.8\">conv_pw_1_relu</text>\n<polyline fill=\"none\" points=\"200.5,-5913.5 200.5,-5949.5 \" stroke=\"#000000\"/>\n<text fill=\"#000000\" font-family=\"Times,serif\" font-size=\"14.00\" text-anchor=\"middle\" x=\"226.5\" y=\"-5927.8\">ReLU</text>\n</g>\n<!-- 140423668482640&#45;&gt;140423668475856 -->\n<g class=\"edge\" id=\"edge9\">\n<title>140423668482640-&gt;140423668475856</title>\n<path d=\"M169,-5986.4551C169,-5978.3828 169,-5968.6764 169,-5959.6817\" fill=\"none\" stroke=\"#000000\"/>\n<polygon fill=\"#000000\" points=\"172.5001,-5959.5903 169,-5949.5904 165.5001,-5959.5904 172.5001,-5959.5903\" stroke=\"#000000\"/>\n</g>\n<!-- 140423668512528 -->\n<g class=\"node\" id=\"node11\">\n<title>140423668512528</title>\n<polygon fill=\"none\" points=\"69.5,-5840.5 69.5,-5876.5 268.5,-5876.5 268.5,-5840.5 69.5,-5840.5\" stroke=\"#000000\"/>\n<text fill=\"#000000\" font-family=\"Times,serif\" font-size=\"14.00\" text-anchor=\"middle\" x=\"114\" y=\"-5854.8\">conv_pad_2</text>\n<polyline fill=\"none\" points=\"158.5,-5840.5 158.5,-5876.5 \" stroke=\"#000000\"/>\n<text fill=\"#000000\" font-family=\"Times,serif\" font-size=\"14.00\" text-anchor=\"middle\" x=\"213.5\" y=\"-5854.8\">ZeroPadding2D</text>\n</g>\n<!-- 140423668475856&#45;&gt;140423668512528 -->\n<g class=\"edge\" id=\"edge10\">\n<title>140423668475856-&gt;140423668512528</title>\n<path d=\"M169,-5913.4551C169,-5905.3828 169,-5895.6764 169,-5886.6817\" fill=\"none\" stroke=\"#000000\"/>\n<polygon fill=\"#000000\" points=\"172.5001,-5886.5903 169,-5876.5904 165.5001,-5886.5904 172.5001,-5886.5903\" stroke=\"#000000\"/>\n</g>\n<!-- 140423668044688 -->\n<g class=\"node\" id=\"node12\">\n<title>140423668044688</title>\n<polygon fill=\"none\" points=\"62,-5767.5 62,-5803.5 276,-5803.5 276,-5767.5 62,-5767.5\" stroke=\"#000000\"/>\n<text fill=\"#000000\" font-family=\"Times,serif\" font-size=\"14.00\" text-anchor=\"middle\" x=\"105\" y=\"-5781.8\">conv_dw_2</text>\n<polyline fill=\"none\" points=\"148,-5767.5 148,-5803.5 \" stroke=\"#000000\"/>\n<text fill=\"#000000\" font-family=\"Times,serif\" font-size=\"14.00\" text-anchor=\"middle\" x=\"212\" y=\"-5781.8\">DepthwiseConv2D</text>\n</g>\n<!-- 140423668512528&#45;&gt;140423668044688 -->\n<g class=\"edge\" id=\"edge11\">\n<title>140423668512528-&gt;140423668044688</title>\n<path d=\"M169,-5840.4551C169,-5832.3828 169,-5822.6764 169,-5813.6817\" fill=\"none\" stroke=\"#000000\"/>\n<polygon fill=\"#000000\" points=\"172.5001,-5813.5903 169,-5803.5904 165.5001,-5813.5904 172.5001,-5813.5903\" stroke=\"#000000\"/>\n</g>\n<!-- 140423668020624 -->\n<g class=\"node\" id=\"node13\">\n<title>140423668020624</title>\n<polygon fill=\"none\" points=\"49.5,-5694.5 49.5,-5730.5 288.5,-5730.5 288.5,-5694.5 49.5,-5694.5\" stroke=\"#000000\"/>\n<text fill=\"#000000\" font-family=\"Times,serif\" font-size=\"14.00\" text-anchor=\"middle\" x=\"103.5\" y=\"-5708.8\">conv_dw_2_bn</text>\n<polyline fill=\"none\" points=\"157.5,-5694.5 157.5,-5730.5 \" stroke=\"#000000\"/>\n<text fill=\"#000000\" font-family=\"Times,serif\" font-size=\"14.00\" text-anchor=\"middle\" x=\"223\" y=\"-5708.8\">BatchNormalization</text>\n</g>\n<!-- 140423668044688&#45;&gt;140423668020624 -->\n<g class=\"edge\" id=\"edge12\">\n<title>140423668044688-&gt;140423668020624</title>\n<path d=\"M169,-5767.4551C169,-5759.3828 169,-5749.6764 169,-5740.6817\" fill=\"none\" stroke=\"#000000\"/>\n<polygon fill=\"#000000\" points=\"172.5001,-5740.5903 169,-5730.5904 165.5001,-5740.5904 172.5001,-5740.5903\" stroke=\"#000000\"/>\n</g>\n<!-- 140423668065808 -->\n<g class=\"node\" id=\"node14\">\n<title>140423668065808</title>\n<polygon fill=\"none\" points=\"85.5,-5621.5 85.5,-5657.5 252.5,-5657.5 252.5,-5621.5 85.5,-5621.5\" stroke=\"#000000\"/>\n<text fill=\"#000000\" font-family=\"Times,serif\" font-size=\"14.00\" text-anchor=\"middle\" x=\"143\" y=\"-5635.8\">conv_dw_2_relu</text>\n<polyline fill=\"none\" points=\"200.5,-5621.5 200.5,-5657.5 \" stroke=\"#000000\"/>\n<text fill=\"#000000\" font-family=\"Times,serif\" font-size=\"14.00\" text-anchor=\"middle\" x=\"226.5\" y=\"-5635.8\">ReLU</text>\n</g>\n<!-- 140423668020624&#45;&gt;140423668065808 -->\n<g class=\"edge\" id=\"edge13\">\n<title>140423668020624-&gt;140423668065808</title>\n<path d=\"M169,-5694.4551C169,-5686.3828 169,-5676.6764 169,-5667.6817\" fill=\"none\" stroke=\"#000000\"/>\n<polygon fill=\"#000000\" points=\"172.5001,-5667.5903 169,-5657.5904 165.5001,-5667.5904 172.5001,-5667.5903\" stroke=\"#000000\"/>\n</g>\n<!-- 140423668085264 -->\n<g class=\"node\" id=\"node15\">\n<title>140423668085264</title>\n<polygon fill=\"none\" points=\"92.5,-5548.5 92.5,-5584.5 245.5,-5584.5 245.5,-5548.5 92.5,-5548.5\" stroke=\"#000000\"/>\n<text fill=\"#000000\" font-family=\"Times,serif\" font-size=\"14.00\" text-anchor=\"middle\" x=\"135.5\" y=\"-5562.8\">conv_pw_2</text>\n<polyline fill=\"none\" points=\"178.5,-5548.5 178.5,-5584.5 \" stroke=\"#000000\"/>\n<text fill=\"#000000\" font-family=\"Times,serif\" font-size=\"14.00\" text-anchor=\"middle\" x=\"212\" y=\"-5562.8\">Conv2D</text>\n</g>\n<!-- 140423668065808&#45;&gt;140423668085264 -->\n<g class=\"edge\" id=\"edge14\">\n<title>140423668065808-&gt;140423668085264</title>\n<path d=\"M169,-5621.4551C169,-5613.3828 169,-5603.6764 169,-5594.6817\" fill=\"none\" stroke=\"#000000\"/>\n<polygon fill=\"#000000\" points=\"172.5001,-5594.5903 169,-5584.5904 165.5001,-5594.5904 172.5001,-5594.5903\" stroke=\"#000000\"/>\n</g>\n<!-- 140423668128400 -->\n<g class=\"node\" id=\"node16\">\n<title>140423668128400</title>\n<polygon fill=\"none\" points=\"49.5,-5475.5 49.5,-5511.5 288.5,-5511.5 288.5,-5475.5 49.5,-5475.5\" stroke=\"#000000\"/>\n<text fill=\"#000000\" font-family=\"Times,serif\" font-size=\"14.00\" text-anchor=\"middle\" x=\"103.5\" y=\"-5489.8\">conv_pw_2_bn</text>\n<polyline fill=\"none\" points=\"157.5,-5475.5 157.5,-5511.5 \" stroke=\"#000000\"/>\n<text fill=\"#000000\" font-family=\"Times,serif\" font-size=\"14.00\" text-anchor=\"middle\" x=\"223\" y=\"-5489.8\">BatchNormalization</text>\n</g>\n<!-- 140423668085264&#45;&gt;140423668128400 -->\n<g class=\"edge\" id=\"edge15\">\n<title>140423668085264-&gt;140423668128400</title>\n<path d=\"M169,-5548.4551C169,-5540.3828 169,-5530.6764 169,-5521.6817\" fill=\"none\" stroke=\"#000000\"/>\n<polygon fill=\"#000000\" points=\"172.5001,-5521.5903 169,-5511.5904 165.5001,-5521.5904 172.5001,-5521.5903\" stroke=\"#000000\"/>\n</g>\n<!-- 140423668095056 -->\n<g class=\"node\" id=\"node17\">\n<title>140423668095056</title>\n<polygon fill=\"none\" points=\"85.5,-5402.5 85.5,-5438.5 252.5,-5438.5 252.5,-5402.5 85.5,-5402.5\" stroke=\"#000000\"/>\n<text fill=\"#000000\" font-family=\"Times,serif\" font-size=\"14.00\" text-anchor=\"middle\" x=\"143\" y=\"-5416.8\">conv_pw_2_relu</text>\n<polyline fill=\"none\" points=\"200.5,-5402.5 200.5,-5438.5 \" stroke=\"#000000\"/>\n<text fill=\"#000000\" font-family=\"Times,serif\" font-size=\"14.00\" text-anchor=\"middle\" x=\"226.5\" y=\"-5416.8\">ReLU</text>\n</g>\n<!-- 140423668128400&#45;&gt;140423668095056 -->\n<g class=\"edge\" id=\"edge16\">\n<title>140423668128400-&gt;140423668095056</title>\n<path d=\"M169,-5475.4551C169,-5467.3828 169,-5457.6764 169,-5448.6817\" fill=\"none\" stroke=\"#000000\"/>\n<polygon fill=\"#000000\" points=\"172.5001,-5448.5903 169,-5438.5904 165.5001,-5448.5904 172.5001,-5448.5903\" stroke=\"#000000\"/>\n</g>\n<!-- 140423668066576 -->\n<g class=\"node\" id=\"node18\">\n<title>140423668066576</title>\n<polygon fill=\"none\" points=\"62,-5329.5 62,-5365.5 276,-5365.5 276,-5329.5 62,-5329.5\" stroke=\"#000000\"/>\n<text fill=\"#000000\" font-family=\"Times,serif\" font-size=\"14.00\" text-anchor=\"middle\" x=\"105\" y=\"-5343.8\">conv_dw_3</text>\n<polyline fill=\"none\" points=\"148,-5329.5 148,-5365.5 \" stroke=\"#000000\"/>\n<text fill=\"#000000\" font-family=\"Times,serif\" font-size=\"14.00\" text-anchor=\"middle\" x=\"212\" y=\"-5343.8\">DepthwiseConv2D</text>\n</g>\n<!-- 140423668095056&#45;&gt;140423668066576 -->\n<g class=\"edge\" id=\"edge17\">\n<title>140423668095056-&gt;140423668066576</title>\n<path d=\"M169,-5402.4551C169,-5394.3828 169,-5384.6764 169,-5375.6817\" fill=\"none\" stroke=\"#000000\"/>\n<polygon fill=\"#000000\" points=\"172.5001,-5375.5903 169,-5365.5904 165.5001,-5375.5904 172.5001,-5375.5903\" stroke=\"#000000\"/>\n</g>\n<!-- 140423668193488 -->\n<g class=\"node\" id=\"node19\">\n<title>140423668193488</title>\n<polygon fill=\"none\" points=\"49.5,-5256.5 49.5,-5292.5 288.5,-5292.5 288.5,-5256.5 49.5,-5256.5\" stroke=\"#000000\"/>\n<text fill=\"#000000\" font-family=\"Times,serif\" font-size=\"14.00\" text-anchor=\"middle\" x=\"103.5\" y=\"-5270.8\">conv_dw_3_bn</text>\n<polyline fill=\"none\" points=\"157.5,-5256.5 157.5,-5292.5 \" stroke=\"#000000\"/>\n<text fill=\"#000000\" font-family=\"Times,serif\" font-size=\"14.00\" text-anchor=\"middle\" x=\"223\" y=\"-5270.8\">BatchNormalization</text>\n</g>\n<!-- 140423668066576&#45;&gt;140423668193488 -->\n<g class=\"edge\" id=\"edge18\">\n<title>140423668066576-&gt;140423668193488</title>\n<path d=\"M169,-5329.4551C169,-5321.3828 169,-5311.6764 169,-5302.6817\" fill=\"none\" stroke=\"#000000\"/>\n<polygon fill=\"#000000\" points=\"172.5001,-5302.5903 169,-5292.5904 165.5001,-5302.5904 172.5001,-5302.5903\" stroke=\"#000000\"/>\n</g>\n<!-- 140423668191376 -->\n<g class=\"node\" id=\"node20\">\n<title>140423668191376</title>\n<polygon fill=\"none\" points=\"85.5,-5183.5 85.5,-5219.5 252.5,-5219.5 252.5,-5183.5 85.5,-5183.5\" stroke=\"#000000\"/>\n<text fill=\"#000000\" font-family=\"Times,serif\" font-size=\"14.00\" text-anchor=\"middle\" x=\"143\" y=\"-5197.8\">conv_dw_3_relu</text>\n<polyline fill=\"none\" points=\"200.5,-5183.5 200.5,-5219.5 \" stroke=\"#000000\"/>\n<text fill=\"#000000\" font-family=\"Times,serif\" font-size=\"14.00\" text-anchor=\"middle\" x=\"226.5\" y=\"-5197.8\">ReLU</text>\n</g>\n<!-- 140423668193488&#45;&gt;140423668191376 -->\n<g class=\"edge\" id=\"edge19\">\n<title>140423668193488-&gt;140423668191376</title>\n<path d=\"M169,-5256.4551C169,-5248.3828 169,-5238.6764 169,-5229.6817\" fill=\"none\" stroke=\"#000000\"/>\n<polygon fill=\"#000000\" points=\"172.5001,-5229.5903 169,-5219.5904 165.5001,-5229.5904 172.5001,-5229.5903\" stroke=\"#000000\"/>\n</g>\n<!-- 140423668204304 -->\n<g class=\"node\" id=\"node21\">\n<title>140423668204304</title>\n<polygon fill=\"none\" points=\"92.5,-5110.5 92.5,-5146.5 245.5,-5146.5 245.5,-5110.5 92.5,-5110.5\" stroke=\"#000000\"/>\n<text fill=\"#000000\" font-family=\"Times,serif\" font-size=\"14.00\" text-anchor=\"middle\" x=\"135.5\" y=\"-5124.8\">conv_pw_3</text>\n<polyline fill=\"none\" points=\"178.5,-5110.5 178.5,-5146.5 \" stroke=\"#000000\"/>\n<text fill=\"#000000\" font-family=\"Times,serif\" font-size=\"14.00\" text-anchor=\"middle\" x=\"212\" y=\"-5124.8\">Conv2D</text>\n</g>\n<!-- 140423668191376&#45;&gt;140423668204304 -->\n<g class=\"edge\" id=\"edge20\">\n<title>140423668191376-&gt;140423668204304</title>\n<path d=\"M169,-5183.4551C169,-5175.3828 169,-5165.6764 169,-5156.6817\" fill=\"none\" stroke=\"#000000\"/>\n<polygon fill=\"#000000\" points=\"172.5001,-5156.5903 169,-5146.5904 165.5001,-5156.5904 172.5001,-5156.5903\" stroke=\"#000000\"/>\n</g>\n<!-- 140423668267152 -->\n<g class=\"node\" id=\"node22\">\n<title>140423668267152</title>\n<polygon fill=\"none\" points=\"49.5,-5037.5 49.5,-5073.5 288.5,-5073.5 288.5,-5037.5 49.5,-5037.5\" stroke=\"#000000\"/>\n<text fill=\"#000000\" font-family=\"Times,serif\" font-size=\"14.00\" text-anchor=\"middle\" x=\"103.5\" y=\"-5051.8\">conv_pw_3_bn</text>\n<polyline fill=\"none\" points=\"157.5,-5037.5 157.5,-5073.5 \" stroke=\"#000000\"/>\n<text fill=\"#000000\" font-family=\"Times,serif\" font-size=\"14.00\" text-anchor=\"middle\" x=\"223\" y=\"-5051.8\">BatchNormalization</text>\n</g>\n<!-- 140423668204304&#45;&gt;140423668267152 -->\n<g class=\"edge\" id=\"edge21\">\n<title>140423668204304-&gt;140423668267152</title>\n<path d=\"M169,-5110.4551C169,-5102.3828 169,-5092.6764 169,-5083.6817\" fill=\"none\" stroke=\"#000000\"/>\n<polygon fill=\"#000000\" points=\"172.5001,-5083.5903 169,-5073.5904 165.5001,-5083.5904 172.5001,-5083.5903\" stroke=\"#000000\"/>\n</g>\n<!-- 140423668241616 -->\n<g class=\"node\" id=\"node23\">\n<title>140423668241616</title>\n<polygon fill=\"none\" points=\"85.5,-4964.5 85.5,-5000.5 252.5,-5000.5 252.5,-4964.5 85.5,-4964.5\" stroke=\"#000000\"/>\n<text fill=\"#000000\" font-family=\"Times,serif\" font-size=\"14.00\" text-anchor=\"middle\" x=\"143\" y=\"-4978.8\">conv_pw_3_relu</text>\n<polyline fill=\"none\" points=\"200.5,-4964.5 200.5,-5000.5 \" stroke=\"#000000\"/>\n<text fill=\"#000000\" font-family=\"Times,serif\" font-size=\"14.00\" text-anchor=\"middle\" x=\"226.5\" y=\"-4978.8\">ReLU</text>\n</g>\n<!-- 140423668267152&#45;&gt;140423668241616 -->\n<g class=\"edge\" id=\"edge22\">\n<title>140423668267152-&gt;140423668241616</title>\n<path d=\"M169,-5037.4551C169,-5029.3828 169,-5019.6764 169,-5010.6817\" fill=\"none\" stroke=\"#000000\"/>\n<polygon fill=\"#000000\" points=\"172.5001,-5010.5903 169,-5000.5904 165.5001,-5010.5904 172.5001,-5010.5903\" stroke=\"#000000\"/>\n</g>\n<!-- 140423668156368 -->\n<g class=\"node\" id=\"node24\">\n<title>140423668156368</title>\n<polygon fill=\"none\" points=\"69.5,-4891.5 69.5,-4927.5 268.5,-4927.5 268.5,-4891.5 69.5,-4891.5\" stroke=\"#000000\"/>\n<text fill=\"#000000\" font-family=\"Times,serif\" font-size=\"14.00\" text-anchor=\"middle\" x=\"114\" y=\"-4905.8\">conv_pad_4</text>\n<polyline fill=\"none\" points=\"158.5,-4891.5 158.5,-4927.5 \" stroke=\"#000000\"/>\n<text fill=\"#000000\" font-family=\"Times,serif\" font-size=\"14.00\" text-anchor=\"middle\" x=\"213.5\" y=\"-4905.8\">ZeroPadding2D</text>\n</g>\n<!-- 140423668241616&#45;&gt;140423668156368 -->\n<g class=\"edge\" id=\"edge23\">\n<title>140423668241616-&gt;140423668156368</title>\n<path d=\"M169,-4964.4551C169,-4956.3828 169,-4946.6764 169,-4937.6817\" fill=\"none\" stroke=\"#000000\"/>\n<polygon fill=\"#000000\" points=\"172.5001,-4937.5903 169,-4927.5904 165.5001,-4937.5904 172.5001,-4937.5903\" stroke=\"#000000\"/>\n</g>\n<!-- 140423667798544 -->\n<g class=\"node\" id=\"node25\">\n<title>140423667798544</title>\n<polygon fill=\"none\" points=\"62,-4818.5 62,-4854.5 276,-4854.5 276,-4818.5 62,-4818.5\" stroke=\"#000000\"/>\n<text fill=\"#000000\" font-family=\"Times,serif\" font-size=\"14.00\" text-anchor=\"middle\" x=\"105\" y=\"-4832.8\">conv_dw_4</text>\n<polyline fill=\"none\" points=\"148,-4818.5 148,-4854.5 \" stroke=\"#000000\"/>\n<text fill=\"#000000\" font-family=\"Times,serif\" font-size=\"14.00\" text-anchor=\"middle\" x=\"212\" y=\"-4832.8\">DepthwiseConv2D</text>\n</g>\n<!-- 140423668156368&#45;&gt;140423667798544 -->\n<g class=\"edge\" id=\"edge24\">\n<title>140423668156368-&gt;140423667798544</title>\n<path d=\"M169,-4891.4551C169,-4883.3828 169,-4873.6764 169,-4864.6817\" fill=\"none\" stroke=\"#000000\"/>\n<polygon fill=\"#000000\" points=\"172.5001,-4864.5903 169,-4854.5904 165.5001,-4864.5904 172.5001,-4864.5903\" stroke=\"#000000\"/>\n</g>\n<!-- 140423667824144 -->\n<g class=\"node\" id=\"node26\">\n<title>140423667824144</title>\n<polygon fill=\"none\" points=\"49.5,-4745.5 49.5,-4781.5 288.5,-4781.5 288.5,-4745.5 49.5,-4745.5\" stroke=\"#000000\"/>\n<text fill=\"#000000\" font-family=\"Times,serif\" font-size=\"14.00\" text-anchor=\"middle\" x=\"103.5\" y=\"-4759.8\">conv_dw_4_bn</text>\n<polyline fill=\"none\" points=\"157.5,-4745.5 157.5,-4781.5 \" stroke=\"#000000\"/>\n<text fill=\"#000000\" font-family=\"Times,serif\" font-size=\"14.00\" text-anchor=\"middle\" x=\"223\" y=\"-4759.8\">BatchNormalization</text>\n</g>\n<!-- 140423667798544&#45;&gt;140423667824144 -->\n<g class=\"edge\" id=\"edge25\">\n<title>140423667798544-&gt;140423667824144</title>\n<path d=\"M169,-4818.4551C169,-4810.3828 169,-4800.6764 169,-4791.6817\" fill=\"none\" stroke=\"#000000\"/>\n<polygon fill=\"#000000\" points=\"172.5001,-4791.5903 169,-4781.5904 165.5001,-4791.5904 172.5001,-4791.5903\" stroke=\"#000000\"/>\n</g>\n<!-- 140423667783760 -->\n<g class=\"node\" id=\"node27\">\n<title>140423667783760</title>\n<polygon fill=\"none\" points=\"85.5,-4672.5 85.5,-4708.5 252.5,-4708.5 252.5,-4672.5 85.5,-4672.5\" stroke=\"#000000\"/>\n<text fill=\"#000000\" font-family=\"Times,serif\" font-size=\"14.00\" text-anchor=\"middle\" x=\"143\" y=\"-4686.8\">conv_dw_4_relu</text>\n<polyline fill=\"none\" points=\"200.5,-4672.5 200.5,-4708.5 \" stroke=\"#000000\"/>\n<text fill=\"#000000\" font-family=\"Times,serif\" font-size=\"14.00\" text-anchor=\"middle\" x=\"226.5\" y=\"-4686.8\">ReLU</text>\n</g>\n<!-- 140423667824144&#45;&gt;140423667783760 -->\n<g class=\"edge\" id=\"edge26\">\n<title>140423667824144-&gt;140423667783760</title>\n<path d=\"M169,-4745.4551C169,-4737.3828 169,-4727.6764 169,-4718.6817\" fill=\"none\" stroke=\"#000000\"/>\n<polygon fill=\"#000000\" points=\"172.5001,-4718.5903 169,-4708.5904 165.5001,-4718.5904 172.5001,-4718.5903\" stroke=\"#000000\"/>\n</g>\n<!-- 140423667771984 -->\n<g class=\"node\" id=\"node28\">\n<title>140423667771984</title>\n<polygon fill=\"none\" points=\"92.5,-4599.5 92.5,-4635.5 245.5,-4635.5 245.5,-4599.5 92.5,-4599.5\" stroke=\"#000000\"/>\n<text fill=\"#000000\" font-family=\"Times,serif\" font-size=\"14.00\" text-anchor=\"middle\" x=\"135.5\" y=\"-4613.8\">conv_pw_4</text>\n<polyline fill=\"none\" points=\"178.5,-4599.5 178.5,-4635.5 \" stroke=\"#000000\"/>\n<text fill=\"#000000\" font-family=\"Times,serif\" font-size=\"14.00\" text-anchor=\"middle\" x=\"212\" y=\"-4613.8\">Conv2D</text>\n</g>\n<!-- 140423667783760&#45;&gt;140423667771984 -->\n<g class=\"edge\" id=\"edge27\">\n<title>140423667783760-&gt;140423667771984</title>\n<path d=\"M169,-4672.4551C169,-4664.3828 169,-4654.6764 169,-4645.6817\" fill=\"none\" stroke=\"#000000\"/>\n<polygon fill=\"#000000\" points=\"172.5001,-4645.5903 169,-4635.5904 165.5001,-4645.5904 172.5001,-4645.5903\" stroke=\"#000000\"/>\n</g>\n<!-- 140423667873936 -->\n<g class=\"node\" id=\"node29\">\n<title>140423667873936</title>\n<polygon fill=\"none\" points=\"49.5,-4526.5 49.5,-4562.5 288.5,-4562.5 288.5,-4526.5 49.5,-4526.5\" stroke=\"#000000\"/>\n<text fill=\"#000000\" font-family=\"Times,serif\" font-size=\"14.00\" text-anchor=\"middle\" x=\"103.5\" y=\"-4540.8\">conv_pw_4_bn</text>\n<polyline fill=\"none\" points=\"157.5,-4526.5 157.5,-4562.5 \" stroke=\"#000000\"/>\n<text fill=\"#000000\" font-family=\"Times,serif\" font-size=\"14.00\" text-anchor=\"middle\" x=\"223\" y=\"-4540.8\">BatchNormalization</text>\n</g>\n<!-- 140423667771984&#45;&gt;140423667873936 -->\n<g class=\"edge\" id=\"edge28\">\n<title>140423667771984-&gt;140423667873936</title>\n<path d=\"M169,-4599.4551C169,-4591.3828 169,-4581.6764 169,-4572.6817\" fill=\"none\" stroke=\"#000000\"/>\n<polygon fill=\"#000000\" points=\"172.5001,-4572.5903 169,-4562.5904 165.5001,-4572.5904 172.5001,-4572.5903\" stroke=\"#000000\"/>\n</g>\n<!-- 140423667850512 -->\n<g class=\"node\" id=\"node30\">\n<title>140423667850512</title>\n<polygon fill=\"none\" points=\"85.5,-4453.5 85.5,-4489.5 252.5,-4489.5 252.5,-4453.5 85.5,-4453.5\" stroke=\"#000000\"/>\n<text fill=\"#000000\" font-family=\"Times,serif\" font-size=\"14.00\" text-anchor=\"middle\" x=\"143\" y=\"-4467.8\">conv_pw_4_relu</text>\n<polyline fill=\"none\" points=\"200.5,-4453.5 200.5,-4489.5 \" stroke=\"#000000\"/>\n<text fill=\"#000000\" font-family=\"Times,serif\" font-size=\"14.00\" text-anchor=\"middle\" x=\"226.5\" y=\"-4467.8\">ReLU</text>\n</g>\n<!-- 140423667873936&#45;&gt;140423667850512 -->\n<g class=\"edge\" id=\"edge29\">\n<title>140423667873936-&gt;140423667850512</title>\n<path d=\"M169,-4526.4551C169,-4518.3828 169,-4508.6764 169,-4499.6817\" fill=\"none\" stroke=\"#000000\"/>\n<polygon fill=\"#000000\" points=\"172.5001,-4499.5903 169,-4489.5904 165.5001,-4499.5904 172.5001,-4499.5903\" stroke=\"#000000\"/>\n</g>\n<!-- 140423667844944 -->\n<g class=\"node\" id=\"node31\">\n<title>140423667844944</title>\n<polygon fill=\"none\" points=\"62,-4380.5 62,-4416.5 276,-4416.5 276,-4380.5 62,-4380.5\" stroke=\"#000000\"/>\n<text fill=\"#000000\" font-family=\"Times,serif\" font-size=\"14.00\" text-anchor=\"middle\" x=\"105\" y=\"-4394.8\">conv_dw_5</text>\n<polyline fill=\"none\" points=\"148,-4380.5 148,-4416.5 \" stroke=\"#000000\"/>\n<text fill=\"#000000\" font-family=\"Times,serif\" font-size=\"14.00\" text-anchor=\"middle\" x=\"212\" y=\"-4394.8\">DepthwiseConv2D</text>\n</g>\n<!-- 140423667850512&#45;&gt;140423667844944 -->\n<g class=\"edge\" id=\"edge30\">\n<title>140423667850512-&gt;140423667844944</title>\n<path d=\"M169,-4453.4551C169,-4445.3828 169,-4435.6764 169,-4426.6817\" fill=\"none\" stroke=\"#000000\"/>\n<polygon fill=\"#000000\" points=\"172.5001,-4426.5903 169,-4416.5904 165.5001,-4426.5904 172.5001,-4426.5903\" stroke=\"#000000\"/>\n</g>\n<!-- 140423667937040 -->\n<g class=\"node\" id=\"node32\">\n<title>140423667937040</title>\n<polygon fill=\"none\" points=\"49.5,-4307.5 49.5,-4343.5 288.5,-4343.5 288.5,-4307.5 49.5,-4307.5\" stroke=\"#000000\"/>\n<text fill=\"#000000\" font-family=\"Times,serif\" font-size=\"14.00\" text-anchor=\"middle\" x=\"103.5\" y=\"-4321.8\">conv_dw_5_bn</text>\n<polyline fill=\"none\" points=\"157.5,-4307.5 157.5,-4343.5 \" stroke=\"#000000\"/>\n<text fill=\"#000000\" font-family=\"Times,serif\" font-size=\"14.00\" text-anchor=\"middle\" x=\"223\" y=\"-4321.8\">BatchNormalization</text>\n</g>\n<!-- 140423667844944&#45;&gt;140423667937040 -->\n<g class=\"edge\" id=\"edge31\">\n<title>140423667844944-&gt;140423667937040</title>\n<path d=\"M169,-4380.4551C169,-4372.3828 169,-4362.6764 169,-4353.6817\" fill=\"none\" stroke=\"#000000\"/>\n<polygon fill=\"#000000\" points=\"172.5001,-4353.5903 169,-4343.5904 165.5001,-4353.5904 172.5001,-4353.5903\" stroke=\"#000000\"/>\n</g>\n<!-- 140423667933264 -->\n<g class=\"node\" id=\"node33\">\n<title>140423667933264</title>\n<polygon fill=\"none\" points=\"85.5,-4234.5 85.5,-4270.5 252.5,-4270.5 252.5,-4234.5 85.5,-4234.5\" stroke=\"#000000\"/>\n<text fill=\"#000000\" font-family=\"Times,serif\" font-size=\"14.00\" text-anchor=\"middle\" x=\"143\" y=\"-4248.8\">conv_dw_5_relu</text>\n<polyline fill=\"none\" points=\"200.5,-4234.5 200.5,-4270.5 \" stroke=\"#000000\"/>\n<text fill=\"#000000\" font-family=\"Times,serif\" font-size=\"14.00\" text-anchor=\"middle\" x=\"226.5\" y=\"-4248.8\">ReLU</text>\n</g>\n<!-- 140423667937040&#45;&gt;140423667933264 -->\n<g class=\"edge\" id=\"edge32\">\n<title>140423667937040-&gt;140423667933264</title>\n<path d=\"M169,-4307.4551C169,-4299.3828 169,-4289.6764 169,-4280.6817\" fill=\"none\" stroke=\"#000000\"/>\n<polygon fill=\"#000000\" points=\"172.5001,-4280.5903 169,-4270.5904 165.5001,-4280.5904 172.5001,-4280.5903\" stroke=\"#000000\"/>\n</g>\n<!-- 140423667950992 -->\n<g class=\"node\" id=\"node34\">\n<title>140423667950992</title>\n<polygon fill=\"none\" points=\"92.5,-4161.5 92.5,-4197.5 245.5,-4197.5 245.5,-4161.5 92.5,-4161.5\" stroke=\"#000000\"/>\n<text fill=\"#000000\" font-family=\"Times,serif\" font-size=\"14.00\" text-anchor=\"middle\" x=\"135.5\" y=\"-4175.8\">conv_pw_5</text>\n<polyline fill=\"none\" points=\"178.5,-4161.5 178.5,-4197.5 \" stroke=\"#000000\"/>\n<text fill=\"#000000\" font-family=\"Times,serif\" font-size=\"14.00\" text-anchor=\"middle\" x=\"212\" y=\"-4175.8\">Conv2D</text>\n</g>\n<!-- 140423667933264&#45;&gt;140423667950992 -->\n<g class=\"edge\" id=\"edge33\">\n<title>140423667933264-&gt;140423667950992</title>\n<path d=\"M169,-4234.4551C169,-4226.3828 169,-4216.6764 169,-4207.6817\" fill=\"none\" stroke=\"#000000\"/>\n<polygon fill=\"#000000\" points=\"172.5001,-4207.5903 169,-4197.5904 165.5001,-4207.5904 172.5001,-4207.5903\" stroke=\"#000000\"/>\n</g>\n<!-- 140423668155152 -->\n<g class=\"node\" id=\"node35\">\n<title>140423668155152</title>\n<polygon fill=\"none\" points=\"49.5,-4088.5 49.5,-4124.5 288.5,-4124.5 288.5,-4088.5 49.5,-4088.5\" stroke=\"#000000\"/>\n<text fill=\"#000000\" font-family=\"Times,serif\" font-size=\"14.00\" text-anchor=\"middle\" x=\"103.5\" y=\"-4102.8\">conv_pw_5_bn</text>\n<polyline fill=\"none\" points=\"157.5,-4088.5 157.5,-4124.5 \" stroke=\"#000000\"/>\n<text fill=\"#000000\" font-family=\"Times,serif\" font-size=\"14.00\" text-anchor=\"middle\" x=\"223\" y=\"-4102.8\">BatchNormalization</text>\n</g>\n<!-- 140423667950992&#45;&gt;140423668155152 -->\n<g class=\"edge\" id=\"edge34\">\n<title>140423667950992-&gt;140423668155152</title>\n<path d=\"M169,-4161.4551C169,-4153.3828 169,-4143.6764 169,-4134.6817\" fill=\"none\" stroke=\"#000000\"/>\n<polygon fill=\"#000000\" points=\"172.5001,-4134.5903 169,-4124.5904 165.5001,-4134.5904 172.5001,-4134.5903\" stroke=\"#000000\"/>\n</g>\n<!-- 140423668267536 -->\n<g class=\"node\" id=\"node36\">\n<title>140423668267536</title>\n<polygon fill=\"none\" points=\"85.5,-4015.5 85.5,-4051.5 252.5,-4051.5 252.5,-4015.5 85.5,-4015.5\" stroke=\"#000000\"/>\n<text fill=\"#000000\" font-family=\"Times,serif\" font-size=\"14.00\" text-anchor=\"middle\" x=\"143\" y=\"-4029.8\">conv_pw_5_relu</text>\n<polyline fill=\"none\" points=\"200.5,-4015.5 200.5,-4051.5 \" stroke=\"#000000\"/>\n<text fill=\"#000000\" font-family=\"Times,serif\" font-size=\"14.00\" text-anchor=\"middle\" x=\"226.5\" y=\"-4029.8\">ReLU</text>\n</g>\n<!-- 140423668155152&#45;&gt;140423668267536 -->\n<g class=\"edge\" id=\"edge35\">\n<title>140423668155152-&gt;140423668267536</title>\n<path d=\"M169,-4088.4551C169,-4080.3828 169,-4070.6764 169,-4061.6817\" fill=\"none\" stroke=\"#000000\"/>\n<polygon fill=\"#000000\" points=\"172.5001,-4061.5903 169,-4051.5904 165.5001,-4061.5904 172.5001,-4061.5903\" stroke=\"#000000\"/>\n</g>\n<!-- 140423667825232 -->\n<g class=\"node\" id=\"node37\">\n<title>140423667825232</title>\n<polygon fill=\"none\" points=\"69.5,-3942.5 69.5,-3978.5 268.5,-3978.5 268.5,-3942.5 69.5,-3942.5\" stroke=\"#000000\"/>\n<text fill=\"#000000\" font-family=\"Times,serif\" font-size=\"14.00\" text-anchor=\"middle\" x=\"114\" y=\"-3956.8\">conv_pad_6</text>\n<polyline fill=\"none\" points=\"158.5,-3942.5 158.5,-3978.5 \" stroke=\"#000000\"/>\n<text fill=\"#000000\" font-family=\"Times,serif\" font-size=\"14.00\" text-anchor=\"middle\" x=\"213.5\" y=\"-3956.8\">ZeroPadding2D</text>\n</g>\n<!-- 140423668267536&#45;&gt;140423667825232 -->\n<g class=\"edge\" id=\"edge36\">\n<title>140423668267536-&gt;140423667825232</title>\n<path d=\"M169,-4015.4551C169,-4007.3828 169,-3997.6764 169,-3988.6817\" fill=\"none\" stroke=\"#000000\"/>\n<polygon fill=\"#000000\" points=\"172.5001,-3988.5903 169,-3978.5904 165.5001,-3988.5904 172.5001,-3988.5903\" stroke=\"#000000\"/>\n</g>\n<!-- 140423668482768 -->\n<g class=\"node\" id=\"node38\">\n<title>140423668482768</title>\n<polygon fill=\"none\" points=\"62,-3869.5 62,-3905.5 276,-3905.5 276,-3869.5 62,-3869.5\" stroke=\"#000000\"/>\n<text fill=\"#000000\" font-family=\"Times,serif\" font-size=\"14.00\" text-anchor=\"middle\" x=\"105\" y=\"-3883.8\">conv_dw_6</text>\n<polyline fill=\"none\" points=\"148,-3869.5 148,-3905.5 \" stroke=\"#000000\"/>\n<text fill=\"#000000\" font-family=\"Times,serif\" font-size=\"14.00\" text-anchor=\"middle\" x=\"212\" y=\"-3883.8\">DepthwiseConv2D</text>\n</g>\n<!-- 140423667825232&#45;&gt;140423668482768 -->\n<g class=\"edge\" id=\"edge37\">\n<title>140423667825232-&gt;140423668482768</title>\n<path d=\"M169,-3942.4551C169,-3934.3828 169,-3924.6764 169,-3915.6817\" fill=\"none\" stroke=\"#000000\"/>\n<polygon fill=\"#000000\" points=\"172.5001,-3915.5903 169,-3905.5904 165.5001,-3915.5904 172.5001,-3915.5903\" stroke=\"#000000\"/>\n</g>\n<!-- 140423668328592 -->\n<g class=\"node\" id=\"node39\">\n<title>140423668328592</title>\n<polygon fill=\"none\" points=\"49.5,-3796.5 49.5,-3832.5 288.5,-3832.5 288.5,-3796.5 49.5,-3796.5\" stroke=\"#000000\"/>\n<text fill=\"#000000\" font-family=\"Times,serif\" font-size=\"14.00\" text-anchor=\"middle\" x=\"103.5\" y=\"-3810.8\">conv_dw_6_bn</text>\n<polyline fill=\"none\" points=\"157.5,-3796.5 157.5,-3832.5 \" stroke=\"#000000\"/>\n<text fill=\"#000000\" font-family=\"Times,serif\" font-size=\"14.00\" text-anchor=\"middle\" x=\"223\" y=\"-3810.8\">BatchNormalization</text>\n</g>\n<!-- 140423668482768&#45;&gt;140423668328592 -->\n<g class=\"edge\" id=\"edge38\">\n<title>140423668482768-&gt;140423668328592</title>\n<path d=\"M169,-3869.4551C169,-3861.3828 169,-3851.6764 169,-3842.6817\" fill=\"none\" stroke=\"#000000\"/>\n<polygon fill=\"#000000\" points=\"172.5001,-3842.5903 169,-3832.5904 165.5001,-3842.5904 172.5001,-3842.5903\" stroke=\"#000000\"/>\n</g>\n<!-- 140423667968272 -->\n<g class=\"node\" id=\"node40\">\n<title>140423667968272</title>\n<polygon fill=\"none\" points=\"85.5,-3723.5 85.5,-3759.5 252.5,-3759.5 252.5,-3723.5 85.5,-3723.5\" stroke=\"#000000\"/>\n<text fill=\"#000000\" font-family=\"Times,serif\" font-size=\"14.00\" text-anchor=\"middle\" x=\"143\" y=\"-3737.8\">conv_dw_6_relu</text>\n<polyline fill=\"none\" points=\"200.5,-3723.5 200.5,-3759.5 \" stroke=\"#000000\"/>\n<text fill=\"#000000\" font-family=\"Times,serif\" font-size=\"14.00\" text-anchor=\"middle\" x=\"226.5\" y=\"-3737.8\">ReLU</text>\n</g>\n<!-- 140423668328592&#45;&gt;140423667968272 -->\n<g class=\"edge\" id=\"edge39\">\n<title>140423668328592-&gt;140423667968272</title>\n<path d=\"M169,-3796.4551C169,-3788.3828 169,-3778.6764 169,-3769.6817\" fill=\"none\" stroke=\"#000000\"/>\n<polygon fill=\"#000000\" points=\"172.5001,-3769.5903 169,-3759.5904 165.5001,-3769.5904 172.5001,-3769.5903\" stroke=\"#000000\"/>\n</g>\n<!-- 140423668511952 -->\n<g class=\"node\" id=\"node41\">\n<title>140423668511952</title>\n<polygon fill=\"none\" points=\"92.5,-3650.5 92.5,-3686.5 245.5,-3686.5 245.5,-3650.5 92.5,-3650.5\" stroke=\"#000000\"/>\n<text fill=\"#000000\" font-family=\"Times,serif\" font-size=\"14.00\" text-anchor=\"middle\" x=\"135.5\" y=\"-3664.8\">conv_pw_6</text>\n<polyline fill=\"none\" points=\"178.5,-3650.5 178.5,-3686.5 \" stroke=\"#000000\"/>\n<text fill=\"#000000\" font-family=\"Times,serif\" font-size=\"14.00\" text-anchor=\"middle\" x=\"212\" y=\"-3664.8\">Conv2D</text>\n</g>\n<!-- 140423667968272&#45;&gt;140423668511952 -->\n<g class=\"edge\" id=\"edge40\">\n<title>140423667968272-&gt;140423668511952</title>\n<path d=\"M169,-3723.4551C169,-3715.3828 169,-3705.6764 169,-3696.6817\" fill=\"none\" stroke=\"#000000\"/>\n<polygon fill=\"#000000\" points=\"172.5001,-3696.5903 169,-3686.5904 165.5001,-3696.5904 172.5001,-3696.5903\" stroke=\"#000000\"/>\n</g>\n<!-- 140423668006416 -->\n<g class=\"node\" id=\"node42\">\n<title>140423668006416</title>\n<polygon fill=\"none\" points=\"49.5,-3577.5 49.5,-3613.5 288.5,-3613.5 288.5,-3577.5 49.5,-3577.5\" stroke=\"#000000\"/>\n<text fill=\"#000000\" font-family=\"Times,serif\" font-size=\"14.00\" text-anchor=\"middle\" x=\"103.5\" y=\"-3591.8\">conv_pw_6_bn</text>\n<polyline fill=\"none\" points=\"157.5,-3577.5 157.5,-3613.5 \" stroke=\"#000000\"/>\n<text fill=\"#000000\" font-family=\"Times,serif\" font-size=\"14.00\" text-anchor=\"middle\" x=\"223\" y=\"-3591.8\">BatchNormalization</text>\n</g>\n<!-- 140423668511952&#45;&gt;140423668006416 -->\n<g class=\"edge\" id=\"edge41\">\n<title>140423668511952-&gt;140423668006416</title>\n<path d=\"M169,-3650.4551C169,-3642.3828 169,-3632.6764 169,-3623.6817\" fill=\"none\" stroke=\"#000000\"/>\n<polygon fill=\"#000000\" points=\"172.5001,-3623.5903 169,-3613.5904 165.5001,-3623.5904 172.5001,-3623.5903\" stroke=\"#000000\"/>\n</g>\n<!-- 140423667491024 -->\n<g class=\"node\" id=\"node43\">\n<title>140423667491024</title>\n<polygon fill=\"none\" points=\"85.5,-3504.5 85.5,-3540.5 252.5,-3540.5 252.5,-3504.5 85.5,-3504.5\" stroke=\"#000000\"/>\n<text fill=\"#000000\" font-family=\"Times,serif\" font-size=\"14.00\" text-anchor=\"middle\" x=\"143\" y=\"-3518.8\">conv_pw_6_relu</text>\n<polyline fill=\"none\" points=\"200.5,-3504.5 200.5,-3540.5 \" stroke=\"#000000\"/>\n<text fill=\"#000000\" font-family=\"Times,serif\" font-size=\"14.00\" text-anchor=\"middle\" x=\"226.5\" y=\"-3518.8\">ReLU</text>\n</g>\n<!-- 140423668006416&#45;&gt;140423667491024 -->\n<g class=\"edge\" id=\"edge42\">\n<title>140423668006416-&gt;140423667491024</title>\n<path d=\"M169,-3577.4551C169,-3569.3828 169,-3559.6764 169,-3550.6817\" fill=\"none\" stroke=\"#000000\"/>\n<polygon fill=\"#000000\" points=\"172.5001,-3550.5903 169,-3540.5904 165.5001,-3550.5904 172.5001,-3550.5903\" stroke=\"#000000\"/>\n</g>\n<!-- 140423667494800 -->\n<g class=\"node\" id=\"node44\">\n<title>140423667494800</title>\n<polygon fill=\"none\" points=\"62,-3431.5 62,-3467.5 276,-3467.5 276,-3431.5 62,-3431.5\" stroke=\"#000000\"/>\n<text fill=\"#000000\" font-family=\"Times,serif\" font-size=\"14.00\" text-anchor=\"middle\" x=\"105\" y=\"-3445.8\">conv_dw_7</text>\n<polyline fill=\"none\" points=\"148,-3431.5 148,-3467.5 \" stroke=\"#000000\"/>\n<text fill=\"#000000\" font-family=\"Times,serif\" font-size=\"14.00\" text-anchor=\"middle\" x=\"212\" y=\"-3445.8\">DepthwiseConv2D</text>\n</g>\n<!-- 140423667491024&#45;&gt;140423667494800 -->\n<g class=\"edge\" id=\"edge43\">\n<title>140423667491024-&gt;140423667494800</title>\n<path d=\"M169,-3504.4551C169,-3496.3828 169,-3486.6764 169,-3477.6817\" fill=\"none\" stroke=\"#000000\"/>\n<polygon fill=\"#000000\" points=\"172.5001,-3477.5903 169,-3467.5904 165.5001,-3477.5904 172.5001,-3477.5903\" stroke=\"#000000\"/>\n</g>\n<!-- 140423667522640 -->\n<g class=\"node\" id=\"node45\">\n<title>140423667522640</title>\n<polygon fill=\"none\" points=\"49.5,-3358.5 49.5,-3394.5 288.5,-3394.5 288.5,-3358.5 49.5,-3358.5\" stroke=\"#000000\"/>\n<text fill=\"#000000\" font-family=\"Times,serif\" font-size=\"14.00\" text-anchor=\"middle\" x=\"103.5\" y=\"-3372.8\">conv_dw_7_bn</text>\n<polyline fill=\"none\" points=\"157.5,-3358.5 157.5,-3394.5 \" stroke=\"#000000\"/>\n<text fill=\"#000000\" font-family=\"Times,serif\" font-size=\"14.00\" text-anchor=\"middle\" x=\"223\" y=\"-3372.8\">BatchNormalization</text>\n</g>\n<!-- 140423667494800&#45;&gt;140423667522640 -->\n<g class=\"edge\" id=\"edge44\">\n<title>140423667494800-&gt;140423667522640</title>\n<path d=\"M169,-3431.4551C169,-3423.3828 169,-3413.6764 169,-3404.6817\" fill=\"none\" stroke=\"#000000\"/>\n<polygon fill=\"#000000\" points=\"172.5001,-3404.5903 169,-3394.5904 165.5001,-3404.5904 172.5001,-3404.5903\" stroke=\"#000000\"/>\n</g>\n<!-- 140423667493840 -->\n<g class=\"node\" id=\"node46\">\n<title>140423667493840</title>\n<polygon fill=\"none\" points=\"85.5,-3285.5 85.5,-3321.5 252.5,-3321.5 252.5,-3285.5 85.5,-3285.5\" stroke=\"#000000\"/>\n<text fill=\"#000000\" font-family=\"Times,serif\" font-size=\"14.00\" text-anchor=\"middle\" x=\"143\" y=\"-3299.8\">conv_dw_7_relu</text>\n<polyline fill=\"none\" points=\"200.5,-3285.5 200.5,-3321.5 \" stroke=\"#000000\"/>\n<text fill=\"#000000\" font-family=\"Times,serif\" font-size=\"14.00\" text-anchor=\"middle\" x=\"226.5\" y=\"-3299.8\">ReLU</text>\n</g>\n<!-- 140423667522640&#45;&gt;140423667493840 -->\n<g class=\"edge\" id=\"edge45\">\n<title>140423667522640-&gt;140423667493840</title>\n<path d=\"M169,-3358.4551C169,-3350.3828 169,-3340.6764 169,-3331.6817\" fill=\"none\" stroke=\"#000000\"/>\n<polygon fill=\"#000000\" points=\"172.5001,-3331.5903 169,-3321.5904 165.5001,-3331.5904 172.5001,-3331.5903\" stroke=\"#000000\"/>\n</g>\n<!-- 140423667536080 -->\n<g class=\"node\" id=\"node47\">\n<title>140423667536080</title>\n<polygon fill=\"none\" points=\"92.5,-3212.5 92.5,-3248.5 245.5,-3248.5 245.5,-3212.5 92.5,-3212.5\" stroke=\"#000000\"/>\n<text fill=\"#000000\" font-family=\"Times,serif\" font-size=\"14.00\" text-anchor=\"middle\" x=\"135.5\" y=\"-3226.8\">conv_pw_7</text>\n<polyline fill=\"none\" points=\"178.5,-3212.5 178.5,-3248.5 \" stroke=\"#000000\"/>\n<text fill=\"#000000\" font-family=\"Times,serif\" font-size=\"14.00\" text-anchor=\"middle\" x=\"212\" y=\"-3226.8\">Conv2D</text>\n</g>\n<!-- 140423667493840&#45;&gt;140423667536080 -->\n<g class=\"edge\" id=\"edge46\">\n<title>140423667493840-&gt;140423667536080</title>\n<path d=\"M169,-3285.4551C169,-3277.3828 169,-3267.6764 169,-3258.6817\" fill=\"none\" stroke=\"#000000\"/>\n<polygon fill=\"#000000\" points=\"172.5001,-3258.5903 169,-3248.5904 165.5001,-3258.5904 172.5001,-3258.5903\" stroke=\"#000000\"/>\n</g>\n<!-- 140423667609232 -->\n<g class=\"node\" id=\"node48\">\n<title>140423667609232</title>\n<polygon fill=\"none\" points=\"49.5,-3139.5 49.5,-3175.5 288.5,-3175.5 288.5,-3139.5 49.5,-3139.5\" stroke=\"#000000\"/>\n<text fill=\"#000000\" font-family=\"Times,serif\" font-size=\"14.00\" text-anchor=\"middle\" x=\"103.5\" y=\"-3153.8\">conv_pw_7_bn</text>\n<polyline fill=\"none\" points=\"157.5,-3139.5 157.5,-3175.5 \" stroke=\"#000000\"/>\n<text fill=\"#000000\" font-family=\"Times,serif\" font-size=\"14.00\" text-anchor=\"middle\" x=\"223\" y=\"-3153.8\">BatchNormalization</text>\n</g>\n<!-- 140423667536080&#45;&gt;140423667609232 -->\n<g class=\"edge\" id=\"edge47\">\n<title>140423667536080-&gt;140423667609232</title>\n<path d=\"M169,-3212.4551C169,-3204.3828 169,-3194.6764 169,-3185.6817\" fill=\"none\" stroke=\"#000000\"/>\n<polygon fill=\"#000000\" points=\"172.5001,-3185.5903 169,-3175.5904 165.5001,-3185.5904 172.5001,-3185.5903\" stroke=\"#000000\"/>\n</g>\n<!-- 140423667657808 -->\n<g class=\"node\" id=\"node49\">\n<title>140423667657808</title>\n<polygon fill=\"none\" points=\"85.5,-3066.5 85.5,-3102.5 252.5,-3102.5 252.5,-3066.5 85.5,-3066.5\" stroke=\"#000000\"/>\n<text fill=\"#000000\" font-family=\"Times,serif\" font-size=\"14.00\" text-anchor=\"middle\" x=\"143\" y=\"-3080.8\">conv_pw_7_relu</text>\n<polyline fill=\"none\" points=\"200.5,-3066.5 200.5,-3102.5 \" stroke=\"#000000\"/>\n<text fill=\"#000000\" font-family=\"Times,serif\" font-size=\"14.00\" text-anchor=\"middle\" x=\"226.5\" y=\"-3080.8\">ReLU</text>\n</g>\n<!-- 140423667609232&#45;&gt;140423667657808 -->\n<g class=\"edge\" id=\"edge48\">\n<title>140423667609232-&gt;140423667657808</title>\n<path d=\"M169,-3139.4551C169,-3131.3828 169,-3121.6764 169,-3112.6817\" fill=\"none\" stroke=\"#000000\"/>\n<polygon fill=\"#000000\" points=\"172.5001,-3112.5903 169,-3102.5904 165.5001,-3112.5904 172.5001,-3112.5903\" stroke=\"#000000\"/>\n</g>\n<!-- 140423667658640 -->\n<g class=\"node\" id=\"node50\">\n<title>140423667658640</title>\n<polygon fill=\"none\" points=\"62,-2993.5 62,-3029.5 276,-3029.5 276,-2993.5 62,-2993.5\" stroke=\"#000000\"/>\n<text fill=\"#000000\" font-family=\"Times,serif\" font-size=\"14.00\" text-anchor=\"middle\" x=\"105\" y=\"-3007.8\">conv_dw_8</text>\n<polyline fill=\"none\" points=\"148,-2993.5 148,-3029.5 \" stroke=\"#000000\"/>\n<text fill=\"#000000\" font-family=\"Times,serif\" font-size=\"14.00\" text-anchor=\"middle\" x=\"212\" y=\"-3007.8\">DepthwiseConv2D</text>\n</g>\n<!-- 140423667657808&#45;&gt;140423667658640 -->\n<g class=\"edge\" id=\"edge49\">\n<title>140423667657808-&gt;140423667658640</title>\n<path d=\"M169,-3066.4551C169,-3058.3828 169,-3048.6764 169,-3039.6817\" fill=\"none\" stroke=\"#000000\"/>\n<polygon fill=\"#000000\" points=\"172.5001,-3039.5903 169,-3029.5904 165.5001,-3039.5904 172.5001,-3039.5903\" stroke=\"#000000\"/>\n</g>\n<!-- 140423667626128 -->\n<g class=\"node\" id=\"node51\">\n<title>140423667626128</title>\n<polygon fill=\"none\" points=\"49.5,-2920.5 49.5,-2956.5 288.5,-2956.5 288.5,-2920.5 49.5,-2920.5\" stroke=\"#000000\"/>\n<text fill=\"#000000\" font-family=\"Times,serif\" font-size=\"14.00\" text-anchor=\"middle\" x=\"103.5\" y=\"-2934.8\">conv_dw_8_bn</text>\n<polyline fill=\"none\" points=\"157.5,-2920.5 157.5,-2956.5 \" stroke=\"#000000\"/>\n<text fill=\"#000000\" font-family=\"Times,serif\" font-size=\"14.00\" text-anchor=\"middle\" x=\"223\" y=\"-2934.8\">BatchNormalization</text>\n</g>\n<!-- 140423667658640&#45;&gt;140423667626128 -->\n<g class=\"edge\" id=\"edge50\">\n<title>140423667658640-&gt;140423667626128</title>\n<path d=\"M169,-2993.4551C169,-2985.3828 169,-2975.6764 169,-2966.6817\" fill=\"none\" stroke=\"#000000\"/>\n<polygon fill=\"#000000\" points=\"172.5001,-2966.5903 169,-2956.5904 165.5001,-2966.5904 172.5001,-2966.5903\" stroke=\"#000000\"/>\n</g>\n<!-- 140423667704912 -->\n<g class=\"node\" id=\"node52\">\n<title>140423667704912</title>\n<polygon fill=\"none\" points=\"85.5,-2847.5 85.5,-2883.5 252.5,-2883.5 252.5,-2847.5 85.5,-2847.5\" stroke=\"#000000\"/>\n<text fill=\"#000000\" font-family=\"Times,serif\" font-size=\"14.00\" text-anchor=\"middle\" x=\"143\" y=\"-2861.8\">conv_dw_8_relu</text>\n<polyline fill=\"none\" points=\"200.5,-2847.5 200.5,-2883.5 \" stroke=\"#000000\"/>\n<text fill=\"#000000\" font-family=\"Times,serif\" font-size=\"14.00\" text-anchor=\"middle\" x=\"226.5\" y=\"-2861.8\">ReLU</text>\n</g>\n<!-- 140423667626128&#45;&gt;140423667704912 -->\n<g class=\"edge\" id=\"edge51\">\n<title>140423667626128-&gt;140423667704912</title>\n<path d=\"M169,-2920.4551C169,-2912.3828 169,-2902.6764 169,-2893.6817\" fill=\"none\" stroke=\"#000000\"/>\n<polygon fill=\"#000000\" points=\"172.5001,-2893.5903 169,-2883.5904 165.5001,-2893.5904 172.5001,-2893.5903\" stroke=\"#000000\"/>\n</g>\n<!-- 140423667715856 -->\n<g class=\"node\" id=\"node53\">\n<title>140423667715856</title>\n<polygon fill=\"none\" points=\"92.5,-2774.5 92.5,-2810.5 245.5,-2810.5 245.5,-2774.5 92.5,-2774.5\" stroke=\"#000000\"/>\n<text fill=\"#000000\" font-family=\"Times,serif\" font-size=\"14.00\" text-anchor=\"middle\" x=\"135.5\" y=\"-2788.8\">conv_pw_8</text>\n<polyline fill=\"none\" points=\"178.5,-2774.5 178.5,-2810.5 \" stroke=\"#000000\"/>\n<text fill=\"#000000\" font-family=\"Times,serif\" font-size=\"14.00\" text-anchor=\"middle\" x=\"212\" y=\"-2788.8\">Conv2D</text>\n</g>\n<!-- 140423667704912&#45;&gt;140423667715856 -->\n<g class=\"edge\" id=\"edge52\">\n<title>140423667704912-&gt;140423667715856</title>\n<path d=\"M169,-2847.4551C169,-2839.3828 169,-2829.6764 169,-2820.6817\" fill=\"none\" stroke=\"#000000\"/>\n<polygon fill=\"#000000\" points=\"172.5001,-2820.5903 169,-2810.5904 165.5001,-2820.5904 172.5001,-2820.5903\" stroke=\"#000000\"/>\n</g>\n<!-- 140423667236624 -->\n<g class=\"node\" id=\"node54\">\n<title>140423667236624</title>\n<polygon fill=\"none\" points=\"49.5,-2701.5 49.5,-2737.5 288.5,-2737.5 288.5,-2701.5 49.5,-2701.5\" stroke=\"#000000\"/>\n<text fill=\"#000000\" font-family=\"Times,serif\" font-size=\"14.00\" text-anchor=\"middle\" x=\"103.5\" y=\"-2715.8\">conv_pw_8_bn</text>\n<polyline fill=\"none\" points=\"157.5,-2701.5 157.5,-2737.5 \" stroke=\"#000000\"/>\n<text fill=\"#000000\" font-family=\"Times,serif\" font-size=\"14.00\" text-anchor=\"middle\" x=\"223\" y=\"-2715.8\">BatchNormalization</text>\n</g>\n<!-- 140423667715856&#45;&gt;140423667236624 -->\n<g class=\"edge\" id=\"edge53\">\n<title>140423667715856-&gt;140423667236624</title>\n<path d=\"M169,-2774.4551C169,-2766.3828 169,-2756.6764 169,-2747.6817\" fill=\"none\" stroke=\"#000000\"/>\n<polygon fill=\"#000000\" points=\"172.5001,-2747.5903 169,-2737.5904 165.5001,-2747.5904 172.5001,-2747.5903\" stroke=\"#000000\"/>\n</g>\n<!-- 140423667293968 -->\n<g class=\"node\" id=\"node55\">\n<title>140423667293968</title>\n<polygon fill=\"none\" points=\"85.5,-2628.5 85.5,-2664.5 252.5,-2664.5 252.5,-2628.5 85.5,-2628.5\" stroke=\"#000000\"/>\n<text fill=\"#000000\" font-family=\"Times,serif\" font-size=\"14.00\" text-anchor=\"middle\" x=\"143\" y=\"-2642.8\">conv_pw_8_relu</text>\n<polyline fill=\"none\" points=\"200.5,-2628.5 200.5,-2664.5 \" stroke=\"#000000\"/>\n<text fill=\"#000000\" font-family=\"Times,serif\" font-size=\"14.00\" text-anchor=\"middle\" x=\"226.5\" y=\"-2642.8\">ReLU</text>\n</g>\n<!-- 140423667236624&#45;&gt;140423667293968 -->\n<g class=\"edge\" id=\"edge54\">\n<title>140423667236624-&gt;140423667293968</title>\n<path d=\"M169,-2701.4551C169,-2693.3828 169,-2683.6764 169,-2674.6817\" fill=\"none\" stroke=\"#000000\"/>\n<polygon fill=\"#000000\" points=\"172.5001,-2674.5903 169,-2664.5904 165.5001,-2674.5904 172.5001,-2674.5903\" stroke=\"#000000\"/>\n</g>\n<!-- 140423667293136 -->\n<g class=\"node\" id=\"node56\">\n<title>140423667293136</title>\n<polygon fill=\"none\" points=\"62,-2555.5 62,-2591.5 276,-2591.5 276,-2555.5 62,-2555.5\" stroke=\"#000000\"/>\n<text fill=\"#000000\" font-family=\"Times,serif\" font-size=\"14.00\" text-anchor=\"middle\" x=\"105\" y=\"-2569.8\">conv_dw_9</text>\n<polyline fill=\"none\" points=\"148,-2555.5 148,-2591.5 \" stroke=\"#000000\"/>\n<text fill=\"#000000\" font-family=\"Times,serif\" font-size=\"14.00\" text-anchor=\"middle\" x=\"212\" y=\"-2569.8\">DepthwiseConv2D</text>\n</g>\n<!-- 140423667293968&#45;&gt;140423667293136 -->\n<g class=\"edge\" id=\"edge55\">\n<title>140423667293968-&gt;140423667293136</title>\n<path d=\"M169,-2628.4551C169,-2620.3828 169,-2610.6764 169,-2601.6817\" fill=\"none\" stroke=\"#000000\"/>\n<polygon fill=\"#000000\" points=\"172.5001,-2601.5903 169,-2591.5904 165.5001,-2601.5904 172.5001,-2601.5903\" stroke=\"#000000\"/>\n</g>\n<!-- 140423667314128 -->\n<g class=\"node\" id=\"node57\">\n<title>140423667314128</title>\n<polygon fill=\"none\" points=\"49.5,-2482.5 49.5,-2518.5 288.5,-2518.5 288.5,-2482.5 49.5,-2482.5\" stroke=\"#000000\"/>\n<text fill=\"#000000\" font-family=\"Times,serif\" font-size=\"14.00\" text-anchor=\"middle\" x=\"103.5\" y=\"-2496.8\">conv_dw_9_bn</text>\n<polyline fill=\"none\" points=\"157.5,-2482.5 157.5,-2518.5 \" stroke=\"#000000\"/>\n<text fill=\"#000000\" font-family=\"Times,serif\" font-size=\"14.00\" text-anchor=\"middle\" x=\"223\" y=\"-2496.8\">BatchNormalization</text>\n</g>\n<!-- 140423667293136&#45;&gt;140423667314128 -->\n<g class=\"edge\" id=\"edge56\">\n<title>140423667293136-&gt;140423667314128</title>\n<path d=\"M169,-2555.4551C169,-2547.3828 169,-2537.6764 169,-2528.6817\" fill=\"none\" stroke=\"#000000\"/>\n<polygon fill=\"#000000\" points=\"172.5001,-2528.5903 169,-2518.5904 165.5001,-2528.5904 172.5001,-2528.5903\" stroke=\"#000000\"/>\n</g>\n<!-- 140423667340624 -->\n<g class=\"node\" id=\"node58\">\n<title>140423667340624</title>\n<polygon fill=\"none\" points=\"85.5,-2409.5 85.5,-2445.5 252.5,-2445.5 252.5,-2409.5 85.5,-2409.5\" stroke=\"#000000\"/>\n<text fill=\"#000000\" font-family=\"Times,serif\" font-size=\"14.00\" text-anchor=\"middle\" x=\"143\" y=\"-2423.8\">conv_dw_9_relu</text>\n<polyline fill=\"none\" points=\"200.5,-2409.5 200.5,-2445.5 \" stroke=\"#000000\"/>\n<text fill=\"#000000\" font-family=\"Times,serif\" font-size=\"14.00\" text-anchor=\"middle\" x=\"226.5\" y=\"-2423.8\">ReLU</text>\n</g>\n<!-- 140423667314128&#45;&gt;140423667340624 -->\n<g class=\"edge\" id=\"edge57\">\n<title>140423667314128-&gt;140423667340624</title>\n<path d=\"M169,-2482.4551C169,-2474.3828 169,-2464.6764 169,-2455.6817\" fill=\"none\" stroke=\"#000000\"/>\n<polygon fill=\"#000000\" points=\"172.5001,-2455.5903 169,-2445.5904 165.5001,-2455.5904 172.5001,-2455.5903\" stroke=\"#000000\"/>\n</g>\n<!-- 140423667340944 -->\n<g class=\"node\" id=\"node59\">\n<title>140423667340944</title>\n<polygon fill=\"none\" points=\"92.5,-2336.5 92.5,-2372.5 245.5,-2372.5 245.5,-2336.5 92.5,-2336.5\" stroke=\"#000000\"/>\n<text fill=\"#000000\" font-family=\"Times,serif\" font-size=\"14.00\" text-anchor=\"middle\" x=\"135.5\" y=\"-2350.8\">conv_pw_9</text>\n<polyline fill=\"none\" points=\"178.5,-2336.5 178.5,-2372.5 \" stroke=\"#000000\"/>\n<text fill=\"#000000\" font-family=\"Times,serif\" font-size=\"14.00\" text-anchor=\"middle\" x=\"212\" y=\"-2350.8\">Conv2D</text>\n</g>\n<!-- 140423667340624&#45;&gt;140423667340944 -->\n<g class=\"edge\" id=\"edge58\">\n<title>140423667340624-&gt;140423667340944</title>\n<path d=\"M169,-2409.4551C169,-2401.3828 169,-2391.6764 169,-2382.6817\" fill=\"none\" stroke=\"#000000\"/>\n<polygon fill=\"#000000\" points=\"172.5001,-2382.5903 169,-2372.5904 165.5001,-2382.5904 172.5001,-2382.5903\" stroke=\"#000000\"/>\n</g>\n<!-- 140423667293520 -->\n<g class=\"node\" id=\"node60\">\n<title>140423667293520</title>\n<polygon fill=\"none\" points=\"49.5,-2263.5 49.5,-2299.5 288.5,-2299.5 288.5,-2263.5 49.5,-2263.5\" stroke=\"#000000\"/>\n<text fill=\"#000000\" font-family=\"Times,serif\" font-size=\"14.00\" text-anchor=\"middle\" x=\"103.5\" y=\"-2277.8\">conv_pw_9_bn</text>\n<polyline fill=\"none\" points=\"157.5,-2263.5 157.5,-2299.5 \" stroke=\"#000000\"/>\n<text fill=\"#000000\" font-family=\"Times,serif\" font-size=\"14.00\" text-anchor=\"middle\" x=\"223\" y=\"-2277.8\">BatchNormalization</text>\n</g>\n<!-- 140423667340944&#45;&gt;140423667293520 -->\n<g class=\"edge\" id=\"edge59\">\n<title>140423667340944-&gt;140423667293520</title>\n<path d=\"M169,-2336.4551C169,-2328.3828 169,-2318.6764 169,-2309.6817\" fill=\"none\" stroke=\"#000000\"/>\n<polygon fill=\"#000000\" points=\"172.5001,-2309.5903 169,-2299.5904 165.5001,-2309.5904 172.5001,-2309.5903\" stroke=\"#000000\"/>\n</g>\n<!-- 140423667449552 -->\n<g class=\"node\" id=\"node61\">\n<title>140423667449552</title>\n<polygon fill=\"none\" points=\"85.5,-2190.5 85.5,-2226.5 252.5,-2226.5 252.5,-2190.5 85.5,-2190.5\" stroke=\"#000000\"/>\n<text fill=\"#000000\" font-family=\"Times,serif\" font-size=\"14.00\" text-anchor=\"middle\" x=\"143\" y=\"-2204.8\">conv_pw_9_relu</text>\n<polyline fill=\"none\" points=\"200.5,-2190.5 200.5,-2226.5 \" stroke=\"#000000\"/>\n<text fill=\"#000000\" font-family=\"Times,serif\" font-size=\"14.00\" text-anchor=\"middle\" x=\"226.5\" y=\"-2204.8\">ReLU</text>\n</g>\n<!-- 140423667293520&#45;&gt;140423667449552 -->\n<g class=\"edge\" id=\"edge60\">\n<title>140423667293520-&gt;140423667449552</title>\n<path d=\"M169,-2263.4551C169,-2255.3828 169,-2245.6764 169,-2236.6817\" fill=\"none\" stroke=\"#000000\"/>\n<polygon fill=\"#000000\" points=\"172.5001,-2236.5903 169,-2226.5904 165.5001,-2236.5904 172.5001,-2236.5903\" stroke=\"#000000\"/>\n</g>\n<!-- 140423667468560 -->\n<g class=\"node\" id=\"node62\">\n<title>140423667468560</title>\n<polygon fill=\"none\" points=\"58.5,-2117.5 58.5,-2153.5 279.5,-2153.5 279.5,-2117.5 58.5,-2117.5\" stroke=\"#000000\"/>\n<text fill=\"#000000\" font-family=\"Times,serif\" font-size=\"14.00\" text-anchor=\"middle\" x=\"105\" y=\"-2131.8\">conv_dw_10</text>\n<polyline fill=\"none\" points=\"151.5,-2117.5 151.5,-2153.5 \" stroke=\"#000000\"/>\n<text fill=\"#000000\" font-family=\"Times,serif\" font-size=\"14.00\" text-anchor=\"middle\" x=\"215.5\" y=\"-2131.8\">DepthwiseConv2D</text>\n</g>\n<!-- 140423667449552&#45;&gt;140423667468560 -->\n<g class=\"edge\" id=\"edge61\">\n<title>140423667449552-&gt;140423667468560</title>\n<path d=\"M169,-2190.4551C169,-2182.3828 169,-2172.6764 169,-2163.6817\" fill=\"none\" stroke=\"#000000\"/>\n<polygon fill=\"#000000\" points=\"172.5001,-2163.5903 169,-2153.5904 165.5001,-2163.5904 172.5001,-2163.5903\" stroke=\"#000000\"/>\n</g>\n<!-- 140423667377232 -->\n<g class=\"node\" id=\"node63\">\n<title>140423667377232</title>\n<polygon fill=\"none\" points=\"45.5,-2044.5 45.5,-2080.5 292.5,-2080.5 292.5,-2044.5 45.5,-2044.5\" stroke=\"#000000\"/>\n<text fill=\"#000000\" font-family=\"Times,serif\" font-size=\"14.00\" text-anchor=\"middle\" x=\"103.5\" y=\"-2058.8\">conv_dw_10_bn</text>\n<polyline fill=\"none\" points=\"161.5,-2044.5 161.5,-2080.5 \" stroke=\"#000000\"/>\n<text fill=\"#000000\" font-family=\"Times,serif\" font-size=\"14.00\" text-anchor=\"middle\" x=\"227\" y=\"-2058.8\">BatchNormalization</text>\n</g>\n<!-- 140423667468560&#45;&gt;140423667377232 -->\n<g class=\"edge\" id=\"edge62\">\n<title>140423667468560-&gt;140423667377232</title>\n<path d=\"M169,-2117.4551C169,-2109.3828 169,-2099.6764 169,-2090.6817\" fill=\"none\" stroke=\"#000000\"/>\n<polygon fill=\"#000000\" points=\"172.5001,-2090.5903 169,-2080.5904 165.5001,-2090.5904 172.5001,-2090.5903\" stroke=\"#000000\"/>\n</g>\n<!-- 140423666997072 -->\n<g class=\"node\" id=\"node64\">\n<title>140423666997072</title>\n<polygon fill=\"none\" points=\"82,-1971.5 82,-2007.5 256,-2007.5 256,-1971.5 82,-1971.5\" stroke=\"#000000\"/>\n<text fill=\"#000000\" font-family=\"Times,serif\" font-size=\"14.00\" text-anchor=\"middle\" x=\"143\" y=\"-1985.8\">conv_dw_10_relu</text>\n<polyline fill=\"none\" points=\"204,-1971.5 204,-2007.5 \" stroke=\"#000000\"/>\n<text fill=\"#000000\" font-family=\"Times,serif\" font-size=\"14.00\" text-anchor=\"middle\" x=\"230\" y=\"-1985.8\">ReLU</text>\n</g>\n<!-- 140423667377232&#45;&gt;140423666997072 -->\n<g class=\"edge\" id=\"edge63\">\n<title>140423667377232-&gt;140423666997072</title>\n<path d=\"M169,-2044.4551C169,-2036.3828 169,-2026.6764 169,-2017.6817\" fill=\"none\" stroke=\"#000000\"/>\n<polygon fill=\"#000000\" points=\"172.5001,-2017.5903 169,-2007.5904 165.5001,-2017.5904 172.5001,-2017.5903\" stroke=\"#000000\"/>\n</g>\n<!-- 140423666996240 -->\n<g class=\"node\" id=\"node65\">\n<title>140423666996240</title>\n<polygon fill=\"none\" points=\"89,-1898.5 89,-1934.5 249,-1934.5 249,-1898.5 89,-1898.5\" stroke=\"#000000\"/>\n<text fill=\"#000000\" font-family=\"Times,serif\" font-size=\"14.00\" text-anchor=\"middle\" x=\"135.5\" y=\"-1912.8\">conv_pw_10</text>\n<polyline fill=\"none\" points=\"182,-1898.5 182,-1934.5 \" stroke=\"#000000\"/>\n<text fill=\"#000000\" font-family=\"Times,serif\" font-size=\"14.00\" text-anchor=\"middle\" x=\"215.5\" y=\"-1912.8\">Conv2D</text>\n</g>\n<!-- 140423666997072&#45;&gt;140423666996240 -->\n<g class=\"edge\" id=\"edge64\">\n<title>140423666997072-&gt;140423666996240</title>\n<path d=\"M169,-1971.4551C169,-1963.3828 169,-1953.6764 169,-1944.6817\" fill=\"none\" stroke=\"#000000\"/>\n<polygon fill=\"#000000\" points=\"172.5001,-1944.5903 169,-1934.5904 165.5001,-1944.5904 172.5001,-1944.5903\" stroke=\"#000000\"/>\n</g>\n<!-- 140423667030864 -->\n<g class=\"node\" id=\"node66\">\n<title>140423667030864</title>\n<polygon fill=\"none\" points=\"45.5,-1825.5 45.5,-1861.5 292.5,-1861.5 292.5,-1825.5 45.5,-1825.5\" stroke=\"#000000\"/>\n<text fill=\"#000000\" font-family=\"Times,serif\" font-size=\"14.00\" text-anchor=\"middle\" x=\"103.5\" y=\"-1839.8\">conv_pw_10_bn</text>\n<polyline fill=\"none\" points=\"161.5,-1825.5 161.5,-1861.5 \" stroke=\"#000000\"/>\n<text fill=\"#000000\" font-family=\"Times,serif\" font-size=\"14.00\" text-anchor=\"middle\" x=\"227\" y=\"-1839.8\">BatchNormalization</text>\n</g>\n<!-- 140423666996240&#45;&gt;140423667030864 -->\n<g class=\"edge\" id=\"edge65\">\n<title>140423666996240-&gt;140423667030864</title>\n<path d=\"M169,-1898.4551C169,-1890.3828 169,-1880.6764 169,-1871.6817\" fill=\"none\" stroke=\"#000000\"/>\n<polygon fill=\"#000000\" points=\"172.5001,-1871.5903 169,-1861.5904 165.5001,-1871.5904 172.5001,-1871.5903\" stroke=\"#000000\"/>\n</g>\n<!-- 140423667068496 -->\n<g class=\"node\" id=\"node67\">\n<title>140423667068496</title>\n<polygon fill=\"none\" points=\"82,-1752.5 82,-1788.5 256,-1788.5 256,-1752.5 82,-1752.5\" stroke=\"#000000\"/>\n<text fill=\"#000000\" font-family=\"Times,serif\" font-size=\"14.00\" text-anchor=\"middle\" x=\"143\" y=\"-1766.8\">conv_pw_10_relu</text>\n<polyline fill=\"none\" points=\"204,-1752.5 204,-1788.5 \" stroke=\"#000000\"/>\n<text fill=\"#000000\" font-family=\"Times,serif\" font-size=\"14.00\" text-anchor=\"middle\" x=\"230\" y=\"-1766.8\">ReLU</text>\n</g>\n<!-- 140423667030864&#45;&gt;140423667068496 -->\n<g class=\"edge\" id=\"edge66\">\n<title>140423667030864-&gt;140423667068496</title>\n<path d=\"M169,-1825.4551C169,-1817.3828 169,-1807.6764 169,-1798.6817\" fill=\"none\" stroke=\"#000000\"/>\n<polygon fill=\"#000000\" points=\"172.5001,-1798.5903 169,-1788.5904 165.5001,-1798.5904 172.5001,-1798.5903\" stroke=\"#000000\"/>\n</g>\n<!-- 140423667090960 -->\n<g class=\"node\" id=\"node68\">\n<title>140423667090960</title>\n<polygon fill=\"none\" points=\"59,-1679.5 59,-1715.5 279,-1715.5 279,-1679.5 59,-1679.5\" stroke=\"#000000\"/>\n<text fill=\"#000000\" font-family=\"Times,serif\" font-size=\"14.00\" text-anchor=\"middle\" x=\"105\" y=\"-1693.8\">conv_dw_11</text>\n<polyline fill=\"none\" points=\"151,-1679.5 151,-1715.5 \" stroke=\"#000000\"/>\n<text fill=\"#000000\" font-family=\"Times,serif\" font-size=\"14.00\" text-anchor=\"middle\" x=\"215\" y=\"-1693.8\">DepthwiseConv2D</text>\n</g>\n<!-- 140423667068496&#45;&gt;140423667090960 -->\n<g class=\"edge\" id=\"edge67\">\n<title>140423667068496-&gt;140423667090960</title>\n<path d=\"M169,-1752.4551C169,-1744.3828 169,-1734.6764 169,-1725.6817\" fill=\"none\" stroke=\"#000000\"/>\n<polygon fill=\"#000000\" points=\"172.5001,-1725.5903 169,-1715.5904 165.5001,-1725.5904 172.5001,-1725.5903\" stroke=\"#000000\"/>\n</g>\n<!-- 140423667008848 -->\n<g class=\"node\" id=\"node69\">\n<title>140423667008848</title>\n<polygon fill=\"none\" points=\"46,-1606.5 46,-1642.5 292,-1642.5 292,-1606.5 46,-1606.5\" stroke=\"#000000\"/>\n<text fill=\"#000000\" font-family=\"Times,serif\" font-size=\"14.00\" text-anchor=\"middle\" x=\"103.5\" y=\"-1620.8\">conv_dw_11_bn</text>\n<polyline fill=\"none\" points=\"161,-1606.5 161,-1642.5 \" stroke=\"#000000\"/>\n<text fill=\"#000000\" font-family=\"Times,serif\" font-size=\"14.00\" text-anchor=\"middle\" x=\"226.5\" y=\"-1620.8\">BatchNormalization</text>\n</g>\n<!-- 140423667090960&#45;&gt;140423667008848 -->\n<g class=\"edge\" id=\"edge68\">\n<title>140423667090960-&gt;140423667008848</title>\n<path d=\"M169,-1679.4551C169,-1671.3828 169,-1661.6764 169,-1652.6817\" fill=\"none\" stroke=\"#000000\"/>\n<polygon fill=\"#000000\" points=\"172.5001,-1652.5903 169,-1642.5904 165.5001,-1652.5904 172.5001,-1652.5903\" stroke=\"#000000\"/>\n</g>\n<!-- 140423667144656 -->\n<g class=\"node\" id=\"node70\">\n<title>140423667144656</title>\n<polygon fill=\"none\" points=\"82,-1533.5 82,-1569.5 256,-1569.5 256,-1533.5 82,-1533.5\" stroke=\"#000000\"/>\n<text fill=\"#000000\" font-family=\"Times,serif\" font-size=\"14.00\" text-anchor=\"middle\" x=\"143\" y=\"-1547.8\">conv_dw_11_relu</text>\n<polyline fill=\"none\" points=\"204,-1533.5 204,-1569.5 \" stroke=\"#000000\"/>\n<text fill=\"#000000\" font-family=\"Times,serif\" font-size=\"14.00\" text-anchor=\"middle\" x=\"230\" y=\"-1547.8\">ReLU</text>\n</g>\n<!-- 140423667008848&#45;&gt;140423667144656 -->\n<g class=\"edge\" id=\"edge69\">\n<title>140423667008848-&gt;140423667144656</title>\n<path d=\"M169,-1606.4551C169,-1598.3828 169,-1588.6764 169,-1579.6817\" fill=\"none\" stroke=\"#000000\"/>\n<polygon fill=\"#000000\" points=\"172.5001,-1579.5903 169,-1569.5904 165.5001,-1579.5904 172.5001,-1579.5903\" stroke=\"#000000\"/>\n</g>\n<!-- 140423667143824 -->\n<g class=\"node\" id=\"node71\">\n<title>140423667143824</title>\n<polygon fill=\"none\" points=\"89.5,-1460.5 89.5,-1496.5 248.5,-1496.5 248.5,-1460.5 89.5,-1460.5\" stroke=\"#000000\"/>\n<text fill=\"#000000\" font-family=\"Times,serif\" font-size=\"14.00\" text-anchor=\"middle\" x=\"135.5\" y=\"-1474.8\">conv_pw_11</text>\n<polyline fill=\"none\" points=\"181.5,-1460.5 181.5,-1496.5 \" stroke=\"#000000\"/>\n<text fill=\"#000000\" font-family=\"Times,serif\" font-size=\"14.00\" text-anchor=\"middle\" x=\"215\" y=\"-1474.8\">Conv2D</text>\n</g>\n<!-- 140423667144656&#45;&gt;140423667143824 -->\n<g class=\"edge\" id=\"edge70\">\n<title>140423667144656-&gt;140423667143824</title>\n<path d=\"M169,-1533.4551C169,-1525.3828 169,-1515.6764 169,-1506.6817\" fill=\"none\" stroke=\"#000000\"/>\n<polygon fill=\"#000000\" points=\"172.5001,-1506.5903 169,-1496.5904 165.5001,-1506.5904 172.5001,-1506.5903\" stroke=\"#000000\"/>\n</g>\n<!-- 140423667093392 -->\n<g class=\"node\" id=\"node72\">\n<title>140423667093392</title>\n<polygon fill=\"none\" points=\"46,-1387.5 46,-1423.5 292,-1423.5 292,-1387.5 46,-1387.5\" stroke=\"#000000\"/>\n<text fill=\"#000000\" font-family=\"Times,serif\" font-size=\"14.00\" text-anchor=\"middle\" x=\"103.5\" y=\"-1401.8\">conv_pw_11_bn</text>\n<polyline fill=\"none\" points=\"161,-1387.5 161,-1423.5 \" stroke=\"#000000\"/>\n<text fill=\"#000000\" font-family=\"Times,serif\" font-size=\"14.00\" text-anchor=\"middle\" x=\"226.5\" y=\"-1401.8\">BatchNormalization</text>\n</g>\n<!-- 140423667143824&#45;&gt;140423667093392 -->\n<g class=\"edge\" id=\"edge71\">\n<title>140423667143824-&gt;140423667093392</title>\n<path d=\"M169,-1460.4551C169,-1452.3828 169,-1442.6764 169,-1433.6817\" fill=\"none\" stroke=\"#000000\"/>\n<polygon fill=\"#000000\" points=\"172.5001,-1433.5903 169,-1423.5904 165.5001,-1433.5904 172.5001,-1433.5903\" stroke=\"#000000\"/>\n</g>\n<!-- 140423667028688 -->\n<g class=\"node\" id=\"node73\">\n<title>140423667028688</title>\n<polygon fill=\"none\" points=\"82,-1314.5 82,-1350.5 256,-1350.5 256,-1314.5 82,-1314.5\" stroke=\"#000000\"/>\n<text fill=\"#000000\" font-family=\"Times,serif\" font-size=\"14.00\" text-anchor=\"middle\" x=\"143\" y=\"-1328.8\">conv_pw_11_relu</text>\n<polyline fill=\"none\" points=\"204,-1314.5 204,-1350.5 \" stroke=\"#000000\"/>\n<text fill=\"#000000\" font-family=\"Times,serif\" font-size=\"14.00\" text-anchor=\"middle\" x=\"230\" y=\"-1328.8\">ReLU</text>\n</g>\n<!-- 140423667093392&#45;&gt;140423667028688 -->\n<g class=\"edge\" id=\"edge72\">\n<title>140423667093392-&gt;140423667028688</title>\n<path d=\"M169,-1387.4551C169,-1379.3828 169,-1369.6764 169,-1360.6817\" fill=\"none\" stroke=\"#000000\"/>\n<polygon fill=\"#000000\" points=\"172.5001,-1360.5903 169,-1350.5904 165.5001,-1360.5904 172.5001,-1360.5903\" stroke=\"#000000\"/>\n</g>\n<!-- 140423667446544 -->\n<g class=\"node\" id=\"node74\">\n<title>140423667446544</title>\n<polygon fill=\"none\" points=\"66,-1241.5 66,-1277.5 272,-1277.5 272,-1241.5 66,-1241.5\" stroke=\"#000000\"/>\n<text fill=\"#000000\" font-family=\"Times,serif\" font-size=\"14.00\" text-anchor=\"middle\" x=\"114\" y=\"-1255.8\">conv_pad_12</text>\n<polyline fill=\"none\" points=\"162,-1241.5 162,-1277.5 \" stroke=\"#000000\"/>\n<text fill=\"#000000\" font-family=\"Times,serif\" font-size=\"14.00\" text-anchor=\"middle\" x=\"217\" y=\"-1255.8\">ZeroPadding2D</text>\n</g>\n<!-- 140423667028688&#45;&gt;140423667446544 -->\n<g class=\"edge\" id=\"edge73\">\n<title>140423667028688-&gt;140423667446544</title>\n<path d=\"M169,-1314.4551C169,-1306.3828 169,-1296.6764 169,-1287.6817\" fill=\"none\" stroke=\"#000000\"/>\n<polygon fill=\"#000000\" points=\"172.5001,-1287.5903 169,-1277.5904 165.5001,-1287.5904 172.5001,-1287.5903\" stroke=\"#000000\"/>\n</g>\n<!-- 140423666975184 -->\n<g class=\"node\" id=\"node75\">\n<title>140423666975184</title>\n<polygon fill=\"none\" points=\"58.5,-1168.5 58.5,-1204.5 279.5,-1204.5 279.5,-1168.5 58.5,-1168.5\" stroke=\"#000000\"/>\n<text fill=\"#000000\" font-family=\"Times,serif\" font-size=\"14.00\" text-anchor=\"middle\" x=\"105\" y=\"-1182.8\">conv_dw_12</text>\n<polyline fill=\"none\" points=\"151.5,-1168.5 151.5,-1204.5 \" stroke=\"#000000\"/>\n<text fill=\"#000000\" font-family=\"Times,serif\" font-size=\"14.00\" text-anchor=\"middle\" x=\"215.5\" y=\"-1182.8\">DepthwiseConv2D</text>\n</g>\n<!-- 140423667446544&#45;&gt;140423666975184 -->\n<g class=\"edge\" id=\"edge74\">\n<title>140423667446544-&gt;140423666975184</title>\n<path d=\"M169,-1241.4551C169,-1233.3828 169,-1223.6764 169,-1214.6817\" fill=\"none\" stroke=\"#000000\"/>\n<polygon fill=\"#000000\" points=\"172.5001,-1214.5903 169,-1204.5904 165.5001,-1214.5904 172.5001,-1214.5903\" stroke=\"#000000\"/>\n</g>\n<!-- 140423667343248 -->\n<g class=\"node\" id=\"node76\">\n<title>140423667343248</title>\n<polygon fill=\"none\" points=\"45.5,-1095.5 45.5,-1131.5 292.5,-1131.5 292.5,-1095.5 45.5,-1095.5\" stroke=\"#000000\"/>\n<text fill=\"#000000\" font-family=\"Times,serif\" font-size=\"14.00\" text-anchor=\"middle\" x=\"103.5\" y=\"-1109.8\">conv_dw_12_bn</text>\n<polyline fill=\"none\" points=\"161.5,-1095.5 161.5,-1131.5 \" stroke=\"#000000\"/>\n<text fill=\"#000000\" font-family=\"Times,serif\" font-size=\"14.00\" text-anchor=\"middle\" x=\"227\" y=\"-1109.8\">BatchNormalization</text>\n</g>\n<!-- 140423666975184&#45;&gt;140423667343248 -->\n<g class=\"edge\" id=\"edge75\">\n<title>140423666975184-&gt;140423667343248</title>\n<path d=\"M169,-1168.4551C169,-1160.3828 169,-1150.6764 169,-1141.6817\" fill=\"none\" stroke=\"#000000\"/>\n<polygon fill=\"#000000\" points=\"172.5001,-1141.5903 169,-1131.5904 165.5001,-1141.5904 172.5001,-1141.5903\" stroke=\"#000000\"/>\n</g>\n<!-- 140423667267856 -->\n<g class=\"node\" id=\"node77\">\n<title>140423667267856</title>\n<polygon fill=\"none\" points=\"82,-1022.5 82,-1058.5 256,-1058.5 256,-1022.5 82,-1022.5\" stroke=\"#000000\"/>\n<text fill=\"#000000\" font-family=\"Times,serif\" font-size=\"14.00\" text-anchor=\"middle\" x=\"143\" y=\"-1036.8\">conv_dw_12_relu</text>\n<polyline fill=\"none\" points=\"204,-1022.5 204,-1058.5 \" stroke=\"#000000\"/>\n<text fill=\"#000000\" font-family=\"Times,serif\" font-size=\"14.00\" text-anchor=\"middle\" x=\"230\" y=\"-1036.8\">ReLU</text>\n</g>\n<!-- 140423667343248&#45;&gt;140423667267856 -->\n<g class=\"edge\" id=\"edge76\">\n<title>140423667343248-&gt;140423667267856</title>\n<path d=\"M169,-1095.4551C169,-1087.3828 169,-1077.6764 169,-1068.6817\" fill=\"none\" stroke=\"#000000\"/>\n<polygon fill=\"#000000\" points=\"172.5001,-1068.5903 169,-1058.5904 165.5001,-1068.5904 172.5001,-1068.5903\" stroke=\"#000000\"/>\n</g>\n<!-- 140423667235792 -->\n<g class=\"node\" id=\"node78\">\n<title>140423667235792</title>\n<polygon fill=\"none\" points=\"89,-949.5 89,-985.5 249,-985.5 249,-949.5 89,-949.5\" stroke=\"#000000\"/>\n<text fill=\"#000000\" font-family=\"Times,serif\" font-size=\"14.00\" text-anchor=\"middle\" x=\"135.5\" y=\"-963.8\">conv_pw_12</text>\n<polyline fill=\"none\" points=\"182,-949.5 182,-985.5 \" stroke=\"#000000\"/>\n<text fill=\"#000000\" font-family=\"Times,serif\" font-size=\"14.00\" text-anchor=\"middle\" x=\"215.5\" y=\"-963.8\">Conv2D</text>\n</g>\n<!-- 140423667267856&#45;&gt;140423667235792 -->\n<g class=\"edge\" id=\"edge77\">\n<title>140423667267856-&gt;140423667235792</title>\n<path d=\"M169,-1022.4551C169,-1014.3828 169,-1004.6764 169,-995.6817\" fill=\"none\" stroke=\"#000000\"/>\n<polygon fill=\"#000000\" points=\"172.5001,-995.5903 169,-985.5904 165.5001,-995.5904 172.5001,-995.5903\" stroke=\"#000000\"/>\n</g>\n<!-- 140423667029008 -->\n<g class=\"node\" id=\"node79\">\n<title>140423667029008</title>\n<polygon fill=\"none\" points=\"45.5,-876.5 45.5,-912.5 292.5,-912.5 292.5,-876.5 45.5,-876.5\" stroke=\"#000000\"/>\n<text fill=\"#000000\" font-family=\"Times,serif\" font-size=\"14.00\" text-anchor=\"middle\" x=\"103.5\" y=\"-890.8\">conv_pw_12_bn</text>\n<polyline fill=\"none\" points=\"161.5,-876.5 161.5,-912.5 \" stroke=\"#000000\"/>\n<text fill=\"#000000\" font-family=\"Times,serif\" font-size=\"14.00\" text-anchor=\"middle\" x=\"227\" y=\"-890.8\">BatchNormalization</text>\n</g>\n<!-- 140423667235792&#45;&gt;140423667029008 -->\n<g class=\"edge\" id=\"edge78\">\n<title>140423667235792-&gt;140423667029008</title>\n<path d=\"M169,-949.4551C169,-941.3828 169,-931.6764 169,-922.6817\" fill=\"none\" stroke=\"#000000\"/>\n<polygon fill=\"#000000\" points=\"172.5001,-922.5903 169,-912.5904 165.5001,-922.5904 172.5001,-922.5903\" stroke=\"#000000\"/>\n</g>\n<!-- 140423667605712 -->\n<g class=\"node\" id=\"node80\">\n<title>140423667605712</title>\n<polygon fill=\"none\" points=\"82,-803.5 82,-839.5 256,-839.5 256,-803.5 82,-803.5\" stroke=\"#000000\"/>\n<text fill=\"#000000\" font-family=\"Times,serif\" font-size=\"14.00\" text-anchor=\"middle\" x=\"143\" y=\"-817.8\">conv_pw_12_relu</text>\n<polyline fill=\"none\" points=\"204,-803.5 204,-839.5 \" stroke=\"#000000\"/>\n<text fill=\"#000000\" font-family=\"Times,serif\" font-size=\"14.00\" text-anchor=\"middle\" x=\"230\" y=\"-817.8\">ReLU</text>\n</g>\n<!-- 140423667029008&#45;&gt;140423667605712 -->\n<g class=\"edge\" id=\"edge79\">\n<title>140423667029008-&gt;140423667605712</title>\n<path d=\"M169,-876.4551C169,-868.3828 169,-858.6764 169,-849.6817\" fill=\"none\" stroke=\"#000000\"/>\n<polygon fill=\"#000000\" points=\"172.5001,-849.5903 169,-839.5904 165.5001,-849.5904 172.5001,-849.5903\" stroke=\"#000000\"/>\n</g>\n<!-- 140423667494608 -->\n<g class=\"node\" id=\"node81\">\n<title>140423667494608</title>\n<polygon fill=\"none\" points=\"58.5,-730.5 58.5,-766.5 279.5,-766.5 279.5,-730.5 58.5,-730.5\" stroke=\"#000000\"/>\n<text fill=\"#000000\" font-family=\"Times,serif\" font-size=\"14.00\" text-anchor=\"middle\" x=\"105\" y=\"-744.8\">conv_dw_13</text>\n<polyline fill=\"none\" points=\"151.5,-730.5 151.5,-766.5 \" stroke=\"#000000\"/>\n<text fill=\"#000000\" font-family=\"Times,serif\" font-size=\"14.00\" text-anchor=\"middle\" x=\"215.5\" y=\"-744.8\">DepthwiseConv2D</text>\n</g>\n<!-- 140423667605712&#45;&gt;140423667494608 -->\n<g class=\"edge\" id=\"edge80\">\n<title>140423667605712-&gt;140423667494608</title>\n<path d=\"M169,-803.4551C169,-795.3828 169,-785.6764 169,-776.6817\" fill=\"none\" stroke=\"#000000\"/>\n<polygon fill=\"#000000\" points=\"172.5001,-776.5903 169,-766.5904 165.5001,-776.5904 172.5001,-776.5903\" stroke=\"#000000\"/>\n</g>\n<!-- 140423667606352 -->\n<g class=\"node\" id=\"node82\">\n<title>140423667606352</title>\n<polygon fill=\"none\" points=\"45.5,-657.5 45.5,-693.5 292.5,-693.5 292.5,-657.5 45.5,-657.5\" stroke=\"#000000\"/>\n<text fill=\"#000000\" font-family=\"Times,serif\" font-size=\"14.00\" text-anchor=\"middle\" x=\"103.5\" y=\"-671.8\">conv_dw_13_bn</text>\n<polyline fill=\"none\" points=\"161.5,-657.5 161.5,-693.5 \" stroke=\"#000000\"/>\n<text fill=\"#000000\" font-family=\"Times,serif\" font-size=\"14.00\" text-anchor=\"middle\" x=\"227\" y=\"-671.8\">BatchNormalization</text>\n</g>\n<!-- 140423667494608&#45;&gt;140423667606352 -->\n<g class=\"edge\" id=\"edge81\">\n<title>140423667494608-&gt;140423667606352</title>\n<path d=\"M169,-730.4551C169,-722.3828 169,-712.6764 169,-703.6817\" fill=\"none\" stroke=\"#000000\"/>\n<polygon fill=\"#000000\" points=\"172.5001,-703.5903 169,-693.5904 165.5001,-703.5904 172.5001,-703.5903\" stroke=\"#000000\"/>\n</g>\n<!-- 140423668758160 -->\n<g class=\"node\" id=\"node83\">\n<title>140423668758160</title>\n<polygon fill=\"none\" points=\"82,-584.5 82,-620.5 256,-620.5 256,-584.5 82,-584.5\" stroke=\"#000000\"/>\n<text fill=\"#000000\" font-family=\"Times,serif\" font-size=\"14.00\" text-anchor=\"middle\" x=\"143\" y=\"-598.8\">conv_dw_13_relu</text>\n<polyline fill=\"none\" points=\"204,-584.5 204,-620.5 \" stroke=\"#000000\"/>\n<text fill=\"#000000\" font-family=\"Times,serif\" font-size=\"14.00\" text-anchor=\"middle\" x=\"230\" y=\"-598.8\">ReLU</text>\n</g>\n<!-- 140423667606352&#45;&gt;140423668758160 -->\n<g class=\"edge\" id=\"edge82\">\n<title>140423667606352-&gt;140423668758160</title>\n<path d=\"M169,-657.4551C169,-649.3828 169,-639.6764 169,-630.6817\" fill=\"none\" stroke=\"#000000\"/>\n<polygon fill=\"#000000\" points=\"172.5001,-630.5903 169,-620.5904 165.5001,-630.5904 172.5001,-630.5903\" stroke=\"#000000\"/>\n</g>\n<!-- 140423667998160 -->\n<g class=\"node\" id=\"node84\">\n<title>140423667998160</title>\n<polygon fill=\"none\" points=\"89,-511.5 89,-547.5 249,-547.5 249,-511.5 89,-511.5\" stroke=\"#000000\"/>\n<text fill=\"#000000\" font-family=\"Times,serif\" font-size=\"14.00\" text-anchor=\"middle\" x=\"135.5\" y=\"-525.8\">conv_pw_13</text>\n<polyline fill=\"none\" points=\"182,-511.5 182,-547.5 \" stroke=\"#000000\"/>\n<text fill=\"#000000\" font-family=\"Times,serif\" font-size=\"14.00\" text-anchor=\"middle\" x=\"215.5\" y=\"-525.8\">Conv2D</text>\n</g>\n<!-- 140423668758160&#45;&gt;140423667998160 -->\n<g class=\"edge\" id=\"edge83\">\n<title>140423668758160-&gt;140423667998160</title>\n<path d=\"M169,-584.4551C169,-576.3828 169,-566.6764 169,-557.6817\" fill=\"none\" stroke=\"#000000\"/>\n<polygon fill=\"#000000\" points=\"172.5001,-557.5903 169,-547.5904 165.5001,-557.5904 172.5001,-557.5903\" stroke=\"#000000\"/>\n</g>\n<!-- 140423667176528 -->\n<g class=\"node\" id=\"node85\">\n<title>140423667176528</title>\n<polygon fill=\"none\" points=\"45.5,-438.5 45.5,-474.5 292.5,-474.5 292.5,-438.5 45.5,-438.5\" stroke=\"#000000\"/>\n<text fill=\"#000000\" font-family=\"Times,serif\" font-size=\"14.00\" text-anchor=\"middle\" x=\"103.5\" y=\"-452.8\">conv_pw_13_bn</text>\n<polyline fill=\"none\" points=\"161.5,-438.5 161.5,-474.5 \" stroke=\"#000000\"/>\n<text fill=\"#000000\" font-family=\"Times,serif\" font-size=\"14.00\" text-anchor=\"middle\" x=\"227\" y=\"-452.8\">BatchNormalization</text>\n</g>\n<!-- 140423667998160&#45;&gt;140423667176528 -->\n<g class=\"edge\" id=\"edge84\">\n<title>140423667998160-&gt;140423667176528</title>\n<path d=\"M169,-511.4551C169,-503.3828 169,-493.6764 169,-484.6817\" fill=\"none\" stroke=\"#000000\"/>\n<polygon fill=\"#000000\" points=\"172.5001,-484.5903 169,-474.5904 165.5001,-484.5904 172.5001,-484.5903\" stroke=\"#000000\"/>\n</g>\n<!-- 140423667996880 -->\n<g class=\"node\" id=\"node86\">\n<title>140423667996880</title>\n<polygon fill=\"none\" points=\"82,-365.5 82,-401.5 256,-401.5 256,-365.5 82,-365.5\" stroke=\"#000000\"/>\n<text fill=\"#000000\" font-family=\"Times,serif\" font-size=\"14.00\" text-anchor=\"middle\" x=\"143\" y=\"-379.8\">conv_pw_13_relu</text>\n<polyline fill=\"none\" points=\"204,-365.5 204,-401.5 \" stroke=\"#000000\"/>\n<text fill=\"#000000\" font-family=\"Times,serif\" font-size=\"14.00\" text-anchor=\"middle\" x=\"230\" y=\"-379.8\">ReLU</text>\n</g>\n<!-- 140423667176528&#45;&gt;140423667996880 -->\n<g class=\"edge\" id=\"edge85\">\n<title>140423667176528-&gt;140423667996880</title>\n<path d=\"M169,-438.4551C169,-430.3828 169,-420.6764 169,-411.6817\" fill=\"none\" stroke=\"#000000\"/>\n<polygon fill=\"#000000\" points=\"172.5001,-411.5903 169,-401.5904 165.5001,-411.5904 172.5001,-411.5903\" stroke=\"#000000\"/>\n</g>\n<!-- 140423667496208 -->\n<g class=\"node\" id=\"node87\">\n<title>140423667496208</title>\n<polygon fill=\"none\" points=\"0,-292.5 0,-328.5 338,-328.5 338,-292.5 0,-292.5\" stroke=\"#000000\"/>\n<text fill=\"#000000\" font-family=\"Times,serif\" font-size=\"14.00\" text-anchor=\"middle\" x=\"85.5\" y=\"-306.8\">global_average_pooling2d</text>\n<polyline fill=\"none\" points=\"171,-292.5 171,-328.5 \" stroke=\"#000000\"/>\n<text fill=\"#000000\" font-family=\"Times,serif\" font-size=\"14.00\" text-anchor=\"middle\" x=\"254.5\" y=\"-306.8\">GlobalAveragePooling2D</text>\n</g>\n<!-- 140423667996880&#45;&gt;140423667496208 -->\n<g class=\"edge\" id=\"edge86\">\n<title>140423667996880-&gt;140423667496208</title>\n<path d=\"M169,-365.4551C169,-357.3828 169,-347.6764 169,-338.6817\" fill=\"none\" stroke=\"#000000\"/>\n<polygon fill=\"#000000\" points=\"172.5001,-338.5903 169,-328.5904 165.5001,-338.5904 172.5001,-338.5903\" stroke=\"#000000\"/>\n</g>\n<!-- 140423667226128 -->\n<g class=\"node\" id=\"node88\">\n<title>140423667226128</title>\n<polygon fill=\"none\" points=\"105.5,-219.5 105.5,-255.5 232.5,-255.5 232.5,-219.5 105.5,-219.5\" stroke=\"#000000\"/>\n<text fill=\"#000000\" font-family=\"Times,serif\" font-size=\"14.00\" text-anchor=\"middle\" x=\"136.5\" y=\"-233.8\">dropout</text>\n<polyline fill=\"none\" points=\"167.5,-219.5 167.5,-255.5 \" stroke=\"#000000\"/>\n<text fill=\"#000000\" font-family=\"Times,serif\" font-size=\"14.00\" text-anchor=\"middle\" x=\"200\" y=\"-233.8\">Dropout</text>\n</g>\n<!-- 140423667496208&#45;&gt;140423667226128 -->\n<g class=\"edge\" id=\"edge87\">\n<title>140423667496208-&gt;140423667226128</title>\n<path d=\"M169,-292.4551C169,-284.3828 169,-274.6764 169,-265.6817\" fill=\"none\" stroke=\"#000000\"/>\n<polygon fill=\"#000000\" points=\"172.5001,-265.5903 169,-255.5904 165.5001,-265.5904 172.5001,-265.5903\" stroke=\"#000000\"/>\n</g>\n<!-- 140423667220240 -->\n<g class=\"node\" id=\"node89\">\n<title>140423667220240</title>\n<polygon fill=\"none\" points=\"94,-146.5 94,-182.5 244,-182.5 244,-146.5 94,-146.5\" stroke=\"#000000\"/>\n<text fill=\"#000000\" font-family=\"Times,serif\" font-size=\"14.00\" text-anchor=\"middle\" x=\"135.5\" y=\"-160.8\">conv_preds</text>\n<polyline fill=\"none\" points=\"177,-146.5 177,-182.5 \" stroke=\"#000000\"/>\n<text fill=\"#000000\" font-family=\"Times,serif\" font-size=\"14.00\" text-anchor=\"middle\" x=\"210.5\" y=\"-160.8\">Conv2D</text>\n</g>\n<!-- 140423667226128&#45;&gt;140423667220240 -->\n<g class=\"edge\" id=\"edge88\">\n<title>140423667226128-&gt;140423667220240</title>\n<path d=\"M169,-219.4551C169,-211.3828 169,-201.6764 169,-192.6817\" fill=\"none\" stroke=\"#000000\"/>\n<polygon fill=\"#000000\" points=\"172.5001,-192.5903 169,-182.5904 165.5001,-192.5904 172.5001,-192.5903\" stroke=\"#000000\"/>\n</g>\n<!-- 140423667312912 -->\n<g class=\"node\" id=\"node90\">\n<title>140423667312912</title>\n<polygon fill=\"none\" points=\"99.5,-73.5 99.5,-109.5 238.5,-109.5 238.5,-73.5 99.5,-73.5\" stroke=\"#000000\"/>\n<text fill=\"#000000\" font-family=\"Times,serif\" font-size=\"14.00\" text-anchor=\"middle\" x=\"136.5\" y=\"-87.8\">reshape_2</text>\n<polyline fill=\"none\" points=\"173.5,-73.5 173.5,-109.5 \" stroke=\"#000000\"/>\n<text fill=\"#000000\" font-family=\"Times,serif\" font-size=\"14.00\" text-anchor=\"middle\" x=\"206\" y=\"-87.8\">Reshape</text>\n</g>\n<!-- 140423667220240&#45;&gt;140423667312912 -->\n<g class=\"edge\" id=\"edge89\">\n<title>140423667220240-&gt;140423667312912</title>\n<path d=\"M169,-146.4551C169,-138.3828 169,-128.6764 169,-119.6817\" fill=\"none\" stroke=\"#000000\"/>\n<polygon fill=\"#000000\" points=\"172.5001,-119.5903 169,-109.5904 165.5001,-119.5904 172.5001,-119.5903\" stroke=\"#000000\"/>\n</g>\n<!-- 140423666718928 -->\n<g class=\"node\" id=\"node91\">\n<title>140423666718928</title>\n<polygon fill=\"none\" points=\"90.5,-.5 90.5,-36.5 247.5,-36.5 247.5,-.5 90.5,-.5\" stroke=\"#000000\"/>\n<text fill=\"#000000\" font-family=\"Times,serif\" font-size=\"14.00\" text-anchor=\"middle\" x=\"130.5\" y=\"-14.8\">predictions</text>\n<polyline fill=\"none\" points=\"170.5,-.5 170.5,-36.5 \" stroke=\"#000000\"/>\n<text fill=\"#000000\" font-family=\"Times,serif\" font-size=\"14.00\" text-anchor=\"middle\" x=\"209\" y=\"-14.8\">Activation</text>\n</g>\n<!-- 140423667312912&#45;&gt;140423666718928 -->\n<g class=\"edge\" id=\"edge90\">\n<title>140423667312912-&gt;140423666718928</title>\n<path d=\"M169,-73.4551C169,-65.3828 169,-55.6764 169,-46.6817\" fill=\"none\" stroke=\"#000000\"/>\n<polygon fill=\"#000000\" points=\"172.5001,-46.5903 169,-36.5904 165.5001,-46.5904 172.5001,-46.5903\" stroke=\"#000000\"/>\n</g>\n</g>\n</svg>"
          },
          "metadata": {},
          "execution_count": 10
        }
      ]
    },
    {
      "cell_type": "code",
      "source": [
        "# 载入图像\n",
        "img_path= '/content/80z.jpeg'\n",
        "\n",
        "# 导入图像\n",
        "from tensorflow.keras.preprocessing import image\n",
        "img = image.load_img(img_path, target_size=(224, 224))\n",
        "\n",
        "plt.imshow(img)\n",
        "plt.show()"
      ],
      "metadata": {
        "colab": {
          "base_uri": "https://localhost:8080/",
          "height": 269
        },
        "id": "KQhUWjpMiWrO",
        "outputId": "558bfd2e-dd99-43c1-9463-b2a9ea4533d6"
      },
      "execution_count": null,
      "outputs": [
        {
          "output_type": "display_data",
          "data": {
            "text/plain": [
              "<Figure size 432x288 with 1 Axes>"
            ],
            "image/png": "[encoded data removed]"
          },
          "metadata": {
            "needs_background": "light"
          }
        }
      ]
    },
    {
      "cell_type": "code",
      "source": [
        "# 预处理\n",
        "x = image.img_to_array(img)\n",
        "x.shape"
      ],
      "metadata": {
        "colab": {
          "base_uri": "https://localhost:8080/"
        },
        "id": "Ger4xPXai7RI",
        "outputId": "6872005e-2883-49ef-998c-d358cdc4019c"
      },
      "execution_count": null,
      "outputs": [
        {
          "output_type": "execute_result",
          "data": {
            "text/plain": [
              "(224, 224, 3)"
            ]
          },
          "metadata": {},
          "execution_count": 13
        }
      ]
    },
    {
      "cell_type": "code",
      "source": [
        "x = np.expand_dims(x, axis=0)\n",
        "x.shape"
      ],
      "metadata": {
        "colab": {
          "base_uri": "https://localhost:8080/"
        },
        "id": "Oxkd5HsNjINN",
        "outputId": "dcf79cca-964e-4db0-9a08-ed44b35ac8c9"
      },
      "execution_count": null,
      "outputs": [
        {
          "output_type": "execute_result",
          "data": {
            "text/plain": [
              "(1, 224, 224, 3)"
            ]
          },
          "metadata": {},
          "execution_count": 14
        }
      ]
    },
    {
      "cell_type": "code",
      "source": [
        "x = preprocess_input(x)\n",
        "x"
      ],
      "metadata": {
        "colab": {
          "base_uri": "https://localhost:8080/"
        },
        "id": "VXSi00_3jOGU",
        "outputId": "37fc3301-cc9c-4e27-f988-03aedf2707e0"
      },
      "execution_count": null,
      "outputs": [
        {
          "output_type": "execute_result",
          "data": {
            "text/plain": [
              "array([[[[0.52156866, 0.3176471 , 0.67058825],\n",
              "         [0.5294118 , 0.32549024, 0.6784314 ],\n",
              "         [0.5372549 , 0.33333337, 0.6862745 ],\n",
              "         ...,\n",
              "         [0.5294118 , 0.30980396, 0.6862745 ],\n",
              "         [0.5294118 , 0.30980396, 0.6862745 ],\n",
              "         [0.5294118 , 0.30980396, 0.6862745 ]],\n",
              "\n",
              "        [[0.52156866, 0.3176471 , 0.67058825],\n",
              "         [0.5294118 , 0.32549024, 0.6784314 ],\n",
              "         [0.5372549 , 0.33333337, 0.6862745 ],\n",
              "         ...,\n",
              "         [0.5294118 , 0.30980396, 0.6862745 ],\n",
              "         [0.5294118 , 0.30980396, 0.6862745 ],\n",
              "         [0.5294118 , 0.30980396, 0.6862745 ]],\n",
              "\n",
              "        [[0.5294118 , 0.32549024, 0.6784314 ],\n",
              "         [0.5294118 , 0.32549024, 0.6784314 ],\n",
              "         [0.54509807, 0.3411765 , 0.69411767],\n",
              "         ...,\n",
              "         [0.5294118 , 0.30980396, 0.6862745 ],\n",
              "         [0.5294118 , 0.30980396, 0.6862745 ],\n",
              "         [0.5294118 , 0.30980396, 0.6862745 ]],\n",
              "\n",
              "        ...,\n",
              "\n",
              "        [[0.6627451 , 0.45098042, 0.77254903],\n",
              "         [0.6392157 , 0.427451  , 0.7490196 ],\n",
              "         [0.6313726 , 0.41960788, 0.7411765 ],\n",
              "         ...,\n",
              "         [0.6392157 , 0.427451  , 0.7490196 ],\n",
              "         [0.6156863 , 0.4039216 , 0.7254902 ],\n",
              "         [0.6156863 , 0.4039216 , 0.7254902 ]],\n",
              "\n",
              "        [[0.654902  , 0.45882356, 0.77254903],\n",
              "         [0.64705884, 0.45098042, 0.7647059 ],\n",
              "         [0.6313726 , 0.43529415, 0.7490196 ],\n",
              "         ...,\n",
              "         [0.64705884, 0.43529415, 0.75686276],\n",
              "         [0.62352943, 0.427451  , 0.7411765 ],\n",
              "         [0.62352943, 0.427451  , 0.7411765 ]],\n",
              "\n",
              "        [[0.64705884, 0.45098042, 0.7647059 ],\n",
              "         [0.64705884, 0.45098042, 0.7647059 ],\n",
              "         [0.6313726 , 0.43529415, 0.7490196 ],\n",
              "         ...,\n",
              "         [0.64705884, 0.43529415, 0.75686276],\n",
              "         [0.62352943, 0.427451  , 0.7411765 ],\n",
              "         [0.6313726 , 0.43529415, 0.7490196 ]]]], dtype=float32)"
            ]
          },
          "metadata": {},
          "execution_count": 15
        }
      ]
    },
    {
      "cell_type": "code",
      "source": [
        "# 运行图像分类，解析预测结果\n",
        "preds = model.predict(x)\n",
        "preds.shape"
      ],
      "metadata": {
        "colab": {
          "base_uri": "https://localhost:8080/"
        },
        "id": "m2WSX9FyjSO7",
        "outputId": "eefa3244-eca2-4c44-d436-6b9b0d87483d"
      },
      "execution_count": null,
      "outputs": [
        {
          "output_type": "execute_result",
          "data": {
            "text/plain": [
              "(1, 1000)"
            ]
          },
          "metadata": {},
          "execution_count": 16
        }
      ]
    },
    {
      "cell_type": "code",
      "source": [
        "preds"
      ],
      "metadata": {
        "colab": {
          "base_uri": "https://localhost:8080/"
        },
        "id": "LaUVgRYujaO2",
        "outputId": "786e0fa9-05ac-41a0-8e65-d9656dc23129"
      },
      "execution_count": null,
      "outputs": [
        {
          "output_type": "execute_result",
          "data": {
            "text/plain": [
              "array([[1.77014570e-09, 9.27670555e-07, 1.03731466e-07, 3.98521820e-07,\n",
              "        9.30935897e-08, 1.62339362e-07, 4.17089048e-08, 1.23041161e-07,\n",
              "        2.57716607e-07, 1.28062183e-07, 6.41145306e-08, 1.96940366e-08,\n",
              "        5.70212990e-07, 1.61458374e-07, 1.54657769e-07, 2.65795222e-07,\n",
              "        9.55403010e-08, 4.94386185e-08, 1.39999884e-07, 1.98096131e-07,\n",
              "        8.90301664e-08, 2.44048306e-06, 8.54917516e-07, 4.29485709e-07,\n",
              "        1.15706243e-07, 1.81439663e-08, 3.24669291e-09, 2.51137067e-07,\n",
              "        2.51184353e-08, 1.80699899e-08, 7.95413602e-09, 5.02555864e-08,\n",
              "        7.02606755e-08, 4.37736283e-08, 7.65467618e-08, 7.69602604e-10,\n",
              "        3.49640561e-09, 1.09025977e-09, 2.75636296e-07, 4.04877937e-07,\n",
              "        2.12391569e-07, 1.18784458e-08, 1.38464209e-08, 2.34319344e-07,\n",
              "        3.20107496e-08, 3.85930470e-08, 1.99635522e-07, 3.53757312e-09,\n",
              "        6.78039347e-10, 2.90214750e-08, 3.81849858e-08, 1.10058798e-08,\n",
              "        1.40690179e-06, 1.70018936e-07, 1.17441346e-08, 2.76608123e-08,\n",
              "        9.07458855e-08, 1.67971990e-07, 2.14898677e-07, 2.20456045e-07,\n",
              "        3.39104531e-08, 1.69448739e-08, 6.79477985e-09, 8.29798665e-08,\n",
              "        8.80455332e-07, 7.20849755e-07, 6.35790798e-08, 2.01424264e-08,\n",
              "        3.10605230e-08, 3.34070158e-08, 3.26316352e-09, 7.49724904e-08,\n",
              "        1.05753777e-07, 3.24398322e-08, 5.19417087e-09, 5.18036174e-08,\n",
              "        3.52324534e-08, 1.77203496e-08, 9.39158599e-06, 3.76101809e-07,\n",
              "        1.90803622e-08, 2.38796556e-08, 3.84374033e-07, 1.86984096e-07,\n",
              "        1.00714526e-09, 6.80968128e-07, 1.55107230e-07, 6.20098035e-08,\n",
              "        7.53952804e-07, 4.33922622e-07, 6.57176713e-07, 2.41298835e-07,\n",
              "        9.38477683e-07, 1.78991275e-08, 8.13303927e-07, 1.06524482e-07,\n",
              "        4.22964455e-08, 1.20316077e-08, 6.99345790e-08, 6.16242488e-08,\n",
              "        4.89832663e-09, 1.96888159e-08, 8.94005368e-08, 4.59912428e-08,\n",
              "        1.86744330e-06, 1.09302398e-07, 1.51673714e-08, 2.97803467e-07,\n",
              "        1.44848130e-07, 3.75182729e-08, 5.82282356e-09, 4.41426010e-07,\n",
              "        1.11204599e-06, 7.45746263e-07, 2.06850387e-07, 3.36313747e-07,\n",
              "        2.00385806e-08, 2.09244286e-06, 1.95564667e-07, 1.26763915e-08,\n",
              "        4.55655815e-08, 5.03213862e-08, 1.02257206e-06, 1.26248224e-07,\n",
              "        1.23744917e-06, 7.18341795e-08, 7.89842591e-09, 3.65847200e-07,\n",
              "        4.76439652e-08, 1.21722258e-06, 1.77433904e-07, 1.93950456e-07,\n",
              "        2.55466443e-06, 8.10151306e-08, 1.75475577e-06, 2.44247857e-08,\n",
              "        3.35593313e-08, 6.37712994e-09, 2.57904475e-07, 5.35461197e-07,\n",
              "        4.32164541e-07, 1.81202086e-06, 1.07178028e-06, 1.37571462e-07,\n",
              "        5.47390357e-07, 8.24231918e-08, 1.01607995e-07, 3.54195642e-08,\n",
              "        3.02865963e-08, 4.08691925e-08, 2.31835280e-08, 3.40372033e-08,\n",
              "        8.80155184e-08, 1.86132851e-08, 2.63444520e-07, 1.74925692e-08,\n",
              "        5.29931981e-07, 1.16384035e-06, 2.20945928e-08, 3.51781138e-09,\n",
              "        1.07195966e-07, 7.87958356e-08, 6.07808204e-09, 1.14772305e-07,\n",
              "        5.15140064e-09, 1.88046947e-08, 1.16350627e-08, 6.61823023e-08,\n",
              "        9.38446760e-08, 1.01311905e-07, 1.28309125e-07, 4.24130775e-09,\n",
              "        4.42842989e-08, 7.22956884e-06, 1.63996194e-08, 8.90245744e-08,\n",
              "        2.67268110e-08, 9.71838077e-09, 2.56983164e-08, 2.19069229e-09,\n",
              "        1.01093089e-09, 1.14924052e-08, 2.09482476e-08, 1.35724761e-07,\n",
              "        2.43229259e-08, 1.10253204e-07, 1.18230062e-07, 1.25316532e-07,\n",
              "        9.56736130e-08, 4.01467082e-09, 2.78594730e-08, 5.56409141e-08,\n",
              "        1.85024496e-09, 6.83339607e-08, 2.18003962e-08, 2.00714769e-08,\n",
              "        3.54507215e-08, 2.91999864e-08, 1.74327738e-07, 1.37596530e-07,\n",
              "        7.91991184e-08, 3.29811023e-09, 1.43868334e-07, 2.41205278e-08,\n",
              "        5.80869468e-08, 1.96964706e-07, 5.12465625e-09, 3.08986927e-07,\n",
              "        2.22076011e-07, 1.07404098e-07, 7.09082144e-07, 2.67211391e-07,\n",
              "        9.58558957e-08, 5.27370901e-07, 7.08160371e-07, 7.28555108e-07,\n",
              "        1.00543332e-07, 2.91307831e-08, 7.56709824e-08, 2.80950641e-08,\n",
              "        2.16650236e-07, 6.67429916e-08, 7.24891933e-08, 3.37653674e-08,\n",
              "        1.23874919e-08, 4.61777404e-07, 3.64069166e-08, 5.47148957e-08,\n",
              "        2.90748279e-08, 8.14464656e-08, 1.23746924e-08, 3.21386118e-08,\n",
              "        2.60922150e-07, 1.92272598e-08, 5.29014770e-08, 1.07698881e-07,\n",
              "        4.84447682e-08, 3.44722011e-08, 2.24240484e-08, 1.11355448e-07,\n",
              "        1.08134683e-08, 1.28293891e-08, 1.15482175e-08, 1.22980097e-08,\n",
              "        2.00438088e-09, 3.89795112e-08, 4.71126782e-09, 1.37757766e-07,\n",
              "        5.53343114e-08, 7.89324162e-08, 3.76726597e-08, 3.65820476e-08,\n",
              "        6.91443418e-08, 9.18252319e-09, 2.72105787e-08, 7.32418997e-08,\n",
              "        4.07877593e-07, 2.68941676e-07, 6.56569981e-08, 1.99108086e-07,\n",
              "        4.29765343e-08, 2.73126481e-08, 9.64067404e-09, 9.62261652e-07,\n",
              "        8.34330436e-08, 2.74987255e-09, 3.87637389e-09, 1.69139387e-08,\n",
              "        1.91546388e-08, 6.68716041e-07, 4.63732022e-07, 2.15214823e-06,\n",
              "        2.08700999e-06, 1.48353124e-07, 3.12985946e-07, 1.32058403e-07,\n",
              "        3.77801825e-07, 8.19466266e-07, 4.71594532e-08, 2.53871519e-08,\n",
              "        1.11528053e-07, 7.99096256e-08, 6.23810502e-06, 2.13927166e-07,\n",
              "        2.17798632e-08, 5.35352740e-08, 2.26507151e-08, 2.89923321e-07,\n",
              "        3.57724730e-08, 1.58636482e-08, 1.42802055e-08, 5.07307352e-09,\n",
              "        1.14204283e-06, 4.84158562e-08, 1.27839002e-07, 3.71428968e-08,\n",
              "        9.00107182e-07, 7.90027599e-08, 2.98645766e-08, 7.13656263e-08,\n",
              "        7.57474794e-09, 1.70277758e-07, 1.68437822e-07, 7.51058415e-09,\n",
              "        7.13040915e-09, 2.89643491e-08, 3.63132209e-08, 7.36277439e-09,\n",
              "        1.00065719e-07, 3.53856848e-07, 3.43185934e-06, 5.67657210e-08,\n",
              "        7.97454192e-08, 4.82190003e-08, 2.51658389e-06, 2.12470368e-07,\n",
              "        1.41309741e-07, 7.45830221e-07, 1.29824812e-07, 1.46547720e-07,\n",
              "        6.28411989e-09, 3.67536046e-08, 3.60212397e-07, 1.73787331e-08,\n",
              "        3.23820160e-07, 5.07868236e-08, 2.86730817e-08, 1.43906425e-06,\n",
              "        7.55299610e-08, 1.51849065e-07, 2.22209906e-07, 1.33043642e-07,\n",
              "        5.21093391e-08, 9.48380830e-07, 3.13922527e-07, 2.61545861e-08,\n",
              "        1.91155500e-08, 1.67348716e-07, 1.07020163e-07, 6.11069098e-08,\n",
              "        1.67113399e-08, 1.10329292e-08, 3.70540021e-09, 4.05246814e-09,\n",
              "        1.64552052e-08, 1.52242308e-07, 1.05108420e-08, 9.20607235e-08,\n",
              "        7.39858752e-09, 3.68263575e-09, 2.05312798e-08, 2.55294257e-08,\n",
              "        9.71647722e-08, 1.75319755e-07, 1.34762521e-08, 2.57245659e-07,\n",
              "        1.14543991e-05, 3.01191790e-07, 7.87562897e-07, 1.09276289e-06,\n",
              "        5.58631612e-08, 1.53260646e-06, 1.29227624e-08, 1.76545303e-08,\n",
              "        4.61113991e-08, 7.90499030e-07, 1.04211964e-07, 4.40884548e-07,\n",
              "        6.51607479e-07, 2.23754500e-06, 7.93055051e-07, 1.43673719e-06,\n",
              "        4.52871944e-08, 2.21519912e-07, 2.64568575e-06, 4.94401036e-07,\n",
              "        3.23517355e-07, 1.14452985e-06, 1.79919326e-07, 4.99298039e-07,\n",
              "        6.46370779e-07, 1.42376081e-07, 2.80823286e-07, 2.97894225e-08,\n",
              "        3.89347043e-08, 7.00162328e-09, 1.15108267e-09, 1.47710637e-07,\n",
              "        3.19457194e-09, 8.31901126e-09, 1.01930013e-07, 6.79772283e-09,\n",
              "        9.74058096e-08, 5.30646105e-07, 2.83011641e-08, 2.73464678e-07,\n",
              "        4.38337011e-08, 1.53957728e-07, 1.42528842e-08, 5.39456906e-08,\n",
              "        4.86773155e-09, 7.27708240e-08, 1.14665255e-08, 1.34685951e-08,\n",
              "        1.94975178e-06, 1.12910050e-06, 1.55505866e-08, 8.56717008e-09,\n",
              "        3.43707979e-10, 6.25637995e-07, 3.37237225e-08, 3.06485037e-09,\n",
              "        1.42239849e-03, 5.06010234e-10, 1.07671818e-08, 4.74345143e-06,\n",
              "        1.95918677e-08, 4.10799912e-05, 7.32098579e-06, 2.62867077e-03,\n",
              "        1.80405368e-09, 2.04030783e-08, 7.37668779e-06, 9.68768319e-08,\n",
              "        1.48581648e-07, 3.92067037e-08, 1.01603341e-07, 1.09296661e-05,\n",
              "        1.41814178e-06, 1.56046663e-04, 5.80911592e-06, 1.41675557e-07,\n",
              "        4.98343518e-08, 1.02353360e-05, 4.10308530e-07, 3.12643806e-07,\n",
              "        6.42162012e-09, 2.25290279e-07, 1.92169609e-04, 4.63436027e-06,\n",
              "        2.41329217e-05, 9.70004839e-05, 1.41800518e-08, 5.63423100e-07,\n",
              "        3.26138383e-09, 5.49002664e-07, 2.63294311e-07, 2.20800393e-06,\n",
              "        2.15317982e-07, 3.33335493e-09, 2.81700814e-08, 1.26516156e-07,\n",
              "        1.15817249e-08, 1.61204117e-08, 6.40724451e-09, 5.06516837e-04,\n",
              "        4.02177562e-07, 3.14175459e-08, 8.62744598e-10, 1.59827938e-08,\n",
              "        1.41786467e-08, 5.39431966e-09, 4.37192057e-07, 3.34896566e-03,\n",
              "        3.26705560e-07, 8.62938776e-10, 4.15901180e-09, 2.45450726e-09,\n",
              "        7.46881401e-09, 1.98021053e-06, 2.05140514e-03, 2.48088519e-08,\n",
              "        5.69389691e-09, 3.43797059e-04, 2.35763427e-08, 6.27842978e-09,\n",
              "        3.08088737e-08, 2.95990412e-06, 5.54822407e-07, 3.30362688e-08,\n",
              "        2.92132569e-07, 1.94322951e-07, 3.84642220e-08, 3.11971249e-09,\n",
              "        3.17224682e-08, 1.06591855e-07, 3.73968723e-09, 2.12316237e-07,\n",
              "        8.23961273e-07, 1.28035438e-07, 1.09240856e-08, 8.22329511e-08,\n",
              "        2.42051779e-09, 3.87767507e-09, 2.09328604e-07, 1.70255419e-08,\n",
              "        1.79532049e-06, 3.56734392e-10, 4.19897113e-08, 2.70180522e-07,\n",
              "        4.28674651e-09, 1.60084515e-08, 3.23562716e-07, 7.09883243e-05,\n",
              "        2.11490039e-02, 7.55962319e-05, 1.83328339e-07, 3.04399282e-06,\n",
              "        4.66860151e-08, 1.71065619e-06, 3.82448313e-08, 3.44917850e-09,\n",
              "        9.03081855e-06, 1.05346707e-07, 1.62648928e-06, 3.59229352e-06,\n",
              "        5.70593492e-08, 1.73375803e-08, 7.80238718e-09, 4.60636926e-07,\n",
              "        2.63572919e-09, 2.49954574e-05, 7.82972667e-04, 3.57746944e-06,\n",
              "        6.46850529e-09, 2.04346917e-09, 3.29438343e-08, 1.22187478e-08,\n",
              "        1.33610854e-07, 2.15785647e-07, 1.26630880e-06, 1.81956032e-08,\n",
              "        3.66365818e-08, 3.22714482e-06, 1.94301848e-07, 1.74838952e-08,\n",
              "        4.25292424e-09, 1.78834316e-08, 1.93024405e-08, 1.37451210e-07,\n",
              "        9.43878376e-07, 9.48650381e-07, 2.28539193e-06, 2.52158698e-05,\n",
              "        1.10947406e-06, 5.79866821e-07, 1.60629938e-07, 5.65333502e-10,\n",
              "        2.67230771e-09, 3.57660497e-07, 3.55391080e-06, 2.12559290e-02,\n",
              "        1.27868566e-06, 5.01312513e-07, 1.75097696e-07, 4.67138044e-08,\n",
              "        2.05172146e-09, 1.93620195e-07, 3.70259059e-08, 3.15490695e-07,\n",
              "        1.38849998e-07, 1.60868794e-07, 1.81731981e-08, 2.46818649e-06,\n",
              "        3.50731139e-10, 1.20249783e-08, 6.42925855e-08, 7.69944336e-07,\n",
              "        2.81169381e-08, 1.90461003e-09, 1.44091268e-06, 1.66650761e-06,\n",
              "        7.30625834e-05, 1.51919011e-07, 1.53561748e-04, 5.53100143e-09,\n",
              "        7.85873588e-10, 1.64784552e-07, 1.22914194e-08, 3.11682041e-10,\n",
              "        1.64886871e-09, 1.27323108e-09, 4.88583339e-07, 2.19164335e-07,\n",
              "        3.01218665e-06, 1.64932036e-03, 1.24182387e-09, 1.96180754e-05,\n",
              "        1.97396475e-05, 5.43388887e-06, 2.61407848e-07, 4.37740255e-07,\n",
              "        1.07629468e-07, 6.81245780e-08, 6.74545308e-09, 1.29247102e-08,\n",
              "        7.56258657e-07, 9.44187928e-09, 3.43026385e-09, 6.00982958e-06,\n",
              "        1.21636958e-06, 3.87156351e-09, 2.70086620e-08, 1.46439039e-09,\n",
              "        2.33686342e-06, 7.80481059e-06, 4.42505467e-07, 3.77066129e-07,\n",
              "        1.33810749e-08, 1.32707143e-08, 1.06587795e-05, 2.11804988e-07,\n",
              "        2.83732526e-09, 1.36616075e-06, 5.38967815e-10, 5.02328987e-07,\n",
              "        1.42014221e-06, 3.21646326e-07, 2.82212677e-05, 4.92574998e-07,\n",
              "        4.42630807e-07, 1.74472508e-08, 5.27330894e-06, 3.73562943e-06,\n",
              "        4.33545182e-08, 1.01669933e-07, 2.10038907e-05, 1.03110376e-09,\n",
              "        3.98547435e-08, 1.13258176e-02, 4.99040773e-08, 3.96121666e-02,\n",
              "        4.66654740e-07, 7.13237887e-06, 2.22880958e-09, 9.19326737e-07,\n",
              "        2.65865339e-08, 9.24120911e-07, 7.71290303e-08, 7.50710427e-09,\n",
              "        1.53437014e-08, 5.39999473e-06, 7.46168016e-09, 2.35319902e-07,\n",
              "        1.41691382e-03, 5.27988568e-08, 8.44959800e-07, 1.66644645e-03,\n",
              "        3.00359970e-05, 2.68303424e-08, 1.31268616e-05, 1.43063147e-07,\n",
              "        3.46620830e-08, 4.11228939e-06, 4.85579466e-10, 2.16320633e-08,\n",
              "        2.59382205e-09, 6.83925464e-07, 1.11303700e-06, 7.85517404e-05,\n",
              "        1.11694739e-07, 3.71116493e-09, 1.94730092e-06, 6.36471986e-10,\n",
              "        6.73229072e-09, 6.31685504e-09, 5.95941092e-04, 1.73375986e-06,\n",
              "        6.37581632e-09, 2.17127719e-10, 1.29305462e-07, 2.41058586e-08,\n",
              "        4.58645433e-09, 4.35958412e-07, 2.34540767e-06, 1.28813638e-09,\n",
              "        2.07543167e-07, 3.00116590e-05, 9.73016881e-07, 6.42101128e-08,\n",
              "        1.39016844e-03, 4.48780042e-07, 2.38346072e-08, 4.58587124e-08,\n",
              "        4.98936998e-08, 1.75406711e-07, 6.00330010e-02, 1.26311550e-09,\n",
              "        4.34232881e-08, 1.97049244e-09, 8.83375761e-10, 3.45299327e-07,\n",
              "        1.57574323e-05, 2.97015816e-07, 6.09085120e-08, 1.88480485e-07,\n",
              "        1.00768790e-04, 5.64672176e-09, 2.81751200e-09, 2.59563080e-07,\n",
              "        7.58719864e-07, 1.24988719e-06, 2.28474875e-08, 9.76860814e-10,\n",
              "        7.56883054e-08, 7.66592301e-09, 8.15052132e-08, 1.57990058e-07,\n",
              "        1.24682583e-05, 1.63623071e-07, 2.81654764e-04, 7.43296044e-03,\n",
              "        2.26495490e-06, 1.56401447e-09, 5.48893062e-04, 1.52018362e-08,\n",
              "        5.55586226e-08, 3.95621704e-08, 1.39401157e-09, 3.54205804e-06,\n",
              "        2.85890438e-02, 5.05119502e-09, 1.83574681e-03, 2.28863291e-06,\n",
              "        6.64567645e-09, 6.92069580e-06, 1.21712977e-08, 4.44888393e-08,\n",
              "        4.83204622e-06, 8.68627296e-07, 6.78756518e-09, 1.85930712e-05,\n",
              "        5.79058650e-08, 2.87484067e-06, 5.99818806e-10, 2.28667885e-09,\n",
              "        1.01575246e-07, 6.16531121e-04, 3.99387587e-04, 4.26024798e-07,\n",
              "        3.51610765e-07, 2.29783215e-09, 8.22069239e-08, 9.46909893e-08,\n",
              "        3.72007207e-06, 8.76344597e-09, 1.75751156e-05, 8.77576258e-06,\n",
              "        2.72173786e-08, 6.13695738e-05, 3.09086673e-10, 1.14730071e-07,\n",
              "        1.73655080e-05, 5.91031892e-07, 3.41430609e-06, 6.55160122e-08,\n",
              "        3.81706832e-06, 2.93538704e-09, 2.11266553e-07, 5.80116250e-07,\n",
              "        2.99498288e-06, 5.08984886e-06, 8.74620582e-07, 1.06003185e-07,\n",
              "        1.06523004e-08, 4.86111219e-07, 8.92918450e-09, 6.62634673e-04,\n",
              "        8.96698475e-06, 4.49077379e-06, 2.45979891e-07, 1.03801678e-08,\n",
              "        1.84350210e-06, 3.19069624e-03, 3.63400233e-07, 1.47538666e-08,\n",
              "        4.18581720e-08, 6.85238399e-09, 1.45738397e-07, 1.12277213e-07,\n",
              "        3.49922935e-08, 1.41027826e-07, 5.90513345e-08, 2.17372008e-06,\n",
              "        2.22887593e-05, 8.24079027e-09, 8.07782783e-08, 9.28902466e-08,\n",
              "        2.08571063e-08, 7.73867583e-08, 3.82411343e-07, 7.18404820e-08,\n",
              "        1.22728379e-05, 5.62375249e-07, 4.52877780e-09, 1.96909423e-06,\n",
              "        2.28163856e-07, 1.96066821e-07, 5.53124693e-08, 6.56805144e-09,\n",
              "        2.24846932e-08, 5.01914315e-07, 9.92411309e-09, 4.71368544e-09,\n",
              "        7.27462320e-05, 1.43223971e-07, 5.96210157e-07, 4.20698967e-07,\n",
              "        4.90881632e-07, 4.40167460e-05, 2.99916998e-08, 4.15838542e-07,\n",
              "        1.05349521e-07, 2.86568320e-05, 2.65322910e-07, 7.04757586e-10,\n",
              "        3.80371034e-06, 3.09951131e-09, 3.38229183e-05, 6.15538838e-08,\n",
              "        5.32173805e-10, 3.09622439e-10, 1.81887955e-07, 6.91008040e-07,\n",
              "        4.32706670e-08, 2.13052087e-09, 3.91018524e-08, 8.34392949e-07,\n",
              "        8.51715304e-05, 4.39808828e-10, 3.82206000e-09, 4.51281484e-10,\n",
              "        4.79835593e-09, 1.26625878e-07, 2.70612066e-08, 1.11808820e-08,\n",
              "        7.86956264e-07, 8.13652647e-08, 1.22835124e-02, 5.40594514e-10,\n",
              "        5.19935293e-06, 2.14332118e-07, 1.11770817e-07, 2.70200999e-08,\n",
              "        4.18737291e-05, 5.32724080e-04, 1.24400856e-07, 2.27715580e-09,\n",
              "        2.89660633e-08, 2.49514778e-06, 1.76048246e-07, 4.05138785e-08,\n",
              "        2.90763448e-03, 7.86035459e-10, 1.04001634e-08, 7.67802587e-03,\n",
              "        1.61973635e-09, 1.43191530e-08, 5.94940186e-09, 4.02099158e-06,\n",
              "        2.42616861e-05, 1.05508434e-06, 2.12583793e-04, 9.83256232e-09,\n",
              "        1.16979253e-08, 2.92233149e-09, 3.29618111e-08, 9.32330835e-08,\n",
              "        6.56420434e-06, 4.39174253e-10, 4.29222240e-08, 3.98481319e-08,\n",
              "        1.93760030e-07, 3.74504072e-09, 3.40839468e-10, 3.45714284e-08,\n",
              "        6.79346144e-08, 1.33796007e-07, 1.69640913e-07, 3.66293165e-08,\n",
              "        4.32878338e-08, 1.30890587e-09, 2.65824383e-07, 8.47375923e-05,\n",
              "        9.45034273e-10, 5.22772794e-08, 8.70451277e-06, 4.34789840e-08,\n",
              "        6.31374397e-10, 7.96111479e-08, 7.22556342e-06, 1.87332148e-07,\n",
              "        2.06602962e-07, 2.97284029e-08, 2.69608336e-09, 7.99637547e-08,\n",
              "        1.63959683e-07, 4.14736903e-08, 7.26779326e-05, 1.59368457e-04,\n",
              "        3.99355258e-06, 4.52631293e-03, 1.52661614e-05, 1.08568847e-05,\n",
              "        3.81549768e-07, 1.14674159e-09, 7.54008056e-09, 7.54083012e-05,\n",
              "        1.66872212e-07, 1.69135461e-07, 1.95301240e-04, 9.43535906e-06,\n",
              "        5.84804468e-07, 6.39823554e-08, 3.74202926e-08, 4.28553637e-09,\n",
              "        1.47441062e-06, 3.05572847e-08, 1.92649077e-06, 1.67411213e-06,\n",
              "        2.24828824e-07, 1.08626580e-06, 2.27343051e-07, 1.55825292e-05,\n",
              "        3.76528033e-06, 2.40546608e-04, 3.15083994e-08, 1.66444603e-04,\n",
              "        1.24163053e-04, 7.11830289e-05, 1.58503353e-05, 1.76426659e-06,\n",
              "        1.89007062e-06, 1.75939397e-06, 5.27192424e-05, 8.86138764e-07,\n",
              "        9.42497650e-07, 9.87360363e-06, 4.84206794e-07, 1.95775442e-06,\n",
              "        6.78805463e-06, 7.75150227e-07, 1.78222428e-04, 3.16333389e-05,\n",
              "        7.31524551e-07, 3.85448475e-05, 2.97918234e-07, 1.63374210e-07,\n",
              "        9.15344572e-05, 2.87891249e-04, 9.91285287e-06, 1.35984097e-04,\n",
              "        1.06510070e-05, 3.52505708e-06, 6.12211466e-07, 5.99587247e-06,\n",
              "        9.65617915e-07, 3.55076196e-07, 2.65715130e-07, 3.57514000e-06,\n",
              "        1.11313630e-03, 6.61164108e-07, 1.22233166e-06, 4.12372891e-08,\n",
              "        7.47869763e-06, 1.51177539e-06, 1.53415371e-04, 6.94720387e-01,\n",
              "        5.51449880e-02, 1.49395689e-03, 6.07209500e-08, 3.97773789e-07,\n",
              "        3.36933788e-08, 4.02581399e-08, 1.07386950e-06, 4.63712304e-08,\n",
              "        1.44876111e-08, 2.84919906e-07, 1.32429321e-07, 9.35288735e-09,\n",
              "        1.91250322e-08, 4.18811351e-06, 2.04740958e-09, 8.33350988e-09,\n",
              "        1.24283815e-07, 4.91735091e-06, 3.89088143e-07, 1.39953172e-05,\n",
              "        2.57320025e-05, 2.18233481e-07, 2.34643903e-06, 4.53995654e-07,\n",
              "        5.59552120e-07, 6.22950225e-08, 5.99803059e-07, 2.28509435e-07,\n",
              "        9.43688462e-07, 5.06362483e-07, 1.20995264e-05, 1.01418927e-05]],\n",
              "      dtype=float32)"
            ]
          },
          "metadata": {},
          "execution_count": 17
        }
      ]
    },
    {
      "cell_type": "code",
      "source": [
        "np.sum(preds)"
      ],
      "metadata": {
        "colab": {
          "base_uri": "https://localhost:8080/"
        },
        "id": "v9nLRBhOjdq2",
        "outputId": "fb47f74d-ac0c-46ae-c922-f189691801a1"
      },
      "execution_count": null,
      "outputs": [
        {
          "output_type": "execute_result",
          "data": {
            "text/plain": [
              "0.9999999"
            ]
          },
          "metadata": {},
          "execution_count": 18
        }
      ]
    },
    {
      "cell_type": "code",
      "source": [
        "decode_predictions(preds, top=5)\n",
        "# 输出结果为 WordNet编码 & 类别名称 & 置信度概率"
      ],
      "metadata": {
        "colab": {
          "base_uri": "https://localhost:8080/"
        },
        "id": "tEDZ-qfjjfbe",
        "outputId": "90ec2099-7973-4270-8f78-c0a0a45d7cab"
      },
      "execution_count": null,
      "outputs": [
        {
          "output_type": "stream",
          "name": "stdout",
          "text": [
            "Downloading data from https://storage.googleapis.com/download.tensorflow.org/data/imagenet_class_index.json\n",
            "40960/35363 [==================================] - 0s 0us/step\n",
            "49152/35363 [=========================================] - 0s 0us/step\n"
          ]
        },
        {
          "output_type": "execute_result",
          "data": {
            "text/plain": [
              "[[('n07920052', 'espresso', 0.6947204),\n",
              "  ('n03843555', 'oil_filter', 0.060033),\n",
              "  ('n07930864', 'cup', 0.055144988),\n",
              "  ('n03690938', 'lotion', 0.039612167),\n",
              "  ('n03937543', 'pill_bottle', 0.028589044)]]"
            ]
          },
          "metadata": {},
          "execution_count": 19
        }
      ]
    },
    {
      "cell_type": "markdown",
      "source": [
        "## 视频处理（每帧）"
      ],
      "metadata": {
        "id": "ffuXcETUkanh"
      }
    },
    {
      "cell_type": "code",
      "source": [
        "import numpy as np\n",
        "import cv2\n",
        "\n",
        "from tensorflow.keras.preprocessing import image\n",
        "from tensorflow.keras.applications.mobilenet import preprocess_input, decode_predictions"
      ],
      "metadata": {
        "id": "Xpi1jIr0jjOX"
      },
      "execution_count": null,
      "outputs": []
    },
    {
      "cell_type": "code",
      "source": [
        "def process_frame(img2):\n",
        "  # 记录该帧开始处理的时间\n",
        "  start_time = time.time()\n",
        "\n",
        "  img_copy = img2 \n",
        "\n",
        "  # BGR 转 RGB\n",
        "  img2 = cv2.cvtColor(img2, cv2.COLOR_BGR2RGB)\n",
        "  # 缩放至224 x 224\n",
        "  img2 = cv2.resize(img2, (224,224))\n",
        "  x = np.expand_dims(img2, axis=0)\n",
        "  # 预处理\n",
        "  x = preprocess_input(x)\n",
        "\n",
        "  # 获取图像分类预测结果\n",
        "  preds = model.predict(x)\n",
        "  results = decode_predictions(preds, top=2)\n",
        "\n",
        "  # 遍历result变量中的每一个元素并写下\n",
        "  for idx, result in enumerate(results[0]):\n",
        "    text1 = '{<10} {:>.4f}'.format(result[1], result[2])\n",
        "\n",
        "    img2 = cv2.putText(img_copy, text1, (25, 80 + 40 * idx))\n",
        "\n",
        "  # 记录该帧处理完毕的时间\n",
        "  end_time = time.time()\n",
        "  # 计算每秒处理图像帧数FPS\n",
        "  FPS = 1/(end_time - start_time)\n",
        "\n",
        "  scaler = 1\n",
        "\n",
        "  return img_copy"
      ],
      "metadata": {
        "id": "42CEndlflHTM"
      },
      "execution_count": null,
      "outputs": []
    },
    {
      "cell_type": "code",
      "source": [
        "# 调用摄像头获取每帧（模版）\n",
        "import cv2\n",
        "import time \n",
        "\n",
        "cap = cv2.VideoCapture(1)\n",
        "\n",
        "# 打开cap\n",
        "cap.open(0)\n",
        "\n",
        "# 无线循环，直到触发break\n",
        "while cap.isOpened():\n",
        "  # 获取画面\n",
        "  success, frame = cap.read()\n",
        "  if not success:\n",
        "    break\n",
        "\n",
        "  # 处理帧函数\n",
        "  frame = process_frame(frame)\n",
        "\n",
        "  # 展示处理后的三通道图像\n",
        "  cv2.imshow('video', frame)\n",
        "\n",
        "  if cv2.waitKey(1) in [ord('q'),27]: # q退出\n",
        "    break\n",
        "\n",
        "# 关闭摄像头\n",
        "cap.release()\n",
        "\n",
        "# 关闭图像窗口\n",
        "cv2.destroyAllWindows()"
      ],
      "metadata": {
        "id": "ARJjJ10vmTU-"
      },
      "execution_count": null,
      "outputs": []
    }
  ]
}
