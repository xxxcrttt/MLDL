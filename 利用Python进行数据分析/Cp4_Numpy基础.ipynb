{
  "nbformat": 4,
  "nbformat_minor": 0,
  "metadata": {
    "colab": {
      "provenance": [],
      "toc_visible": true,
      "authorship_tag": "ABX9TyMLl1zo+jxdkVAI4ml2Qi/C",
      "include_colab_link": true
    },
    "kernelspec": {
      "name": "python3",
      "display_name": "Python 3"
    },
    "language_info": {
      "name": "python"
    }
  },
  "cells": [
    {
      "cell_type": "markdown",
      "metadata": {
        "id": "view-in-github",
        "colab_type": "text"
      },
      "source": [
        "<a href=\"https://colab.research.google.com/github/xxxcrttt/MLDL/blob/main/%E5%88%A9%E7%94%A8Python%E8%BF%9B%E8%A1%8C%E6%95%B0%E6%8D%AE%E5%88%86%E6%9E%90/Cp4_Numpy%E5%9F%BA%E7%A1%80.ipynb\" target=\"_parent\"><img src=\"https://colab.research.google.com/assets/colab-badge.svg\" alt=\"Open In Colab\"/></a>"
      ]
    },
    {
      "cell_type": "markdown",
      "source": [
        "## **1.ndarray: 多维数组对象**\n",
        "N-dimentional array: N维数组对象，是一个通用的同构数据多维同期，其中所有的元素必须是相同类型的。  \n",
        "每个数组都有一个 ```shape``` (表示各个维度大小的元组) 和一个 ```dtype```(用于说明数组数据类型的对象)\n",
        "\n",
        "### 创建 ndarray\n",
        "使用```array```函数，接受一切序列型的对象(包括其他数组), 然后产生一个新的含有传入数据的NumPy数组"
      ],
      "metadata": {
        "id": "BfQgSu11Lxjq"
      }
    },
    {
      "cell_type": "code",
      "source": [
        "import numpy as np"
      ],
      "metadata": {
        "id": "uL-0jg-TOvA8"
      },
      "execution_count": 1,
      "outputs": []
    },
    {
      "cell_type": "code",
      "source": [
        "\n",
        "data1 = [6, 7.5,8,0, 1]\n",
        "arr1 = np.array(data1)\n",
        "arr1"
      ],
      "metadata": {
        "colab": {
          "base_uri": "https://localhost:8080/"
        },
        "id": "5l_Cpp75Niid",
        "outputId": "ea59782f-0ae3-4697-e042-3722a6269d39"
      },
      "execution_count": 2,
      "outputs": [
        {
          "output_type": "execute_result",
          "data": {
            "text/plain": [
              "array([6. , 7.5, 8. , 0. , 1. ])"
            ]
          },
          "metadata": {},
          "execution_count": 2
        }
      ]
    },
    {
      "cell_type": "markdown",
      "source": [
        "嵌套序列 -- 比如由一组等长列表组成的列表 -- 将会被转换为一个多维数组"
      ],
      "metadata": {
        "id": "UH2kKkg9O6oI"
      }
    },
    {
      "cell_type": "code",
      "source": [
        "data2 = [[1,2,3,4],[5,6,7,8]]\n",
        "arr2 = np.array(data2)\n",
        "arr2"
      ],
      "metadata": {
        "colab": {
          "base_uri": "https://localhost:8080/"
        },
        "id": "dmxeySbKO5_h",
        "outputId": "db56c0a5-5cf1-4dd3-f3ae-001439c01b74"
      },
      "execution_count": 3,
      "outputs": [
        {
          "output_type": "execute_result",
          "data": {
            "text/plain": [
              "array([[1, 2, 3, 4],\n",
              "       [5, 6, 7, 8]])"
            ]
          },
          "metadata": {},
          "execution_count": 3
        }
      ]
    },
    {
      "cell_type": "code",
      "source": [
        "print(arr2.ndim)\n",
        "print(arr2.shape)"
      ],
      "metadata": {
        "colab": {
          "base_uri": "https://localhost:8080/"
        },
        "id": "DPaH3VAbO3_y",
        "outputId": "18f5ff36-9c14-4144-bfd6-a9b720046c21"
      },
      "execution_count": 4,
      "outputs": [
        {
          "output_type": "stream",
          "name": "stdout",
          "text": [
            "2\n",
            "(2, 4)\n"
          ]
        }
      ]
    },
    {
      "cell_type": "markdown",
      "source": [
        "除非显示说明(explicit), np.array 会尝试为新建的数组推断出一个比较合适的数据类型，数据类型会保存在```dtype```对象中"
      ],
      "metadata": {
        "id": "tYgo7j_FPXtO"
      }
    },
    {
      "cell_type": "code",
      "source": [
        "print(arr1.dtype)\n",
        "print(arr2.dtype)"
      ],
      "metadata": {
        "colab": {
          "base_uri": "https://localhost:8080/"
        },
        "id": "Vamw-48ePi6G",
        "outputId": "611f2ba6-032b-4065-ad7f-61c444852f7b"
      },
      "execution_count": 5,
      "outputs": [
        {
          "output_type": "stream",
          "name": "stdout",
          "text": [
            "float64\n",
            "int64\n"
          ]
        }
      ]
    },
    {
      "cell_type": "markdown",
      "source": [
        "```zeros```和```ones``` 分别可以创建指定长度或形状的全都是 0 or 1 的数组；  \n",
        "```empty```可以创建一个没有具体值的数组 -- 只需要传入一个表示形状的元组即可"
      ],
      "metadata": {
        "id": "C6ZF8yt9PsCe"
      }
    },
    {
      "cell_type": "code",
      "source": [
        "np.zeros(10)\n"
      ],
      "metadata": {
        "colab": {
          "base_uri": "https://localhost:8080/"
        },
        "id": "3YTbr-C4Qcxx",
        "outputId": "3c4336a9-b353-46a8-8499-76e4d93bd5b6"
      },
      "execution_count": 6,
      "outputs": [
        {
          "output_type": "execute_result",
          "data": {
            "text/plain": [
              "array([0., 0., 0., 0., 0., 0., 0., 0., 0., 0.])"
            ]
          },
          "metadata": {},
          "execution_count": 6
        }
      ]
    },
    {
      "cell_type": "code",
      "source": [
        "np.ones((3,6))"
      ],
      "metadata": {
        "colab": {
          "base_uri": "https://localhost:8080/"
        },
        "id": "kednrEZjRGJ5",
        "outputId": "8040c723-c85f-4324-9ebc-a1bc1fc0aeea"
      },
      "execution_count": 7,
      "outputs": [
        {
          "output_type": "execute_result",
          "data": {
            "text/plain": [
              "array([[1., 1., 1., 1., 1., 1.],\n",
              "       [1., 1., 1., 1., 1., 1.],\n",
              "       [1., 1., 1., 1., 1., 1.]])"
            ]
          },
          "metadata": {},
          "execution_count": 7
        }
      ]
    },
    {
      "cell_type": "code",
      "source": [
        "np.empty((2,3,2))\n",
        "# 认为empty会返回全0数组的想法是不安全的，大多数情况下它返回的都是一些未初始化的垃圾值"
      ],
      "metadata": {
        "colab": {
          "base_uri": "https://localhost:8080/"
        },
        "id": "scg_wqHoRI7Q",
        "outputId": "bc1f1d27-1b99-4425-bb34-e705db7cb78c"
      },
      "execution_count": 8,
      "outputs": [
        {
          "output_type": "execute_result",
          "data": {
            "text/plain": [
              "array([[[2.24396395e-316, 0.00000000e+000],\n",
              "        [0.00000000e+000, 0.00000000e+000],\n",
              "        [0.00000000e+000, 0.00000000e+000]],\n",
              "\n",
              "       [[0.00000000e+000, 0.00000000e+000],\n",
              "        [0.00000000e+000, 0.00000000e+000],\n",
              "        [0.00000000e+000, 0.00000000e+000]]])"
            ]
          },
          "metadata": {},
          "execution_count": 8
        }
      ]
    },
    {
      "cell_type": "markdown",
      "source": [
        "```arange```是Python内置函数 range 的数组版"
      ],
      "metadata": {
        "id": "MBSPTAC0RWFr"
      }
    },
    {
      "cell_type": "code",
      "source": [
        "np.arange(15)"
      ],
      "metadata": {
        "colab": {
          "base_uri": "https://localhost:8080/"
        },
        "id": "KukGKa_1RK2r",
        "outputId": "1fa11faa-e1df-4208-d50c-a2c11e81e211"
      },
      "execution_count": 9,
      "outputs": [
        {
          "output_type": "execute_result",
          "data": {
            "text/plain": [
              "array([ 0,  1,  2,  3,  4,  5,  6,  7,  8,  9, 10, 11, 12, 13, 14])"
            ]
          },
          "metadata": {},
          "execution_count": 9
        }
      ]
    },
    {
      "cell_type": "markdown",
      "source": [
        "*   ```array```: 将输入的数据（列表，元组，数组或其他数据类型）转换为 ndarray, 要么能推断出 dtype 要么显式的指定 dtype, 默认直接复制输入数据\n",
        "*   ```asarray```: 将输入数据转换为 ndarray, 如果输入数据本身是 ndarray 则不进行复制\n",
        "*  ```arange```: 类似于内置函数 range, 但返回一个 ndarray 而不是 list\n",
        "*  ```ones, ones_like```: 根据指定的形状和 dtype 创建一个全 1 的数组; ones_like 以另一个数组为参数，并根据其形状和dtype 创建一个全 1 数组\n",
        "* ```zeros, zeros_like / empty, empty_like```\n",
        "* ```eye, identity```: 创建一个正方的 N x N 的单位矩阵(对角线为1，其余为0)\n",
        "\n",
        "\n",
        "\n"
      ],
      "metadata": {
        "id": "uq6yepPdRlwh"
      }
    },
    {
      "cell_type": "markdown",
      "source": [
        "### **ndarray的数据类型**\n",
        "```dtype``` 是一个特殊对象，它含有ndarray 将一块内存解释为特定数据类型所需的信息\n",
        "\n",
        "numpy支持 int8/16/32/64, uint8/16/32/64, float16/32/64/128, complex64/128/256, bool, object, string_, unicode_ etc."
      ],
      "metadata": {
        "id": "1ATUARdWTAVD"
      }
    },
    {
      "cell_type": "code",
      "source": [
        "arr1 = np.array([1,2,3], dtype=np.float64)\n",
        "arr2 = np.array([1,2,3], dtype=np.int32) \n",
        "print(arr1.dtype)\n",
        "print(arr2.dtype)"
      ],
      "metadata": {
        "colab": {
          "base_uri": "https://localhost:8080/"
        },
        "id": "VkYLSXo6S97J",
        "outputId": "1018cd07-c93c-4979-b6e5-231a063025ba"
      },
      "execution_count": 10,
      "outputs": [
        {
          "output_type": "stream",
          "name": "stdout",
          "text": [
            "float64\n",
            "int32\n"
          ]
        }
      ]
    },
    {
      "cell_type": "markdown",
      "source": [
        "可以通过```astype```的方法显式的转换dtype  \n",
        "如果从 float 转换成 int 则小数部分将会被截断\n",
        "\n",
        "调用 astype 无论如何都会创建出一个新的数组(原始数组的一份拷贝)，即使新的 dtype 和原来的相同也是如此"
      ],
      "metadata": {
        "id": "lV6suEx8T2Yw"
      }
    },
    {
      "cell_type": "code",
      "source": [
        "arr = np.array([3.7,-1.2,-2.6,0.5,12.9,10.1])\n",
        "arr.dtype"
      ],
      "metadata": {
        "colab": {
          "base_uri": "https://localhost:8080/"
        },
        "id": "WRtUIvQTS73Z",
        "outputId": "bdd5c8b0-30de-496a-f085-9900f51ffca4"
      },
      "execution_count": 11,
      "outputs": [
        {
          "output_type": "execute_result",
          "data": {
            "text/plain": [
              "dtype('float64')"
            ]
          },
          "metadata": {},
          "execution_count": 11
        }
      ]
    },
    {
      "cell_type": "code",
      "source": [
        "int_arr = arr.astype(np.int32)\n",
        "int_arr"
      ],
      "metadata": {
        "colab": {
          "base_uri": "https://localhost:8080/"
        },
        "id": "KQCH2cRaWliB",
        "outputId": "d894a629-0d51-42a3-b39f-879866440c43"
      },
      "execution_count": 12,
      "outputs": [
        {
          "output_type": "execute_result",
          "data": {
            "text/plain": [
              "array([ 3, -1, -2,  0, 12, 10], dtype=int32)"
            ]
          },
          "metadata": {},
          "execution_count": 12
        }
      ]
    },
    {
      "cell_type": "markdown",
      "source": [
        "### 数组和标量之间的运算\n",
        "**vectorization** 对数组执行批量运算\n",
        "\n",
        "不同大小的数组之间的运算叫做广播 (broadcasting)\n"
      ],
      "metadata": {
        "id": "tHxgRYX6XOXS"
      }
    },
    {
      "cell_type": "code",
      "source": [
        "arr  = np.array([[1.,2.,3.],[4.,5.,6.]])\n",
        "arr"
      ],
      "metadata": {
        "colab": {
          "base_uri": "https://localhost:8080/"
        },
        "id": "3SeXq8KQWq70",
        "outputId": "40f189c2-dce5-418c-f547-50507c8f38a8"
      },
      "execution_count": 13,
      "outputs": [
        {
          "output_type": "execute_result",
          "data": {
            "text/plain": [
              "array([[1., 2., 3.],\n",
              "       [4., 5., 6.]])"
            ]
          },
          "metadata": {},
          "execution_count": 13
        }
      ]
    },
    {
      "cell_type": "code",
      "source": [
        "arr * arr"
      ],
      "metadata": {
        "colab": {
          "base_uri": "https://localhost:8080/"
        },
        "id": "GsoKkvyiXonq",
        "outputId": "3db66eaf-a914-48ec-ff8a-e07a1bfd52fb"
      },
      "execution_count": 14,
      "outputs": [
        {
          "output_type": "execute_result",
          "data": {
            "text/plain": [
              "array([[ 1.,  4.,  9.],\n",
              "       [16., 25., 36.]])"
            ]
          },
          "metadata": {},
          "execution_count": 14
        }
      ]
    },
    {
      "cell_type": "code",
      "source": [
        "1/arr"
      ],
      "metadata": {
        "colab": {
          "base_uri": "https://localhost:8080/"
        },
        "id": "lnths7LMXrO4",
        "outputId": "1914a6d0-671c-466a-89e7-0fe392d96c82"
      },
      "execution_count": 15,
      "outputs": [
        {
          "output_type": "execute_result",
          "data": {
            "text/plain": [
              "array([[1.        , 0.5       , 0.33333333],\n",
              "       [0.25      , 0.2       , 0.16666667]])"
            ]
          },
          "metadata": {},
          "execution_count": 15
        }
      ]
    },
    {
      "cell_type": "code",
      "source": [
        "arr ** 0.5"
      ],
      "metadata": {
        "colab": {
          "base_uri": "https://localhost:8080/"
        },
        "id": "tXKGbxI8Xs2w",
        "outputId": "4565b7d9-7e18-4ffa-93e5-55cc12c3c5c7"
      },
      "execution_count": 16,
      "outputs": [
        {
          "output_type": "execute_result",
          "data": {
            "text/plain": [
              "array([[1.        , 1.41421356, 1.73205081],\n",
              "       [2.        , 2.23606798, 2.44948974]])"
            ]
          },
          "metadata": {},
          "execution_count": 16
        }
      ]
    },
    {
      "cell_type": "markdown",
      "source": [
        "### 基本的切片和索引\n",
        "\n",
        "当将一个标量赋值给一个切片时 (```arr[5:8] = 12```) 该值会自动传播到整个区域，跟列表最重要的区别在于数组切片是原始数组的视图 -- 意味着数据不会被复制，而会直接反应在原数组上   \n",
        "如果想要得到一份copy 需要显示的进行复制操作 ```arr[5:8].copy()```"
      ],
      "metadata": {
        "id": "PPX9oYYkX3lt"
      }
    },
    {
      "cell_type": "code",
      "source": [
        "arr = np.arange(10)\n",
        "print(arr[5])\n",
        "print(arr[5:8])\n"
      ],
      "metadata": {
        "colab": {
          "base_uri": "https://localhost:8080/"
        },
        "id": "iiQPEgZUX7Dl",
        "outputId": "b97c6d28-52e4-4149-f2e4-5200b075fa45"
      },
      "execution_count": 17,
      "outputs": [
        {
          "output_type": "stream",
          "name": "stdout",
          "text": [
            "5\n",
            "[5 6 7]\n"
          ]
        }
      ]
    },
    {
      "cell_type": "code",
      "source": [
        "arr[5:8] = 12\n",
        "arr"
      ],
      "metadata": {
        "colab": {
          "base_uri": "https://localhost:8080/"
        },
        "id": "qvTk0fW8X_JT",
        "outputId": "1f969a1f-5a4a-4d12-da79-60e22fe50668"
      },
      "execution_count": 18,
      "outputs": [
        {
          "output_type": "execute_result",
          "data": {
            "text/plain": [
              "array([ 0,  1,  2,  3,  4, 12, 12, 12,  8,  9])"
            ]
          },
          "metadata": {},
          "execution_count": 18
        }
      ]
    },
    {
      "cell_type": "code",
      "source": [
        "arr_slice = arr[5:8]\n",
        "arr_slice[1] = 12345\n",
        "arr"
      ],
      "metadata": {
        "colab": {
          "base_uri": "https://localhost:8080/"
        },
        "id": "lGFgh3VFYn_q",
        "outputId": "47d9746a-5d6e-4337-c1e6-a89e31df08cb"
      },
      "execution_count": 19,
      "outputs": [
        {
          "output_type": "execute_result",
          "data": {
            "text/plain": [
              "array([    0,     1,     2,     3,     4,    12, 12345,    12,     8,\n",
              "           9])"
            ]
          },
          "metadata": {},
          "execution_count": 19
        }
      ]
    },
    {
      "cell_type": "code",
      "source": [
        "arr_slice[:] = 64\n",
        "arr"
      ],
      "metadata": {
        "colab": {
          "base_uri": "https://localhost:8080/"
        },
        "id": "JgreMNHjYuVT",
        "outputId": "ac4dd195-927a-495d-b770-47a6bc276f0d"
      },
      "execution_count": 20,
      "outputs": [
        {
          "output_type": "execute_result",
          "data": {
            "text/plain": [
              "array([ 0,  1,  2,  3,  4, 64, 64, 64,  8,  9])"
            ]
          },
          "metadata": {},
          "execution_count": 20
        }
      ]
    },
    {
      "cell_type": "markdown",
      "source": [
        "在二维数组中各个索引位置上的元素不再是标量而是一维数组   \n",
        "因此可以对各个元素进行递归访问，也可以传入一个用逗号隔开的索引列表来选取单个元素"
      ],
      "metadata": {
        "id": "MT8FTRuYY93j"
      }
    },
    {
      "cell_type": "code",
      "source": [
        "arr2d = np.array([[1,2,3],[4,5,6],[7,8,9]])\n",
        "print(arr2d[2])\n",
        "print(arr2d[0][2])\n",
        "print(arr2d[0,2])"
      ],
      "metadata": {
        "colab": {
          "base_uri": "https://localhost:8080/"
        },
        "id": "um9BHtWcZGw3",
        "outputId": "ca024681-6d75-48d1-d8d2-6eb0f92305a0"
      },
      "execution_count": 21,
      "outputs": [
        {
          "output_type": "stream",
          "name": "stdout",
          "text": [
            "[7 8 9]\n",
            "3\n",
            "3\n"
          ]
        }
      ]
    },
    {
      "cell_type": "markdown",
      "source": [
        "在多维数组中如果省略了后面的索引，则返回对象会是一个维度低一点的 ndarray -- 它含有高一级维度上所有的数据"
      ],
      "metadata": {
        "id": "D0ZJHUJWZghO"
      }
    },
    {
      "cell_type": "code",
      "source": [
        "arr3d = np.array([[[1,2,3],[4,5,6]],[[7,8,9],[10,11,12]]])\n",
        "print(arr3d)\n",
        "\n",
        "print(arr3d[0])"
      ],
      "metadata": {
        "colab": {
          "base_uri": "https://localhost:8080/"
        },
        "id": "yVrU8Iz9Zf1P",
        "outputId": "fe15c427-31de-4d2c-bbae-6126f59787c7"
      },
      "execution_count": 22,
      "outputs": [
        {
          "output_type": "stream",
          "name": "stdout",
          "text": [
            "[[[ 1  2  3]\n",
            "  [ 4  5  6]]\n",
            "\n",
            " [[ 7  8  9]\n",
            "  [10 11 12]]]\n",
            "[[1 2 3]\n",
            " [4 5 6]]\n"
          ]
        }
      ]
    },
    {
      "cell_type": "code",
      "source": [
        "old_values = arr3d[0].copy()\n",
        "arr3d[0] = 42\n",
        "arr3d"
      ],
      "metadata": {
        "colab": {
          "base_uri": "https://localhost:8080/"
        },
        "id": "ejLEfwGXaJ8Q",
        "outputId": "d8e678ef-91e7-48b0-d6da-4d75efe04976"
      },
      "execution_count": 23,
      "outputs": [
        {
          "output_type": "execute_result",
          "data": {
            "text/plain": [
              "array([[[42, 42, 42],\n",
              "        [42, 42, 42]],\n",
              "\n",
              "       [[ 7,  8,  9],\n",
              "        [10, 11, 12]]])"
            ]
          },
          "metadata": {},
          "execution_count": 23
        }
      ]
    },
    {
      "cell_type": "code",
      "source": [
        "arr3d[0] = old_values \n",
        "arr3d"
      ],
      "metadata": {
        "colab": {
          "base_uri": "https://localhost:8080/"
        },
        "id": "Q6LURTw5beAh",
        "outputId": "4b2b718b-1b78-48e7-e5d8-4aa0cce2a3c8"
      },
      "execution_count": 24,
      "outputs": [
        {
          "output_type": "execute_result",
          "data": {
            "text/plain": [
              "array([[[ 1,  2,  3],\n",
              "        [ 4,  5,  6]],\n",
              "\n",
              "       [[ 7,  8,  9],\n",
              "        [10, 11, 12]]])"
            ]
          },
          "metadata": {},
          "execution_count": 24
        }
      ]
    },
    {
      "cell_type": "markdown",
      "source": [
        "### 切片索引 slice index \n",
        "切片是沿着一个轴向选取元素，此时切片只能得到相同维数的数组视图   \n",
        "通过将整数索引和切片混合，可以得到低维度的切片\n",
        "\n",
        "\":\" 只有冒号则表示选取整个轴\n",
        "\n",
        "```arr[:2,1:]```: shape(2,2)   \n",
        "```arr[2]```: shape(3,)   \n",
        "```arr[2,:]```: shape(3,)    \n",
        "```arr[2:,:]```: shape(1,3)   \n",
        "```arr[:,:2]```: shape(3,2)\n"
      ],
      "metadata": {
        "id": "RF4PETCabvOR"
      }
    },
    {
      "cell_type": "code",
      "source": [
        "arr\n",
        "arr[1:6]"
      ],
      "metadata": {
        "colab": {
          "base_uri": "https://localhost:8080/"
        },
        "id": "eEIL4ZMIbyvC",
        "outputId": "31a348f3-4dfc-433c-f931-a995142fbc97"
      },
      "execution_count": 25,
      "outputs": [
        {
          "output_type": "execute_result",
          "data": {
            "text/plain": [
              "array([ 1,  2,  3,  4, 64])"
            ]
          },
          "metadata": {},
          "execution_count": 25
        }
      ]
    },
    {
      "cell_type": "code",
      "source": [
        "arr2d[:2] #选取arr2d的前两行"
      ],
      "metadata": {
        "colab": {
          "base_uri": "https://localhost:8080/"
        },
        "id": "WlMf_KIOb3Qr",
        "outputId": "157a3e35-9d31-4440-91e9-ae69d41c86cd"
      },
      "execution_count": 26,
      "outputs": [
        {
          "output_type": "execute_result",
          "data": {
            "text/plain": [
              "array([[1, 2, 3],\n",
              "       [4, 5, 6]])"
            ]
          },
          "metadata": {},
          "execution_count": 26
        }
      ]
    },
    {
      "cell_type": "code",
      "source": [
        "arr2d[1,:2]"
      ],
      "metadata": {
        "colab": {
          "base_uri": "https://localhost:8080/"
        },
        "id": "n6iWVZbMcNQ-",
        "outputId": "28ab157a-0090-4793-ea4a-7f8b312a54b4"
      },
      "execution_count": 27,
      "outputs": [
        {
          "output_type": "execute_result",
          "data": {
            "text/plain": [
              "array([4, 5])"
            ]
          },
          "metadata": {},
          "execution_count": 27
        }
      ]
    },
    {
      "cell_type": "code",
      "source": [
        "arr2d[:,:1] #选取第2列全部轴"
      ],
      "metadata": {
        "colab": {
          "base_uri": "https://localhost:8080/"
        },
        "id": "42itt0W8cXig",
        "outputId": "56aac835-95c7-41f9-fcdf-652bb9434612"
      },
      "execution_count": 28,
      "outputs": [
        {
          "output_type": "execute_result",
          "data": {
            "text/plain": [
              "array([[1],\n",
              "       [4],\n",
              "       [7]])"
            ]
          },
          "metadata": {},
          "execution_count": 28
        }
      ]
    },
    {
      "cell_type": "code",
      "source": [
        "# 对切片赋值会扩散到整个选区\n",
        "arr2d[:2,1:] = 0\n",
        "arr2d"
      ],
      "metadata": {
        "colab": {
          "base_uri": "https://localhost:8080/"
        },
        "id": "-GV6r_LKc17P",
        "outputId": "165400b6-4621-42e8-a2ff-3a05ac559335"
      },
      "execution_count": 29,
      "outputs": [
        {
          "output_type": "execute_result",
          "data": {
            "text/plain": [
              "array([[1, 0, 0],\n",
              "       [4, 0, 0],\n",
              "       [7, 8, 9]])"
            ]
          },
          "metadata": {},
          "execution_count": 29
        }
      ]
    },
    {
      "cell_type": "markdown",
      "source": [
        "### Bool 索引\n",
        "\n",
        "数组的比较运算(==) 也是矢量化的，比较将会产生Bool 值   \n",
        "Bool型数组的长度必须跟被索引的轴长度一致   \n",
        "\n",
        "选择不等于的话，可以使用(!=) 也可以使用 ~ 对条件进行否定\n",
        "\n",
        "选取多个则需要使用 &, | 等 bool 运算符\n",
        "\n",
        "通过Bool index 选取数组中的数据，将总是创建数据中的副本，即使返回一模一样的数组也是如此\n",
        "\n",
        "* Python 中的 and 和 or 关键词在Bool 型数组中无效！！必须使用 & |\n",
        "\n"
      ],
      "metadata": {
        "id": "Aaa6c8ULc9iT"
      }
    },
    {
      "cell_type": "code",
      "source": [
        "names = np.array(['Bob','Joe','Will','Bob','Will','Joe','Joe'])\n",
        "data = np.random.randn(7,4)\n",
        "print(names)\n",
        "print(data)"
      ],
      "metadata": {
        "colab": {
          "base_uri": "https://localhost:8080/"
        },
        "id": "-WKPwbDEdAW8",
        "outputId": "2a4c9bfc-1f71-4205-bf54-9d542e6d6978"
      },
      "execution_count": 30,
      "outputs": [
        {
          "output_type": "stream",
          "name": "stdout",
          "text": [
            "['Bob' 'Joe' 'Will' 'Bob' 'Will' 'Joe' 'Joe']\n",
            "[[ 0.39793969 -0.96069804 -0.68024146 -0.11604189]\n",
            " [-0.18256418  0.77534268  0.07501731 -1.43840415]\n",
            " [-0.18800091  0.59722468 -0.65669687 -0.00504873]\n",
            " [-1.02298528 -0.42237157  0.32051936 -1.5587244 ]\n",
            " [-0.98684889  2.07937157 -0.8541416   0.61097657]\n",
            " [ 0.45044729  1.4357755   0.62330579  1.0976371 ]\n",
            " [-0.91069784 -0.18176355  0.74099584  0.96711693]]\n"
          ]
        }
      ]
    },
    {
      "cell_type": "code",
      "source": [
        "# 假设每个名字都对应data数组中的一行，需要选取'Bob'对应的所有行 \n",
        "# 因此比较会产生一个Bool value\n",
        "names == \"Bob\"\n"
      ],
      "metadata": {
        "colab": {
          "base_uri": "https://localhost:8080/"
        },
        "id": "2rMv-5SPdM87",
        "outputId": "76fe67c9-c4b4-4772-cf84-fe754e88fbf3"
      },
      "execution_count": 31,
      "outputs": [
        {
          "output_type": "execute_result",
          "data": {
            "text/plain": [
              "array([ True, False, False,  True, False, False, False])"
            ]
          },
          "metadata": {},
          "execution_count": 31
        }
      ]
    },
    {
      "cell_type": "code",
      "source": [
        "# 这个布尔型数组可用于数组索引\n",
        "data[names == 'Bob']"
      ],
      "metadata": {
        "colab": {
          "base_uri": "https://localhost:8080/"
        },
        "id": "rV95-ndKdfO-",
        "outputId": "f40417c8-a60d-4ab1-d7d9-3e5b62d6fb72"
      },
      "execution_count": 32,
      "outputs": [
        {
          "output_type": "execute_result",
          "data": {
            "text/plain": [
              "array([[ 0.39793969, -0.96069804, -0.68024146, -0.11604189],\n",
              "       [-1.02298528, -0.42237157,  0.32051936, -1.5587244 ]])"
            ]
          },
          "metadata": {},
          "execution_count": 32
        }
      ]
    },
    {
      "cell_type": "code",
      "source": [
        "data[names == 'Bob', 2:]\n"
      ],
      "metadata": {
        "colab": {
          "base_uri": "https://localhost:8080/"
        },
        "id": "-UMPs662eS0X",
        "outputId": "833b21a3-4879-410e-c8e3-9b194223f59d"
      },
      "execution_count": 33,
      "outputs": [
        {
          "output_type": "execute_result",
          "data": {
            "text/plain": [
              "array([[-0.68024146, -0.11604189],\n",
              "       [ 0.32051936, -1.5587244 ]])"
            ]
          },
          "metadata": {},
          "execution_count": 33
        }
      ]
    },
    {
      "cell_type": "code",
      "source": [
        "data[names == 'Bob', 3]"
      ],
      "metadata": {
        "colab": {
          "base_uri": "https://localhost:8080/"
        },
        "id": "FSNXw-iweZUM",
        "outputId": "b697efaf-0a7f-473a-fe7b-6d226d17e04b"
      },
      "execution_count": 34,
      "outputs": [
        {
          "output_type": "execute_result",
          "data": {
            "text/plain": [
              "array([-0.11604189, -1.5587244 ])"
            ]
          },
          "metadata": {},
          "execution_count": 34
        }
      ]
    },
    {
      "cell_type": "code",
      "source": [
        "names != 'Bob'\n",
        "data[~(names =='Bob')]"
      ],
      "metadata": {
        "colab": {
          "base_uri": "https://localhost:8080/"
        },
        "id": "FvVzTl5oeje7",
        "outputId": "4950c81c-7d1a-41e6-86e5-be6ef5f666b9"
      },
      "execution_count": 35,
      "outputs": [
        {
          "output_type": "execute_result",
          "data": {
            "text/plain": [
              "array([[-0.18256418,  0.77534268,  0.07501731, -1.43840415],\n",
              "       [-0.18800091,  0.59722468, -0.65669687, -0.00504873],\n",
              "       [-0.98684889,  2.07937157, -0.8541416 ,  0.61097657],\n",
              "       [ 0.45044729,  1.4357755 ,  0.62330579,  1.0976371 ],\n",
              "       [-0.91069784, -0.18176355,  0.74099584,  0.96711693]])"
            ]
          },
          "metadata": {},
          "execution_count": 35
        }
      ]
    },
    {
      "cell_type": "code",
      "source": [
        "mask = (names =='Bob') | (names == 'Will')\n",
        "print(mask)\n",
        "print(data[mask])"
      ],
      "metadata": {
        "colab": {
          "base_uri": "https://localhost:8080/"
        },
        "id": "JnIfQxdIew6l",
        "outputId": "64c6dad2-5167-4e3f-c399-625a465f801f"
      },
      "execution_count": 36,
      "outputs": [
        {
          "output_type": "stream",
          "name": "stdout",
          "text": [
            "[ True False  True  True  True False False]\n",
            "[[ 0.39793969 -0.96069804 -0.68024146 -0.11604189]\n",
            " [-0.18800091  0.59722468 -0.65669687 -0.00504873]\n",
            " [-1.02298528 -0.42237157  0.32051936 -1.5587244 ]\n",
            " [-0.98684889  2.07937157 -0.8541416   0.61097657]]\n"
          ]
        }
      ]
    },
    {
      "cell_type": "code",
      "source": [
        "# 通过Bool设置值，将data中所有负值设置为负\n",
        "data[data < 0] = 0\n",
        "data"
      ],
      "metadata": {
        "colab": {
          "base_uri": "https://localhost:8080/"
        },
        "id": "4S58izaue2RC",
        "outputId": "1c73190e-2c0a-496e-da68-d039669fc55a"
      },
      "execution_count": 37,
      "outputs": [
        {
          "output_type": "execute_result",
          "data": {
            "text/plain": [
              "array([[0.39793969, 0.        , 0.        , 0.        ],\n",
              "       [0.        , 0.77534268, 0.07501731, 0.        ],\n",
              "       [0.        , 0.59722468, 0.        , 0.        ],\n",
              "       [0.        , 0.        , 0.32051936, 0.        ],\n",
              "       [0.        , 2.07937157, 0.        , 0.61097657],\n",
              "       [0.45044729, 1.4357755 , 0.62330579, 1.0976371 ],\n",
              "       [0.        , 0.        , 0.74099584, 0.96711693]])"
            ]
          },
          "metadata": {},
          "execution_count": 37
        }
      ]
    },
    {
      "cell_type": "code",
      "source": [
        "# 通过一维Bool数组设置整行 or 列的值\n",
        "data[names != 'Joe'] = 7\n",
        "data"
      ],
      "metadata": {
        "colab": {
          "base_uri": "https://localhost:8080/"
        },
        "id": "kYk_7kzVfb3W",
        "outputId": "1bb6e9fb-9818-459c-d92f-6a8268ee2674"
      },
      "execution_count": 38,
      "outputs": [
        {
          "output_type": "execute_result",
          "data": {
            "text/plain": [
              "array([[7.        , 7.        , 7.        , 7.        ],\n",
              "       [0.        , 0.77534268, 0.07501731, 0.        ],\n",
              "       [7.        , 7.        , 7.        , 7.        ],\n",
              "       [7.        , 7.        , 7.        , 7.        ],\n",
              "       [7.        , 7.        , 7.        , 7.        ],\n",
              "       [0.45044729, 1.4357755 , 0.62330579, 1.0976371 ],\n",
              "       [0.        , 0.        , 0.74099584, 0.96711693]])"
            ]
          },
          "metadata": {},
          "execution_count": 38
        }
      ]
    },
    {
      "cell_type": "markdown",
      "source": [
        "### 花式索引 fancy indexing \n",
        "利用整数数组进行索引, 无论数组的维度，花式索引总是一维的\n",
        "\n",
        "且跟切片不同，花式索引总是将数组复制到新的数组中"
      ],
      "metadata": {
        "id": "3OuYln7Ffjq5"
      }
    },
    {
      "cell_type": "code",
      "source": [
        "arr = np.empty((8,4))\n",
        "\n",
        "for i in range(8):\n",
        "  arr[i] = i \n",
        "\n",
        "arr"
      ],
      "metadata": {
        "colab": {
          "base_uri": "https://localhost:8080/"
        },
        "id": "FOuw7zpKhsyh",
        "outputId": "8e5f809f-98b7-4502-d6d4-c58b6516ad3a"
      },
      "execution_count": 39,
      "outputs": [
        {
          "output_type": "execute_result",
          "data": {
            "text/plain": [
              "array([[0., 0., 0., 0.],\n",
              "       [1., 1., 1., 1.],\n",
              "       [2., 2., 2., 2.],\n",
              "       [3., 3., 3., 3.],\n",
              "       [4., 4., 4., 4.],\n",
              "       [5., 5., 5., 5.],\n",
              "       [6., 6., 6., 6.],\n",
              "       [7., 7., 7., 7.]])"
            ]
          },
          "metadata": {},
          "execution_count": 39
        }
      ]
    },
    {
      "cell_type": "code",
      "source": [
        "# 为了以特定顺序选取行子集，只需传入一个制定顺序的整数列表或ndarray即可\n",
        "arr[[4,3,0,6]]"
      ],
      "metadata": {
        "colab": {
          "base_uri": "https://localhost:8080/"
        },
        "id": "sgDjJ2v6h09u",
        "outputId": "8c53897a-f703-48ec-fe36-a4c3cbe79a95"
      },
      "execution_count": 40,
      "outputs": [
        {
          "output_type": "execute_result",
          "data": {
            "text/plain": [
              "array([[4., 4., 4., 4.],\n",
              "       [3., 3., 3., 3.],\n",
              "       [0., 0., 0., 0.],\n",
              "       [6., 6., 6., 6.]])"
            ]
          },
          "metadata": {},
          "execution_count": 40
        }
      ]
    },
    {
      "cell_type": "code",
      "source": [
        "# 使用负数索引会从末尾开始选取行\n",
        "arr[[-3,-5,-7]]"
      ],
      "metadata": {
        "colab": {
          "base_uri": "https://localhost:8080/"
        },
        "id": "FaClsOLH1BQ1",
        "outputId": "1630e964-8e39-427e-a4e3-93760c5ae6af"
      },
      "execution_count": 41,
      "outputs": [
        {
          "output_type": "execute_result",
          "data": {
            "text/plain": [
              "array([[5., 5., 5., 5.],\n",
              "       [3., 3., 3., 3.],\n",
              "       [1., 1., 1., 1.]])"
            ]
          },
          "metadata": {},
          "execution_count": 41
        }
      ]
    },
    {
      "cell_type": "code",
      "source": [
        "# 一次性传入多个索引数组会返回一个一维数组，其中的元素对应各个索引元素\n",
        "arr = np.arange(32).reshape((8,4))\n",
        "arr"
      ],
      "metadata": {
        "colab": {
          "base_uri": "https://localhost:8080/"
        },
        "id": "OxZjFRJM1JLC",
        "outputId": "5103bffb-bd7c-4774-d75a-bfddaa651bbb"
      },
      "execution_count": 42,
      "outputs": [
        {
          "output_type": "execute_result",
          "data": {
            "text/plain": [
              "array([[ 0,  1,  2,  3],\n",
              "       [ 4,  5,  6,  7],\n",
              "       [ 8,  9, 10, 11],\n",
              "       [12, 13, 14, 15],\n",
              "       [16, 17, 18, 19],\n",
              "       [20, 21, 22, 23],\n",
              "       [24, 25, 26, 27],\n",
              "       [28, 29, 30, 31]])"
            ]
          },
          "metadata": {},
          "execution_count": 42
        }
      ]
    },
    {
      "cell_type": "code",
      "source": [
        "arr[[1,5,7,2],[0,3,1,2]]"
      ],
      "metadata": {
        "colab": {
          "base_uri": "https://localhost:8080/"
        },
        "id": "WEWbApwC1eF1",
        "outputId": "9f26a0b4-f55f-49eb-c042-10639491de06"
      },
      "execution_count": 43,
      "outputs": [
        {
          "output_type": "execute_result",
          "data": {
            "text/plain": [
              "array([ 4, 23, 29, 10])"
            ]
          },
          "metadata": {},
          "execution_count": 43
        }
      ]
    },
    {
      "cell_type": "markdown",
      "source": [
        "### 数组转置和轴对换 transformation \n",
        "转置是重塑的一种特殊形式，他返回的是原数据的视图（不会进行任何的复制操作）  \n",
        "数组不仅有 transpose 方法 还有T属性\n",
        "\n",
        "```transpose```的作用是改变序列，对于二维 ndarray 在不指定参数的情况下默认是矩阵转置"
      ],
      "metadata": {
        "id": "liODJtD11vm9"
      }
    },
    {
      "cell_type": "code",
      "source": [
        "arr = np.arange(15).reshape((3,5))\n",
        "print(arr)\n",
        "print(arr.T)"
      ],
      "metadata": {
        "colab": {
          "base_uri": "https://localhost:8080/"
        },
        "id": "0dChg2v72HA2",
        "outputId": "71124f14-ec02-4c78-f354-f57040ef05ca"
      },
      "execution_count": 44,
      "outputs": [
        {
          "output_type": "stream",
          "name": "stdout",
          "text": [
            "[[ 0  1  2  3  4]\n",
            " [ 5  6  7  8  9]\n",
            " [10 11 12 13 14]]\n",
            "[[ 0  5 10]\n",
            " [ 1  6 11]\n",
            " [ 2  7 12]\n",
            " [ 3  8 13]\n",
            " [ 4  9 14]]\n"
          ]
        }
      ]
    },
    {
      "cell_type": "code",
      "source": [
        "# 进行矩阵计算，利用 np.dot 计算矩阵内积\n",
        "arr = np.random.randn(6,3)\n",
        "print(arr) \n",
        "np.dot(arr.T, arr)"
      ],
      "metadata": {
        "colab": {
          "base_uri": "https://localhost:8080/"
        },
        "id": "hVTVMBd82c2h",
        "outputId": "ccce1242-ffcf-4432-812f-817ed1da4470"
      },
      "execution_count": 45,
      "outputs": [
        {
          "output_type": "stream",
          "name": "stdout",
          "text": [
            "[[ 0.50632514  1.35307321 -1.57779669]\n",
            " [-0.64917467 -0.35769762  0.49085804]\n",
            " [-0.26183352 -0.84583429 -0.06868465]\n",
            " [-1.89736413 -0.22148925 -0.01657011]\n",
            " [ 2.14518591 -1.53099207  0.15050495]\n",
            " [ 0.39481374  0.25531233 -0.35018689]]\n"
          ]
        },
        {
          "output_type": "execute_result",
          "data": {
            "text/plain": [
              "array([[ 9.10404083, -1.62444506, -0.88350476],\n",
              "       [-1.62444506,  5.13236894, -2.56851616],\n",
              "       [-0.88350476, -2.56851616,  2.88065874]])"
            ]
          },
          "metadata": {},
          "execution_count": 45
        }
      ]
    },
    {
      "cell_type": "code",
      "source": [
        "# 对于高维数组，transpose 需要得到一个由轴编号组成的元组才能对这些轴进行转置\n",
        "arr = np.arange(16).reshape((2,2,4))\n",
        "print(arr)\n",
        "\n",
        "arr.transpose((1,0,2)) # 将0轴和1轴的位置交换，2轴位置不变\n"
      ],
      "metadata": {
        "colab": {
          "base_uri": "https://localhost:8080/"
        },
        "id": "u35Txskd2v3-",
        "outputId": "63f76e88-bda1-4a42-9a07-05e5f22e34c2"
      },
      "execution_count": 46,
      "outputs": [
        {
          "output_type": "stream",
          "name": "stdout",
          "text": [
            "[[[ 0  1  2  3]\n",
            "  [ 4  5  6  7]]\n",
            "\n",
            " [[ 8  9 10 11]\n",
            "  [12 13 14 15]]]\n"
          ]
        },
        {
          "output_type": "execute_result",
          "data": {
            "text/plain": [
              "array([[[ 0,  1,  2,  3],\n",
              "        [ 8,  9, 10, 11]],\n",
              "\n",
              "       [[ 4,  5,  6,  7],\n",
              "        [12, 13, 14, 15]]])"
            ]
          },
          "metadata": {},
          "execution_count": 46
        }
      ]
    },
    {
      "cell_type": "code",
      "source": [
        "# swapaxes: 需要接受一对轴的编号进行交换\n",
        "# 它也返回源数据的视图，不会进行任何复制操作\n",
        "arr.swapaxes(1,2)"
      ],
      "metadata": {
        "colab": {
          "base_uri": "https://localhost:8080/"
        },
        "id": "wKwGjeX-36Gi",
        "outputId": "67a29f67-cf56-4ba1-f8eb-6d3acd1795a8"
      },
      "execution_count": 47,
      "outputs": [
        {
          "output_type": "execute_result",
          "data": {
            "text/plain": [
              "array([[[ 0,  4],\n",
              "        [ 1,  5],\n",
              "        [ 2,  6],\n",
              "        [ 3,  7]],\n",
              "\n",
              "       [[ 8, 12],\n",
              "        [ 9, 13],\n",
              "        [10, 14],\n",
              "        [11, 15]]])"
            ]
          },
          "metadata": {},
          "execution_count": 47
        }
      ]
    },
    {
      "cell_type": "markdown",
      "source": [
        "## **2. 通用函数: 快速的元素级数组函数**\n",
        "**ufunc** 通用函数是一种对 ndarray 中的数据执行元素级运算的函数, 可以看成是简单函数的矢量化包装器\n",
        "\n",
        "**Binary ufunc** 二元函数，接受两个数组(如add，maximum)\n",
        "\n",
        "有些ufunc 可以返回多个数组，比如modf "
      ],
      "metadata": {
        "id": "Zp4Vqo9G4X5Z"
      }
    },
    {
      "cell_type": "code",
      "source": [
        "arr = np.arange(10)\n",
        "print(np.sqrt(arr))\n",
        "print(np.exp(arr))"
      ],
      "metadata": {
        "colab": {
          "base_uri": "https://localhost:8080/"
        },
        "id": "f5eFxDe44ol_",
        "outputId": "95b86df4-3c40-41db-aed2-ef2e9335545a"
      },
      "execution_count": 48,
      "outputs": [
        {
          "output_type": "stream",
          "name": "stdout",
          "text": [
            "[0.         1.         1.41421356 1.73205081 2.         2.23606798\n",
            " 2.44948974 2.64575131 2.82842712 3.        ]\n",
            "[1.00000000e+00 2.71828183e+00 7.38905610e+00 2.00855369e+01\n",
            " 5.45981500e+01 1.48413159e+02 4.03428793e+02 1.09663316e+03\n",
            " 2.98095799e+03 8.10308393e+03]\n"
          ]
        }
      ]
    },
    {
      "cell_type": "code",
      "source": [
        "x = np.random.randn(8)\n",
        "y = np.random.randn(8)\n",
        "print(np.maximum(x,y))"
      ],
      "metadata": {
        "colab": {
          "base_uri": "https://localhost:8080/"
        },
        "id": "09W7RA5v402c",
        "outputId": "e7242f42-f400-476a-d3fb-186ed0111d88"
      },
      "execution_count": 49,
      "outputs": [
        {
          "output_type": "stream",
          "name": "stdout",
          "text": [
            "[0.67670941 0.71251153 0.55808842 0.87613257 0.19375991 2.45780528\n",
            " 0.03814485 0.84912921]\n"
          ]
        }
      ]
    },
    {
      "cell_type": "code",
      "source": [
        "# modf: Python内置函数 divmod 的矢量化，返回浮点数组的小数和整数部分\n",
        "arr = np.random.randn(7) * 5\n",
        "remainder, whole_part = np.modf(arr)\n",
        "\n",
        "print(remainder)\n",
        "print(whole_part)"
      ],
      "metadata": {
        "colab": {
          "base_uri": "https://localhost:8080/"
        },
        "id": "8uTshVXb5NOX",
        "outputId": "cb8d47e6-1d09-491d-e443-3b71863241a0"
      },
      "execution_count": 50,
      "outputs": [
        {
          "output_type": "stream",
          "name": "stdout",
          "text": [
            "[-0.65505249  0.7636299  -0.36666139 -0.19414029  0.10296605 -0.11376425\n",
            "  0.95253987]\n",
            "[-3.  1. -2. -2.  5. -1.  0.]\n"
          ]
        }
      ]
    },
    {
      "cell_type": "markdown",
      "source": [
        "**一元 ufunc**\n",
        "* ```abs, fabs```: 计算整数，浮点数或复数的绝对值; 对于非负数值可以使用更快的fabs\n",
        "* ```sqrt```: 计算各元素的平方根 ```arr ** 0.5``` \n",
        "* ```square```: 计算各元素的平方 ```arr ** 2```\n",
        "* ```exp```: 指数 e^x\n",
        "* ```log, log10, log2, log1p```: log值\n",
        "* ```sign```: 各元素的正负号: 1,0,-1\n",
        "* ```ceil```: 大于等于该值的最小整数\n",
        "* ```floor```: 小于等于该值的最大整数\n",
        "* ```rint```: 各元素值四舍五入到最接近的整数，保留 dtype\n",
        "* ```modf```: 将数组的小数和整数部分以两个独立的数组形式返回\n",
        "* ```isnan```: 返回表示是否是 nan 的布尔型数组\n",
        "* ```isfinite, isinf```: 返回表示哪些是 inf 或 isinf 的布尔型数组\n",
        "* ```cos, cosh, sin, sinh, tan, tanh```: 普通和双曲的三角函数\n",
        "* ```arccos, arccosh, arcsin,arcsinh, arctan, arctanh```: 反三角函数\n",
        "* ```logical_not```: 计算各元素 not x 的真值 相当于 -arr\n",
        "\n",
        "**二元 ufunc**\n",
        "* ```add, subtract, multiply, power```: 加，减，乘，乘方\n",
        "* ```divide, floor_divide```: 除法, 向下圆整除法(丢弃余数)\n",
        "* ```maximum, fmax; minimum, fmin```: 元素级的最大/小值计算, fmax/fmin 将忽略NaN\n",
        "* ```mod```: 求模计算(除法的余数)\n",
        "* ```cppysign```: 将第二个数组中的值的符号复制给第一个数组\n",
        "* ```greater, greater_equal, less, less_equal, equal, not_equal```: 执行元素级的比较运算，最终产生布尔型数组 >, >=, <, <=, ==, != \n",
        "* ```logical_and, logical_or, logical_xor```: 真值逻辑运算,&， |， ^ "
      ],
      "metadata": {
        "id": "7wuH_R7q5i40"
      }
    },
    {
      "cell_type": "markdown",
      "source": [
        "## **3.利用数组进行数据处理**\n",
        "\n",
        "用数组表达式代替循环的做法被称为 ”矢量化“"
      ],
      "metadata": {
        "id": "3piOcNps8Iid"
      }
    },
    {
      "cell_type": "code",
      "source": [
        "points = np.arange(-5,5,0.01) # 1000 equally spaced points \n",
        "\n",
        "# meshgrid 函数接受两个一维数组，并产生两个二维矩阵\n",
        "xs, ys = np.meshgrid(points, points)\n",
        "print(ys)\n",
        "\n",
        "# 在一组值(网格型) 上计算函数 sqrt(x^2 + y^2)\n",
        "z = np.sqrt(xs ** 2 + ys ** 2)\n",
        "print(z)"
      ],
      "metadata": {
        "colab": {
          "base_uri": "https://localhost:8080/"
        },
        "id": "OwFeGnajnKTP",
        "outputId": "1928cbf0-e71a-4c27-92d8-93cccf67babf"
      },
      "execution_count": 51,
      "outputs": [
        {
          "output_type": "stream",
          "name": "stdout",
          "text": [
            "[[-5.   -5.   -5.   ... -5.   -5.   -5.  ]\n",
            " [-4.99 -4.99 -4.99 ... -4.99 -4.99 -4.99]\n",
            " [-4.98 -4.98 -4.98 ... -4.98 -4.98 -4.98]\n",
            " ...\n",
            " [ 4.97  4.97  4.97 ...  4.97  4.97  4.97]\n",
            " [ 4.98  4.98  4.98 ...  4.98  4.98  4.98]\n",
            " [ 4.99  4.99  4.99 ...  4.99  4.99  4.99]]\n",
            "[[7.07106781 7.06400028 7.05693985 ... 7.04988652 7.05693985 7.06400028]\n",
            " [7.06400028 7.05692568 7.04985815 ... 7.04279774 7.04985815 7.05692568]\n",
            " [7.05693985 7.04985815 7.04278354 ... 7.03571603 7.04278354 7.04985815]\n",
            " ...\n",
            " [7.04988652 7.04279774 7.03571603 ... 7.0286414  7.03571603 7.04279774]\n",
            " [7.05693985 7.04985815 7.04278354 ... 7.03571603 7.04278354 7.04985815]\n",
            " [7.06400028 7.05692568 7.04985815 ... 7.04279774 7.04985815 7.05692568]]\n"
          ]
        }
      ]
    },
    {
      "cell_type": "code",
      "source": [
        "# visualisation \n",
        "import matplotlib.pyplot as plt \n",
        "plt.imshow(z, cmap=plt.cm.gray); plt.colorbar()\n",
        "plt.title(\"Image plot of $\\sqrt{x^2 + y^2}$ for a grid of values\")"
      ],
      "metadata": {
        "colab": {
          "base_uri": "https://localhost:8080/",
          "height": 306
        },
        "id": "NRGIIAzjn2sz",
        "outputId": "69ba43ca-78b1-40fb-cfc9-0306bc60c7dd"
      },
      "execution_count": 52,
      "outputs": [
        {
          "output_type": "execute_result",
          "data": {
            "text/plain": [
              "Text(0.5, 1.0, 'Image plot of $\\\\sqrt{x^2 + y^2}$ for a grid of values')"
            ]
          },
          "metadata": {},
          "execution_count": 52
        },
        {
          "output_type": "display_data",
          "data": {
            "text/plain": [
              "<Figure size 432x288 with 2 Axes>"
            ],
            "image/png": "[encoded data removed]"
          },
          "metadata": {
            "needs_background": "light"
          }
        }
      ]
    },
    {
      "cell_type": "markdown",
      "source": [
        "### 将条件逻辑表述为数组运算\n",
        "```numpy.where```函数是三元表达式```x if condition else y```的矢量化版本\n",
        "\n"
      ],
      "metadata": {
        "id": "pRfnGMOnn1jp"
      }
    },
    {
      "cell_type": "code",
      "source": [
        "xarr = np.array([1.1,1.2,1.3,1.4,1.5])\n",
        "yarr = np.array([2.1,2.2,2.3,2.4,2.5])\n",
        "cond = np.array([True, False, True, True, False])\n",
        "\n",
        "# 根据cond中的值选取 xarr和yarr的值：\n",
        "# 当cond中的值为True时，选取xarr的值；否则选取yarr的值\n",
        "result = [(x if c else y) for x,y,c in zip(xarr, yarr, cond)]\n",
        "result"
      ],
      "metadata": {
        "colab": {
          "base_uri": "https://localhost:8080/"
        },
        "id": "cMUBIq7ZokIn",
        "outputId": "93dbede7-9308-4163-f378-b8514922631e"
      },
      "execution_count": 53,
      "outputs": [
        {
          "output_type": "execute_result",
          "data": {
            "text/plain": [
              "[1.1, 2.2, 1.3, 1.4, 2.5]"
            ]
          },
          "metadata": {},
          "execution_count": 53
        }
      ]
    },
    {
      "cell_type": "code",
      "source": [
        "result = np.where(cond, xarr, yarr)\n",
        "result \n",
        "\n",
        "# np.where 的第二个 & 第三个参数不必是数组，他们都可以是标量值\n",
        "# where 通常用于根据另一个数组而产生一个新的数组"
      ],
      "metadata": {
        "colab": {
          "base_uri": "https://localhost:8080/"
        },
        "id": "Om_VfU6A-vy_",
        "outputId": "06969d60-c62e-4729-c0ba-3c4b5a05d31e"
      },
      "execution_count": 54,
      "outputs": [
        {
          "output_type": "execute_result",
          "data": {
            "text/plain": [
              "array([1.1, 2.2, 1.3, 1.4, 2.5])"
            ]
          },
          "metadata": {},
          "execution_count": 54
        }
      ]
    },
    {
      "cell_type": "code",
      "source": [
        "arr = np.random.randn(4,4)\n",
        "print(arr)\n",
        "\n",
        "print(arr>0)\n",
        "\n",
        "print(np.where(arr > 0,2,-2))"
      ],
      "metadata": {
        "colab": {
          "base_uri": "https://localhost:8080/"
        },
        "id": "F-a4SNeg_KVJ",
        "outputId": "da3ddf67-40f1-4d98-c51d-a446a62ff407"
      },
      "execution_count": 55,
      "outputs": [
        {
          "output_type": "stream",
          "name": "stdout",
          "text": [
            "[[-1.36798851  0.39984974 -2.37339853 -0.56946072]\n",
            " [-0.66061419 -1.82775922 -1.19248316 -2.05446063]\n",
            " [ 0.43860778 -0.6588323  -1.49994389 -1.37681304]\n",
            " [-0.14584635  0.51956256  1.15603754 -0.10921103]]\n",
            "[[False  True False False]\n",
            " [False False False False]\n",
            " [ True False False False]\n",
            " [False  True  True False]]\n",
            "[[-2  2 -2 -2]\n",
            " [-2 -2 -2 -2]\n",
            " [ 2 -2 -2 -2]\n",
            " [-2  2  2 -2]]\n"
          ]
        }
      ]
    },
    {
      "cell_type": "code",
      "source": [
        "# 将标量和数组结合\n",
        "np.where(arr > 0, 2, arr) # set only positive values to 2\n"
      ],
      "metadata": {
        "colab": {
          "base_uri": "https://localhost:8080/"
        },
        "id": "mRf2c06d_equ",
        "outputId": "9fab4482-3cd7-4f49-da74-3f83481016a4"
      },
      "execution_count": 56,
      "outputs": [
        {
          "output_type": "execute_result",
          "data": {
            "text/plain": [
              "array([[-1.36798851,  2.        , -2.37339853, -0.56946072],\n",
              "       [-0.66061419, -1.82775922, -1.19248316, -2.05446063],\n",
              "       [ 2.        , -0.6588323 , -1.49994389, -1.37681304],\n",
              "       [-0.14584635,  2.        ,  2.        , -0.10921103]])"
            ]
          },
          "metadata": {},
          "execution_count": 56
        }
      ]
    },
    {
      "cell_type": "markdown",
      "source": [
        "### 数学和统计方法\n",
        "可以通过数组上的一组数学函数对整个数组或某个轴向的数据进行统计计算  \n",
        "```sum, mean, std``` 等 aggregation 既可以当做数组的的实例方法调用，也可以当做顶级NumPy函数使用\n",
        "\n",
        "```mean, sum``` 这类函数可以接受一个axis 选项参数，用于计算该轴向上的统计值，最终结果是一个少一维的数组"
      ],
      "metadata": {
        "id": "j6ZuBQ6nDeR-"
      }
    },
    {
      "cell_type": "code",
      "source": [
        "arr = np.random.randn(5,4)\n",
        "print(arr)\n",
        "\n",
        "print(arr.mean())\n",
        "print(np.mean(arr))\n",
        "print(arr.sum())"
      ],
      "metadata": {
        "colab": {
          "base_uri": "https://localhost:8080/"
        },
        "id": "O0pCn2CHDzCh",
        "outputId": "00acaa7d-58e7-4bbd-e3c1-35504e922ad4"
      },
      "execution_count": 57,
      "outputs": [
        {
          "output_type": "stream",
          "name": "stdout",
          "text": [
            "[[ 1.55750514 -1.10846163 -0.8092775   0.24662179]\n",
            " [ 1.26057578 -1.11891745 -2.09356813  0.61853759]\n",
            " [ 0.405059   -1.13121313 -0.46220786 -0.89570281]\n",
            " [ 2.38875959 -0.05510278  1.10146593 -0.96376399]\n",
            " [-0.56451013  0.00379003  0.91864842  1.83404443]]\n",
            "0.056614115226275664\n",
            "0.056614115226275664\n",
            "1.1322823045255133\n"
          ]
        }
      ]
    },
    {
      "cell_type": "code",
      "source": [
        "print(arr.mean(axis=1)) # arr.mean(1) 计算行的平均值\n",
        "print(arr.sum(axis=0)) # arr.sum(0) 计算每列的和\n"
      ],
      "metadata": {
        "colab": {
          "base_uri": "https://localhost:8080/"
        },
        "id": "JPUVTbBzEacP",
        "outputId": "44407ff7-e759-4d5d-b585-639fb0db2a66"
      },
      "execution_count": 58,
      "outputs": [
        {
          "output_type": "stream",
          "name": "stdout",
          "text": [
            "[-0.02840305 -0.33334306 -0.5210162   0.61783969  0.54799319]\n",
            "[ 5.04738938 -3.40990495 -1.34493914  0.83973701]\n"
          ]
        }
      ]
    },
    {
      "cell_type": "markdown",
      "source": [
        "在多维数组中，累加函数(```cumsum```etc.) 返回的是同样大小的数组，但是会根据每个低维的切片沿着标记轴计算部分聚类"
      ],
      "metadata": {
        "id": "nyKEsvNkErzp"
      }
    },
    {
      "cell_type": "code",
      "source": [
        "arr = np.array([[0,1,2],[3,4,5],[6,7,8]])\n",
        "print(arr)\n",
        "\n",
        "print(arr.cumsum(axis=0))\n",
        "print(arr.cumprod(axis=1))"
      ],
      "metadata": {
        "colab": {
          "base_uri": "https://localhost:8080/"
        },
        "id": "Sb7wQSbyE54a",
        "outputId": "9d2d4494-f8c5-4b73-b5dc-c051854cff77"
      },
      "execution_count": 59,
      "outputs": [
        {
          "output_type": "stream",
          "name": "stdout",
          "text": [
            "[[0 1 2]\n",
            " [3 4 5]\n",
            " [6 7 8]]\n",
            "[[ 0  1  2]\n",
            " [ 3  5  7]\n",
            " [ 9 12 15]]\n",
            "[[  0   0   0]\n",
            " [  3  12  60]\n",
            " [  6  42 336]]\n"
          ]
        }
      ]
    },
    {
      "cell_type": "markdown",
      "source": [
        "基本数组统计方法\n",
        "* ```sum```: 对数组中全部或者某轴向的元素求和，零长度的数组 sum = 0 \n",
        "* ```mean```: 算术平均数，零长度的数组 mean = NaN\n",
        "* ```std, var```: 标准差 & 方差，自由度可调(默认为n)\n",
        "* ```min, max```: 最小值，最大值\n",
        "* ```argmin, argmax```: 最小和最大元素的index\n",
        "* ```cumsum, cumprod```: 所有元素的累计和、累计积"
      ],
      "metadata": {
        "id": "lb8n0OqCFGNO"
      }
    },
    {
      "cell_type": "markdown",
      "source": [
        "### 用于布尔型数组的方法\n",
        "布尔值会被强制转换为 1(True) & 0(False)，因此 sum 经常被用来对于布尔型数组中的True值计数\n",
        "\n",
        "* ```any```用于测试数组中是否存在一个或多个 True, ```all```检查数组中是否所有值都是True; 也可以用于非布尔型数组，所有非 0 元素将会被当做True\n"
      ],
      "metadata": {
        "id": "zi6mMp6lF0CC"
      }
    },
    {
      "cell_type": "code",
      "source": [
        "arr = np.random.randn(100)\n",
        "(arr > 0).sum() # numbers of positive values "
      ],
      "metadata": {
        "colab": {
          "base_uri": "https://localhost:8080/"
        },
        "id": "6DlcfYEojwQm",
        "outputId": "dd331dda-8c54-4fbe-be6a-671c31bc4f5f"
      },
      "execution_count": 60,
      "outputs": [
        {
          "output_type": "execute_result",
          "data": {
            "text/plain": [
              "54"
            ]
          },
          "metadata": {},
          "execution_count": 60
        }
      ]
    },
    {
      "cell_type": "code",
      "source": [
        "bools = np.array([False, False, True, False])\n",
        "print(bools.any())\n",
        "print(bools.all())"
      ],
      "metadata": {
        "colab": {
          "base_uri": "https://localhost:8080/"
        },
        "id": "2UcGjQBHj6gS",
        "outputId": "cb7735eb-c64e-4022-eaaf-cdc678f2de44"
      },
      "execution_count": 61,
      "outputs": [
        {
          "output_type": "stream",
          "name": "stdout",
          "text": [
            "True\n",
            "False\n"
          ]
        }
      ]
    },
    {
      "cell_type": "markdown",
      "source": [
        "### 排序\n",
        "可以通过```sort```方法进行就地排序   \n",
        "多维数组可以在任何一个轴上进行排序，只需将轴编号传给sort即可   \n",
        "顶级方法```np.sort```返回的数组是已排序副本，而就地排序则会修改数组本身；   \n",
        "计算数组分位数最简单的方法就是对其进行排序，然后选取特定位置的值"
      ],
      "metadata": {
        "id": "9ha14p4tkWJV"
      }
    },
    {
      "cell_type": "code",
      "source": [
        "arr = np.random.randn(6)\n",
        "print(arr)\n",
        "arr.sort()\n",
        "print(arr)"
      ],
      "metadata": {
        "colab": {
          "base_uri": "https://localhost:8080/"
        },
        "id": "58WNvEFMkc0R",
        "outputId": "55f93486-831c-45b2-d526-decbfa8402eb"
      },
      "execution_count": 62,
      "outputs": [
        {
          "output_type": "stream",
          "name": "stdout",
          "text": [
            "[ 0.50329865  0.61273649 -0.04781705 -1.47819311 -0.24038144 -0.5015626 ]\n",
            "[-1.47819311 -0.5015626  -0.24038144 -0.04781705  0.50329865  0.61273649]\n"
          ]
        }
      ]
    },
    {
      "cell_type": "code",
      "source": [
        "arr = np.random.randn(5, 3)\n",
        "arr.sort(1)\n",
        "print(arr)"
      ],
      "metadata": {
        "colab": {
          "base_uri": "https://localhost:8080/"
        },
        "id": "-LCYOJMbklYR",
        "outputId": "d17b9574-f722-4edd-e502-80597cb21357"
      },
      "execution_count": 63,
      "outputs": [
        {
          "output_type": "stream",
          "name": "stdout",
          "text": [
            "[[-0.58893493 -0.31815744 -0.236303  ]\n",
            " [ 0.91996482  0.97774726  1.26716708]\n",
            " [-0.46683481  0.02925799  1.09456784]\n",
            " [ 0.22685308  1.25897147  2.69723741]\n",
            " [-0.38609353  0.76203544  1.42398432]]\n"
          ]
        }
      ]
    },
    {
      "cell_type": "code",
      "source": [
        "large_arr = np.random.randn(10000)\n",
        "large_arr.sort()\n",
        "large_arr[int(0.05 * len(large_arr))] # 5% quantile "
      ],
      "metadata": {
        "colab": {
          "base_uri": "https://localhost:8080/"
        },
        "id": "hwCDYzZXl9N6",
        "outputId": "503022ca-b69f-45c5-9ca4-132fc412ff79"
      },
      "execution_count": 64,
      "outputs": [
        {
          "output_type": "execute_result",
          "data": {
            "text/plain": [
              "-1.6797454291551832"
            ]
          },
          "metadata": {},
          "execution_count": 64
        }
      ]
    },
    {
      "cell_type": "markdown",
      "source": [
        "### 唯一化以及其他的集合逻辑\n",
        "```np.unique``` 用于找出数组中的唯一值并返回已排序的结果   \n",
        "```np.in1d```用于测试一个数组中的值在另一个数组中的成员资格，返回一个布尔型数组"
      ],
      "metadata": {
        "id": "eVl1qz7ZmLDV"
      }
    },
    {
      "cell_type": "code",
      "source": [
        "names = np.array(['Bob', 'Joe', 'Will', 'Bob','Will', 'Joe', 'Joe'])\n",
        "print(np.unique(names))\n",
        "\n",
        "ints = np.array([3,3,3,3,3,2,2,4,4])\n",
        "print(np.unique(ints))"
      ],
      "metadata": {
        "colab": {
          "base_uri": "https://localhost:8080/"
        },
        "id": "DH4pZ9iemTNL",
        "outputId": "26c24ba0-3f57-48f2-b7d9-bffd5749d0c0"
      },
      "execution_count": 65,
      "outputs": [
        {
          "output_type": "stream",
          "name": "stdout",
          "text": [
            "['Bob' 'Joe' 'Will']\n",
            "[2 3 4]\n"
          ]
        }
      ]
    },
    {
      "cell_type": "code",
      "source": [
        "values = np.array([6,0,0,3,2,5,6])\n",
        "np.in1d(values, [2,3,6])\n"
      ],
      "metadata": {
        "colab": {
          "base_uri": "https://localhost:8080/"
        },
        "id": "78rWdk30m0Mq",
        "outputId": "826f2d45-cf27-4738-a284-059fc38e20f1"
      },
      "execution_count": 66,
      "outputs": [
        {
          "output_type": "execute_result",
          "data": {
            "text/plain": [
              "array([ True, False, False,  True,  True, False,  True])"
            ]
          },
          "metadata": {},
          "execution_count": 66
        }
      ]
    },
    {
      "cell_type": "markdown",
      "source": [
        "* ```unique(x)```: 计算x中的唯一元素，并返回有序结果\n",
        "* ```intersect1d(x,y)```: 计算x和y中的公共元素，并返回有序结果\n",
        "* ```union1d(x,y)```: 计算x和y的并集，并返回有序结果\n",
        "* ```in1d(x,y)```:得到一个表示 ”x的元素是够包含于y“ 的布尔型数组\n",
        "* ```setdiff1d(x,y)```: 集合的差，及元素在x但不在y中\n",
        "* ```setxor1d(x,y)```: 集合的对称差，及存在于一个数组中但不同时存在于两个数组中的元素"
      ],
      "metadata": {
        "id": "dm61lLZWm-m0"
      }
    },
    {
      "cell_type": "markdown",
      "source": [
        "## **4. 用于数组的文件输入输出**\n",
        "Numpy 能够读写磁盘上的文本数据 or 二进制数组   \n",
        "```np.save, np.load```是读写磁盘数组数据的两个主要函数，默认情况下数组是以未压缩的原始二进制格式保存在扩展名为.npy的文件中\n",
        "\n",
        "```np.savez```可以将多个数组保存到一个未压缩文件中，将数组以关键字参数的形式传入即可\n",
        "\n",
        "如果要将数组压缩，可以使用```numpy.savez_compressed```\n"
      ],
      "metadata": {
        "id": "KUNkAiCUoB4s"
      }
    },
    {
      "cell_type": "markdown",
      "source": [
        "## **5. 线性代数**\n",
        "矩阵乘法，矩阵分解，行列式等，numpy提供一个用于矩阵乘法的 dot 函数，即是一个数组方法也是numpy命名空间中的一个函数\n",
        "\n",
        "```x.dot(y) == np.dot(x,y)```    \n",
        "\n",
        "一个二维数组跟一个大小合适的一维数组的矩阵点积运算之后将会得到一个一维数组\n",
        "\n",
        "@符号也可以用作中缀运算符，进行矩阵乘法"
      ],
      "metadata": {
        "id": "H_2govRuuAI9"
      }
    },
    {
      "cell_type": "code",
      "source": [
        "x = np.array([[1.,2.,3.],[4.,5.,6.]])\n",
        "y = np.array([[6.,23.],[-1,7],[8,9]])\n",
        "print(x.dot(y))\n",
        "print(np.dot(x,y))"
      ],
      "metadata": {
        "colab": {
          "base_uri": "https://localhost:8080/"
        },
        "id": "xY8-N0szuaUb",
        "outputId": "05a3ebe1-4451-4dfa-ba2c-4244cd814221"
      },
      "execution_count": 67,
      "outputs": [
        {
          "output_type": "stream",
          "name": "stdout",
          "text": [
            "[[ 28.  64.]\n",
            " [ 67. 181.]]\n",
            "[[ 28.  64.]\n",
            " [ 67. 181.]]\n"
          ]
        }
      ]
    },
    {
      "cell_type": "code",
      "source": [
        "print(np.dot(x, np.ones(3)))\n",
        "print(x @ np.ones(3))"
      ],
      "metadata": {
        "colab": {
          "base_uri": "https://localhost:8080/"
        },
        "id": "LmKjtsWvu9Ia",
        "outputId": "cc6bc5c2-03d1-4ca2-93bf-661dff2c104a"
      },
      "execution_count": 68,
      "outputs": [
        {
          "output_type": "stream",
          "name": "stdout",
          "text": [
            "[ 6. 15.]\n",
            "[ 6. 15.]\n"
          ]
        }
      ]
    },
    {
      "cell_type": "markdown",
      "source": [
        "```numpy.linalg```中有一次校准的矩阵分解运算以及如求逆和行列式等函数"
      ],
      "metadata": {
        "id": "w1nqyFmgvGRP"
      }
    },
    {
      "cell_type": "code",
      "source": [
        "from numpy.linalg import inv, qr\n",
        "X = np.random.randn(5,5)\n",
        "mat = X.T.dot(X) # 计算X和转置 X.T 的点积\n",
        "print(inv(mat))\n",
        "\n",
        "print(mat.dot(inv(mat)))\n",
        "\n",
        "q,r = qr(mat)\n",
        "print(r)"
      ],
      "metadata": {
        "colab": {
          "base_uri": "https://localhost:8080/"
        },
        "id": "2nGXgdRovM49",
        "outputId": "6f4816ba-3dbd-4c2f-b0b8-ed3ae6036300"
      },
      "execution_count": 69,
      "outputs": [
        {
          "output_type": "stream",
          "name": "stdout",
          "text": [
            "[[ 0.45382358  0.5063119  -0.51594184 -0.01295113 -0.16199344]\n",
            " [ 0.5063119   4.20000355 -3.78280596  1.81171681 -0.64224577]\n",
            " [-0.51594184 -3.78280596  3.61943033 -1.60358187  0.55949832]\n",
            " [-0.01295113  1.81171681 -1.60358187  1.26025214 -0.31185953]\n",
            " [-0.16199344 -0.64224577  0.55949832 -0.31185953  0.3106672 ]]\n",
            "[[ 1.00000000e+00  4.93947500e-16 -2.96790281e-16 -1.10646963e-16\n",
            "  -1.49148095e-16]\n",
            " [ 4.18062007e-16  1.00000000e+00 -2.69567765e-15  1.71481211e-15\n",
            "  -6.39159632e-16]\n",
            " [-1.84136670e-16  1.24433087e-15  1.00000000e+00  3.67728458e-16\n",
            "  -3.75145316e-16]\n",
            " [ 1.88256832e-16  1.36842603e-16 -6.74484039e-16  1.00000000e+00\n",
            "   1.47545327e-17]\n",
            " [ 1.44227320e-16 -5.78200056e-17  5.88406964e-16  2.67061404e-16\n",
            "   1.00000000e+00]]\n",
            "[[-5.76482716 -0.6039236  -2.44678449 -3.86549975 -5.0200519 ]\n",
            " [ 0.         -6.73086179 -6.40114434  1.37122397 -1.31355054]\n",
            " [ 0.          0.         -1.06556137 -1.26847969  2.45463961]\n",
            " [ 0.          0.          0.         -1.22166469 -3.29286788]\n",
            " [ 0.          0.          0.          0.          1.02840046]]\n"
          ]
        }
      ]
    },
    {
      "cell_type": "markdown",
      "source": [
        "* ```diag```: 以一维数组的形式返回方阵的对角线（or 非对角线）元素，或将一维数组转换为方阵（非对角线元素为0）\n",
        "* ```dot```: 矩阵乘法\n",
        "* ```trace```: 计算对角线元素的和\n",
        "* ```det```: 计算矩阵行列式\n",
        "* ```eig```: 计算方阵的本征值和本证向量\n",
        "* ```inv```: 计算方阵的逆\n",
        "* ```pinv```: 计算矩阵的额Moore-Penrose 伪逆\n",
        "* ```qr```: 计算QR分解\n",
        "* ```svd```: 计算奇异值分解(SVD) \n",
        "* ```solve```: 解线性方程组 Ax=b, 其中A为一个方阵\n",
        "* ```lstsq```: 计算 Ax = b 的最小二乘解"
      ],
      "metadata": {
        "id": "zeWPaiMLvijc"
      }
    },
    {
      "cell_type": "markdown",
      "source": [
        "## **6. 伪随机数生成**\n",
        "```numpy.random```对于Python内置的random进行补充，增加了一些用于高效生成多种概率分布的样本值的函数\n",
        "\n",
        "伪随机数: 通过算法基于随机数生成器种子，在确定性的条件下生成的，可以用```np.random.seed```更改随机数生成种子"
      ],
      "metadata": {
        "id": "fTbJ5vW1yyDq"
      }
    },
    {
      "cell_type": "code",
      "source": [
        "# 使用normal来得到一个标准正态分布的 4 x 4 样本数组\n",
        "samples = np.random.normal(size=(4,4)) \n",
        "samples "
      ],
      "metadata": {
        "colab": {
          "base_uri": "https://localhost:8080/"
        },
        "id": "HaiEdGmKy_uX",
        "outputId": "d0af86aa-166a-42e7-ee14-4c4d1769b94e"
      },
      "execution_count": 70,
      "outputs": [
        {
          "output_type": "execute_result",
          "data": {
            "text/plain": [
              "array([[ 1.41974702,  0.70749316,  0.15578424,  0.17569526],\n",
              "       [ 1.28169371,  1.62128217,  0.90689364, -2.26751643],\n",
              "       [ 0.69353557,  0.37671718,  1.57316435,  0.59046573],\n",
              "       [ 0.14024132,  1.31375257, -0.8300153 , -0.12373386]])"
            ]
          },
          "metadata": {},
          "execution_count": 70
        }
      ]
    },
    {
      "cell_type": "code",
      "source": [
        "from random import normalvariate\n",
        "N = 10000000 \n",
        "%timeit samples = [normalvariate(0,1) for _ in range(N)]"
      ],
      "metadata": {
        "colab": {
          "base_uri": "https://localhost:8080/"
        },
        "id": "m-ZwRxaT1FgO",
        "outputId": "3b2434a7-91fb-4582-835a-50dcc2ab1e1e"
      },
      "execution_count": 71,
      "outputs": [
        {
          "output_type": "stream",
          "name": "stdout",
          "text": [
            "12.2 s ± 1.56 s per loop (mean ± std. dev. of 7 runs, 1 loop each)\n"
          ]
        }
      ]
    },
    {
      "cell_type": "code",
      "source": [
        "%timeit np.random.normal(size=N)"
      ],
      "metadata": {
        "colab": {
          "base_uri": "https://localhost:8080/"
        },
        "id": "sdlkCgfF7NOa",
        "outputId": "f8739911-6574-4129-d1ef-a844b60019e4"
      },
      "execution_count": 72,
      "outputs": [
        {
          "output_type": "stream",
          "name": "stdout",
          "text": [
            "538 ms ± 109 ms per loop (mean ± std. dev. of 7 runs, 1 loop each)\n"
          ]
        }
      ]
    },
    {
      "cell_type": "markdown",
      "source": [
        "```numpy.random```的数据成圣函数使用了全局的随机种子，要避免全局状态，可以使用```numpy.random.RandomState```创建一个与其他隔离的随机数生成器"
      ],
      "metadata": {
        "id": "flANthe47tGY"
      }
    },
    {
      "cell_type": "code",
      "source": [
        "rng = np.random.RandomState(1234)\n",
        "rng.randn(10)"
      ],
      "metadata": {
        "colab": {
          "base_uri": "https://localhost:8080/"
        },
        "id": "AUfpQBUd7pcl",
        "outputId": "20fe4824-9822-4953-f518-687bd1eae669"
      },
      "execution_count": 73,
      "outputs": [
        {
          "output_type": "execute_result",
          "data": {
            "text/plain": [
              "array([ 0.47143516, -1.19097569,  1.43270697, -0.3126519 , -0.72058873,\n",
              "        0.88716294,  0.85958841, -0.6365235 ,  0.01569637, -2.24268495])"
            ]
          },
          "metadata": {},
          "execution_count": 73
        }
      ]
    },
    {
      "cell_type": "markdown",
      "source": [
        "* ```seed```: 确定随机数生成器的种子\n",
        "* ```permutation```: 返回一个序列的随机排列或返回一个随机排列的范围\n",
        "* ```shuffle```: 对一个序列就地随机排列\n",
        "* ```rand```: 产生均匀分布的样本值\n",
        "* ```randint```: 从给定的上下限范围内随机选取整数\n",
        "* ```randn```: 产生正态分布(mean=1, std=1)的样本值\n",
        "* ```binomial```: 产生二项分布的样本值\n",
        "* ```normal```: 产生正态(高斯)分布\n",
        "* ```beta```: 产生Beta分布 \n",
        "* ```chisquare```: 产生卡方分布\n",
        "* ```gamma```: 产生Gamma分布\n",
        "* ```uniform````: 产生在[0,1) 中均匀分布的样本值"
      ],
      "metadata": {
        "id": "5ksR6AD978je"
      }
    },
    {
      "cell_type": "markdown",
      "source": [
        "## **7. example: 随机漫步**\n",
        "简单的随机漫步: 从0开始，步长 1 和 -1 出现的概率相等\n",
        "\n",
        "\n"
      ],
      "metadata": {
        "id": "VZwxkIlg82uI"
      }
    },
    {
      "cell_type": "code",
      "source": [
        "import random \n",
        "position = 0 \n",
        "walk = [position]\n",
        "steps = 1000 \n",
        "for i in range(steps):\n",
        "  step = 1 if random.randint(0,1) else -1 \n",
        "  position += step \n",
        "  walk.append(position)"
      ],
      "metadata": {
        "id": "U7WO1Ol3n2_m"
      },
      "execution_count": 77,
      "outputs": []
    },
    {
      "cell_type": "code",
      "source": [
        "nsteps = 1000\n",
        "draws = np.random.randint(0,2,size=nsteps)\n",
        "steps = np.where(draws > 0, 1, -1)\n",
        "walk = steps.cumsum()\n",
        "\n",
        "print(walk.min())\n",
        "print(walk.max())"
      ],
      "metadata": {
        "colab": {
          "base_uri": "https://localhost:8080/"
        },
        "id": "Ey6KbbLTo2DZ",
        "outputId": "32b32e9e-cb66-4f3f-c803-c7405085edb6"
      },
      "execution_count": 79,
      "outputs": [
        {
          "output_type": "stream",
          "name": "stdout",
          "text": [
            "-33\n",
            "9\n"
          ]
        }
      ]
    },
    {
      "cell_type": "markdown",
      "source": [
        "随机漫步过程中第一次到达某个特定值的时间\n",
        "1. ```np.abs(walk) >= 10``` 可以得到一个布尔型数组，他表示的是距离是否达到或超过10 \n",
        "2. ```argmax``` 返回该布尔型数组第一个最大值的索引, 他无论如何都会对数组进行完全扫描"
      ],
      "metadata": {
        "id": "ula-Kc3yoxff"
      }
    },
    {
      "cell_type": "code",
      "source": [
        "(np.abs(walk) >= 10).argmax()"
      ],
      "metadata": {
        "colab": {
          "base_uri": "https://localhost:8080/"
        },
        "id": "WDDSFtLKpdH8",
        "outputId": "f017de23-5ffa-42e5-d073-ea0e90f2fb88"
      },
      "execution_count": 80,
      "outputs": [
        {
          "output_type": "execute_result",
          "data": {
            "text/plain": [
              "51"
            ]
          },
          "metadata": {},
          "execution_count": 80
        }
      ]
    },
    {
      "cell_type": "markdown",
      "source": [
        "#### 一次模拟多个随机漫步\n"
      ],
      "metadata": {
        "id": "f0A_crnkpnRZ"
      }
    },
    {
      "cell_type": "code",
      "source": [
        "nwalks = 5000 \n",
        "nsteps = 1000\n",
        "draws = np.random.randint(0, 2, size=(nwalks, nsteps)) # 0 or 1\n",
        "steps = np.where(draws > 0, 1, -1)\n",
        "walks = steps.cumsum(1)\n",
        "print(walks)\n",
        "print(walks.max())\n",
        "print(walks.min())"
      ],
      "metadata": {
        "colab": {
          "base_uri": "https://localhost:8080/"
        },
        "id": "Jq1fpIrIpmqF",
        "outputId": "df154e6d-700b-4643-c46f-7692e0761ba6"
      },
      "execution_count": 83,
      "outputs": [
        {
          "output_type": "stream",
          "name": "stdout",
          "text": [
            "[[ -1  -2  -3 ... -30 -31 -30]\n",
            " [ -1  -2  -1 ...  14  13  14]\n",
            " [ -1   0   1 ... -10  -9 -10]\n",
            " ...\n",
            " [  1   0   1 ... -26 -27 -26]\n",
            " [  1   2   3 ... -60 -61 -62]\n",
            " [  1   0  -1 ... -50 -51 -52]]\n",
            "109\n",
            "-121\n"
          ]
        }
      ]
    },
    {
      "cell_type": "code",
      "source": [
        "hits30 = (np.abs(walks) >= 30).any(1)\n",
        "print(hits30)\n",
        "print(hits30.sum())\n",
        "\n",
        "# 时间\n",
        "crossing_times = (np.abs(walks[hits30]) >= 30).argmax(1)\n",
        "print(crossing_times.mean())"
      ],
      "metadata": {
        "colab": {
          "base_uri": "https://localhost:8080/"
        },
        "id": "FTnUVyu6qE49",
        "outputId": "d2803834-00bb-4045-e980-b59e070a84db"
      },
      "execution_count": 85,
      "outputs": [
        {
          "output_type": "stream",
          "name": "stdout",
          "text": [
            "[ True False  True ...  True  True  True]\n",
            "3400\n",
            "502.5270588235294\n"
          ]
        }
      ]
    },
    {
      "cell_type": "code",
      "source": [
        "# normal分布\n",
        "steps = np.random.normal(loc=0, scale=0.25, size=(nwalks, nsteps))"
      ],
      "metadata": {
        "id": "5XybtM--qeFN"
      },
      "execution_count": 86,
      "outputs": []
    }
  ]
}